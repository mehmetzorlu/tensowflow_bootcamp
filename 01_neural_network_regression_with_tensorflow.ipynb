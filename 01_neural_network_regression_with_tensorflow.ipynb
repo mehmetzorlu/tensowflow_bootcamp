{
  "nbformat": 4,
  "nbformat_minor": 0,
  "metadata": {
    "colab": {
      "provenance": [],
      "authorship_tag": "ABX9TyPnCcf7A8Viki2d6eeja3G7"
    },
    "kernelspec": {
      "name": "python3",
      "display_name": "Python 3"
    },
    "language_info": {
      "name": "python"
    }
  },
  "cells": [
    {
      "cell_type": "markdown",
      "source": [
        "# Introduction to Regression with Neural Networks in Tensorflow\n",
        "\n",
        "There  are many definitions for a regression problem but in our case, we're going to simplify it: predicting a numerical variable based on some other combination of variables, even shorter... predicting a  number.\n"
      ],
      "metadata": {
        "id": "eS9pbVvGVTxK"
      }
    },
    {
      "cell_type": "code",
      "source": [
        "# Import TensorFlow\n",
        "import tensorflow as tf\n",
        "print(tf.__version__)"
      ],
      "metadata": {
        "colab": {
          "base_uri": "https://localhost:8080/"
        },
        "id": "VKBa0KepWOaR",
        "outputId": "38753f02-5fb7-4e6c-febe-465696d4f9e5"
      },
      "execution_count": 1,
      "outputs": [
        {
          "output_type": "stream",
          "name": "stdout",
          "text": [
            "2.18.0\n"
          ]
        }
      ]
    },
    {
      "cell_type": "markdown",
      "source": [
        "## Creating data to view and fit"
      ],
      "metadata": {
        "id": "eUiAQCAMWhwl"
      }
    },
    {
      "cell_type": "code",
      "source": [
        "import numpy as np\n",
        "import matplotlib.pyplot as plt\n",
        "\n",
        "# Create features\n",
        "X = np.array([-7.0, -4.0, -1.0, 2.0, 5.0, 8.0, 11.0, 14.0])\n",
        "\n",
        "# Create labels\n",
        "y = np.array([3.0, 6.0, 9.0, 12.0, 15.0, 18.0, 21.0, 24.0])\n",
        "\n",
        "# Visualize it\n",
        "plt.scatter(X, y)\n"
      ],
      "metadata": {
        "colab": {
          "base_uri": "https://localhost:8080/",
          "height": 452
        },
        "id": "18BbBcrHWlL0",
        "outputId": "1cd5ae4c-6adf-49e7-b696-16cec67d11f4"
      },
      "execution_count": 2,
      "outputs": [
        {
          "output_type": "execute_result",
          "data": {
            "text/plain": [
              "<matplotlib.collections.PathCollection at 0x7baf4b229990>"
            ]
          },
          "metadata": {},
          "execution_count": 2
        },
        {
          "output_type": "display_data",
          "data": {
            "text/plain": [
              "<Figure size 640x480 with 1 Axes>"
            ],
            "image/png": "[encoded data removed]"
          },
          "metadata": {}
        }
      ]
    },
    {
      "cell_type": "code",
      "source": [
        "y == X + 10"
      ],
      "metadata": {
        "colab": {
          "base_uri": "https://localhost:8080/"
        },
        "id": "DP6BopfhXwKu",
        "outputId": "8a74a61a-2096-425a-dddd-b6cde693c051"
      },
      "execution_count": 3,
      "outputs": [
        {
          "output_type": "execute_result",
          "data": {
            "text/plain": [
              "array([ True,  True,  True,  True,  True,  True,  True,  True])"
            ]
          },
          "metadata": {},
          "execution_count": 3
        }
      ]
    },
    {
      "cell_type": "markdown",
      "source": [
        "## Input and output shapes"
      ],
      "metadata": {
        "id": "kvOVTM4wX9_Y"
      }
    },
    {
      "cell_type": "code",
      "source": [
        "# Create a  demo tensor for our housing price prediciton problem\n",
        "house_info = tf.constant([\"bedroom\", \"bathroom\", \"garage\"])\n",
        "house_price = tf.constant([939700])\n",
        "house_info, house_price\n"
      ],
      "metadata": {
        "colab": {
          "base_uri": "https://localhost:8080/"
        },
        "id": "HRvGhbu_YBn_",
        "outputId": "c68ad284-d865-4df4-a5a2-6d394451603b"
      },
      "execution_count": 4,
      "outputs": [
        {
          "output_type": "execute_result",
          "data": {
            "text/plain": [
              "(<tf.Tensor: shape=(3,), dtype=string, numpy=array([b'bedroom', b'bathroom', b'garage'], dtype=object)>,\n",
              " <tf.Tensor: shape=(1,), dtype=int32, numpy=array([939700], dtype=int32)>)"
            ]
          },
          "metadata": {},
          "execution_count": 4
        }
      ]
    },
    {
      "cell_type": "code",
      "source": [
        "X[0], y[0]"
      ],
      "metadata": {
        "colab": {
          "base_uri": "https://localhost:8080/"
        },
        "id": "Zm5avkfXY6Y1",
        "outputId": "7e377660-2d12-43de-bd86-ff430441266c"
      },
      "execution_count": 5,
      "outputs": [
        {
          "output_type": "execute_result",
          "data": {
            "text/plain": [
              "(-7.0, 3.0)"
            ]
          },
          "metadata": {},
          "execution_count": 5
        }
      ]
    },
    {
      "cell_type": "code",
      "source": [
        "X[1], y[1]"
      ],
      "metadata": {
        "colab": {
          "base_uri": "https://localhost:8080/"
        },
        "id": "czq0qRkkY9C2",
        "outputId": "9d44a097-e91b-4af3-c2aa-1ea507af9184"
      },
      "execution_count": 6,
      "outputs": [
        {
          "output_type": "execute_result",
          "data": {
            "text/plain": [
              "(-4.0, 6.0)"
            ]
          },
          "metadata": {},
          "execution_count": 6
        }
      ]
    },
    {
      "cell_type": "code",
      "source": [
        "input_shape = X.shape\n",
        "output_shape = y.shape\n",
        "input_shape, output_shape"
      ],
      "metadata": {
        "colab": {
          "base_uri": "https://localhost:8080/"
        },
        "id": "0x7q8TVdY-7y",
        "outputId": "a070b50a-bd97-445e-e253-5d7b06c77064"
      },
      "execution_count": 7,
      "outputs": [
        {
          "output_type": "execute_result",
          "data": {
            "text/plain": [
              "((8,), (8,))"
            ]
          },
          "metadata": {},
          "execution_count": 7
        }
      ]
    },
    {
      "cell_type": "code",
      "source": [
        "X[0].ndim"
      ],
      "metadata": {
        "colab": {
          "base_uri": "https://localhost:8080/"
        },
        "id": "SnVzhaS5ZadL",
        "outputId": "23885d41-354d-4763-babc-2e8d8980ac78"
      },
      "execution_count": 8,
      "outputs": [
        {
          "output_type": "execute_result",
          "data": {
            "text/plain": [
              "0"
            ]
          },
          "metadata": {},
          "execution_count": 8
        }
      ]
    },
    {
      "cell_type": "code",
      "source": [
        "# turn our NumPy arrays into tensors\n",
        "X = tf.cast(tf.constant(X), dtype=tf.float32)\n",
        "y = tf.cast(tf.constant(y), dtype=tf.float32)\n",
        "X, y"
      ],
      "metadata": {
        "colab": {
          "base_uri": "https://localhost:8080/"
        },
        "id": "FXpMVIHmZ992",
        "outputId": "183472f1-5221-4449-809b-27e318c4de79"
      },
      "execution_count": 9,
      "outputs": [
        {
          "output_type": "execute_result",
          "data": {
            "text/plain": [
              "(<tf.Tensor: shape=(8,), dtype=float32, numpy=array([-7., -4., -1.,  2.,  5.,  8., 11., 14.], dtype=float32)>,\n",
              " <tf.Tensor: shape=(8,), dtype=float32, numpy=array([ 3.,  6.,  9., 12., 15., 18., 21., 24.], dtype=float32)>)"
            ]
          },
          "metadata": {},
          "execution_count": 9
        }
      ]
    },
    {
      "cell_type": "code",
      "source": [
        "input_shape = X[0].shape\n",
        "output_shape = y[0].shape\n",
        "input_shape, output_shape"
      ],
      "metadata": {
        "colab": {
          "base_uri": "https://localhost:8080/"
        },
        "id": "e5wXtx1saMhv",
        "outputId": "ba4de1b8-72ca-4a37-8886-07564ebfb95e"
      },
      "execution_count": 10,
      "outputs": [
        {
          "output_type": "execute_result",
          "data": {
            "text/plain": [
              "(TensorShape([]), TensorShape([]))"
            ]
          },
          "metadata": {},
          "execution_count": 10
        }
      ]
    },
    {
      "cell_type": "code",
      "source": [
        "plt.scatter(X, y)"
      ],
      "metadata": {
        "colab": {
          "base_uri": "https://localhost:8080/",
          "height": 452
        },
        "id": "TEwxjQNsc94S",
        "outputId": "c27b9493-83ab-42c6-e352-3a616e86abea"
      },
      "execution_count": 11,
      "outputs": [
        {
          "output_type": "execute_result",
          "data": {
            "text/plain": [
              "<matplotlib.collections.PathCollection at 0x7baf48d393d0>"
            ]
          },
          "metadata": {},
          "execution_count": 11
        },
        {
          "output_type": "display_data",
          "data": {
            "text/plain": [
              "<Figure size 640x480 with 1 Axes>"
            ],
            "image/png": "[encoded data removed]"
          },
          "metadata": {}
        }
      ]
    },
    {
      "cell_type": "markdown",
      "source": [
        "## Steps in modeling with TensorFlow\n",
        "\n",
        "1. **Creating a model** - define the input and output layers, as well as the hidden layers of a deep learnign model.\n",
        "2. **Compiling a  model** - define the loss function (in other words, the function which tells our model how wrong it is) and the optimizer (tells our model how to improve the patterns its learning) and evaluation metrics (what we can use to interpret the performance of our model).\n",
        "3. **Fitting a model** - letting the model try to find patterns between X & y"
      ],
      "metadata": {
        "id": "Sux5CEzn1H2M"
      }
    },
    {
      "cell_type": "code",
      "source": [
        "# Set random seed\n",
        "tf.random.set_seed(42)\n",
        "\n",
        "# 1. Create a model using the Sequential API\n",
        "model = tf.keras.Sequential([\n",
        "    tf.keras.layers.Dense(1)\n",
        "])\n",
        "\n",
        "# 2. Compile the model\n",
        "model.compile(loss=tf.keras.losses.mae, # mae is short for mean absolute error\n",
        "              optimizer=tf.keras.optimizers.SGD(), # sgd is short for stochastic gradient descent\n",
        "              metrics=[\"mae\"])\n",
        "\n",
        "# 3. Fit the model\n",
        "model.fit(tf.expand_dims(X, axis=-1), y, epochs=10)"
      ],
      "metadata": {
        "colab": {
          "base_uri": "https://localhost:8080/"
        },
        "id": "XPAKKVW21VAt",
        "outputId": "15ad304e-bab0-4fa7-b91b-1ddddb8b1c60"
      },
      "execution_count": 12,
      "outputs": [
        {
          "output_type": "stream",
          "name": "stdout",
          "text": [
            "Epoch 1/10\n",
            "\u001b[1m1/1\u001b[0m \u001b[32m━━━━━━━━━━━━━━━━━━━━\u001b[0m\u001b[37m\u001b[0m \u001b[1m3s\u001b[0m 3s/step - loss: 20.0496 - mae: 20.0496\n",
            "Epoch 2/10\n",
            "\u001b[1m1/1\u001b[0m \u001b[32m━━━━━━━━━━━━━━━━━━━━\u001b[0m\u001b[37m\u001b[0m \u001b[1m0s\u001b[0m 196ms/step - loss: 19.7684 - mae: 19.7684\n",
            "Epoch 3/10\n",
            "\u001b[1m1/1\u001b[0m \u001b[32m━━━━━━━━━━━━━━━━━━━━\u001b[0m\u001b[37m\u001b[0m \u001b[1m0s\u001b[0m 312ms/step - loss: 19.4871 - mae: 19.4871\n",
            "Epoch 4/10\n",
            "\u001b[1m1/1\u001b[0m \u001b[32m━━━━━━━━━━━━━━━━━━━━\u001b[0m\u001b[37m\u001b[0m \u001b[1m0s\u001b[0m 125ms/step - loss: 19.2059 - mae: 19.2059\n",
            "Epoch 5/10\n",
            "\u001b[1m1/1\u001b[0m \u001b[32m━━━━━━━━━━━━━━━━━━━━\u001b[0m\u001b[37m\u001b[0m \u001b[1m0s\u001b[0m 377ms/step - loss: 18.9246 - mae: 18.9246\n",
            "Epoch 6/10\n",
            "\u001b[1m1/1\u001b[0m \u001b[32m━━━━━━━━━━━━━━━━━━━━\u001b[0m\u001b[37m\u001b[0m \u001b[1m0s\u001b[0m 276ms/step - loss: 18.6434 - mae: 18.6434\n",
            "Epoch 7/10\n",
            "\u001b[1m1/1\u001b[0m \u001b[32m━━━━━━━━━━━━━━━━━━━━\u001b[0m\u001b[37m\u001b[0m \u001b[1m0s\u001b[0m 230ms/step - loss: 18.3621 - mae: 18.3621\n",
            "Epoch 8/10\n",
            "\u001b[1m1/1\u001b[0m \u001b[32m━━━━━━━━━━━━━━━━━━━━\u001b[0m\u001b[37m\u001b[0m \u001b[1m0s\u001b[0m 176ms/step - loss: 18.0809 - mae: 18.0809\n",
            "Epoch 9/10\n",
            "\u001b[1m1/1\u001b[0m \u001b[32m━━━━━━━━━━━━━━━━━━━━\u001b[0m\u001b[37m\u001b[0m \u001b[1m0s\u001b[0m 202ms/step - loss: 17.7996 - mae: 17.7996\n",
            "Epoch 10/10\n",
            "\u001b[1m1/1\u001b[0m \u001b[32m━━━━━━━━━━━━━━━━━━━━\u001b[0m\u001b[37m\u001b[0m \u001b[1m0s\u001b[0m 72ms/step - loss: 17.5183 - mae: 17.5183\n"
          ]
        },
        {
          "output_type": "execute_result",
          "data": {
            "text/plain": [
              "<keras.src.callbacks.history.History at 0x7baf48dbd790>"
            ]
          },
          "metadata": {},
          "execution_count": 12
        }
      ]
    },
    {
      "cell_type": "code",
      "source": [
        "# Check out X and y\n",
        "X, y"
      ],
      "metadata": {
        "colab": {
          "base_uri": "https://localhost:8080/"
        },
        "id": "hMUr-yew5AjI",
        "outputId": "c31fd468-b21c-4b46-a8a9-0653e9c7e2b8"
      },
      "execution_count": 13,
      "outputs": [
        {
          "output_type": "execute_result",
          "data": {
            "text/plain": [
              "(<tf.Tensor: shape=(8,), dtype=float32, numpy=array([-7., -4., -1.,  2.,  5.,  8., 11., 14.], dtype=float32)>,\n",
              " <tf.Tensor: shape=(8,), dtype=float32, numpy=array([ 3.,  6.,  9., 12., 15., 18., 21., 24.], dtype=float32)>)"
            ]
          },
          "metadata": {},
          "execution_count": 13
        }
      ]
    },
    {
      "cell_type": "code",
      "source": [
        "# Try and make a prediction using our model\n",
        "y_pred = model.predict(tf.expand_dims([17.0], axis=-1))\n",
        "y_pred"
      ],
      "metadata": {
        "colab": {
          "base_uri": "https://localhost:8080/"
        },
        "id": "SIkuK-AP5KiS",
        "outputId": "53b5062e-decf-4628-f414-52c11b821ce2"
      },
      "execution_count": 14,
      "outputs": [
        {
          "output_type": "stream",
          "name": "stdout",
          "text": [
            "\u001b[1m1/1\u001b[0m \u001b[32m━━━━━━━━━━━━━━━━━━━━\u001b[0m\u001b[37m\u001b[0m \u001b[1m0s\u001b[0m 80ms/step\n"
          ]
        },
        {
          "output_type": "execute_result",
          "data": {
            "text/plain": [
              "array([[-14.636802]], dtype=float32)"
            ]
          },
          "metadata": {},
          "execution_count": 14
        }
      ]
    },
    {
      "cell_type": "markdown",
      "source": [
        "## Improving our model\n",
        "\n",
        "We can improve our model, by altering the steps we took to create a model.\n",
        "\n",
        "1. **Creating a model** - here we might add more layers, increase the number of hidden units (all called neurons) within each of the hidden layers, change the activation fucntion of each layer.\n",
        "2. **Compiling a model** - here we might change the optimization function or perhaps the **learning rate** o fthe optimization funciton.\n",
        "3. **Fiting a model** - here we might fit a model for more **epochs** (leave it training for longer) or on more data (give the model more examples to learn from)\n",
        "\n",
        "![image.png](data:image/png;base64,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)"
      ],
      "metadata": {
        "id": "mdEsWOwyu1U1"
      }
    },
    {
      "cell_type": "code",
      "source": [
        "# Let's rebuild our model\n",
        "\n",
        "# 1. Create the model\n",
        "model = tf.keras.Sequential([\n",
        "    tf.keras.layers.Dense(1)\n",
        "])\n",
        "\n",
        "# 2. Compile the model\n",
        "model.compile(loss=tf.keras.losses.mae,\n",
        "              optimizer=tf.keras.optimizers.SGD(),\n",
        "              metrics=[\"mae\"])\n",
        "\n",
        "# 3. Fit the model (this time we'll train for longer)\n",
        "model.fit(tf.expand_dims(X, axis=-1), y, epochs=100)"
      ],
      "metadata": {
        "colab": {
          "base_uri": "https://localhost:8080/"
        },
        "id": "uoiyvty_xwpG",
        "outputId": "b4b6149a-a4af-47ab-b7c3-3d2f940a711b"
      },
      "execution_count": 15,
      "outputs": [
        {
          "output_type": "stream",
          "name": "stdout",
          "text": [
            "Epoch 1/100\n",
            "\u001b[1m1/1\u001b[0m \u001b[32m━━━━━━━━━━━━━━━━━━━━\u001b[0m\u001b[37m\u001b[0m \u001b[1m1s\u001b[0m 698ms/step - loss: 11.8624 - mae: 11.8624\n",
            "Epoch 2/100\n",
            "\u001b[1m1/1\u001b[0m \u001b[32m━━━━━━━━━━━━━━━━━━━━\u001b[0m\u001b[37m\u001b[0m \u001b[1m0s\u001b[0m 64ms/step - loss: 11.7299 - mae: 11.7299\n",
            "Epoch 3/100\n",
            "\u001b[1m1/1\u001b[0m \u001b[32m━━━━━━━━━━━━━━━━━━━━\u001b[0m\u001b[37m\u001b[0m \u001b[1m0s\u001b[0m 65ms/step - loss: 11.5974 - mae: 11.5974\n",
            "Epoch 4/100\n",
            "\u001b[1m1/1\u001b[0m \u001b[32m━━━━━━━━━━━━━━━━━━━━\u001b[0m\u001b[37m\u001b[0m \u001b[1m0s\u001b[0m 154ms/step - loss: 11.4649 - mae: 11.4649\n",
            "Epoch 5/100\n",
            "\u001b[1m1/1\u001b[0m \u001b[32m━━━━━━━━━━━━━━━━━━━━\u001b[0m\u001b[37m\u001b[0m \u001b[1m0s\u001b[0m 123ms/step - loss: 11.3324 - mae: 11.3324\n",
            "Epoch 6/100\n",
            "\u001b[1m1/1\u001b[0m \u001b[32m━━━━━━━━━━━━━━━━━━━━\u001b[0m\u001b[37m\u001b[0m \u001b[1m0s\u001b[0m 80ms/step - loss: 11.1999 - mae: 11.1999\n",
            "Epoch 7/100\n",
            "\u001b[1m1/1\u001b[0m \u001b[32m━━━━━━━━━━━━━━━━━━━━\u001b[0m\u001b[37m\u001b[0m \u001b[1m0s\u001b[0m 61ms/step - loss: 11.0674 - mae: 11.0674\n",
            "Epoch 8/100\n",
            "\u001b[1m1/1\u001b[0m \u001b[32m━━━━━━━━━━━━━━━━━━━━\u001b[0m\u001b[37m\u001b[0m \u001b[1m0s\u001b[0m 141ms/step - loss: 10.9349 - mae: 10.9349\n",
            "Epoch 9/100\n",
            "\u001b[1m1/1\u001b[0m \u001b[32m━━━━━━━━━━━━━━━━━━━━\u001b[0m\u001b[37m\u001b[0m \u001b[1m0s\u001b[0m 69ms/step - loss: 10.8024 - mae: 10.8024\n",
            "Epoch 10/100\n",
            "\u001b[1m1/1\u001b[0m \u001b[32m━━━━━━━━━━━━━━━━━━━━\u001b[0m\u001b[37m\u001b[0m \u001b[1m0s\u001b[0m 133ms/step - loss: 10.6699 - mae: 10.6699\n",
            "Epoch 11/100\n",
            "\u001b[1m1/1\u001b[0m \u001b[32m━━━━━━━━━━━━━━━━━━━━\u001b[0m\u001b[37m\u001b[0m \u001b[1m0s\u001b[0m 62ms/step - loss: 10.5374 - mae: 10.5374\n",
            "Epoch 12/100\n",
            "\u001b[1m1/1\u001b[0m \u001b[32m━━━━━━━━━━━━━━━━━━━━\u001b[0m\u001b[37m\u001b[0m \u001b[1m0s\u001b[0m 64ms/step - loss: 10.4049 - mae: 10.4049\n",
            "Epoch 13/100\n",
            "\u001b[1m1/1\u001b[0m \u001b[32m━━━━━━━━━━━━━━━━━━━━\u001b[0m\u001b[37m\u001b[0m \u001b[1m0s\u001b[0m 68ms/step - loss: 10.2724 - mae: 10.2724\n",
            "Epoch 14/100\n",
            "\u001b[1m1/1\u001b[0m \u001b[32m━━━━━━━━━━━━━━━━━━━━\u001b[0m\u001b[37m\u001b[0m \u001b[1m0s\u001b[0m 137ms/step - loss: 10.1399 - mae: 10.1399\n",
            "Epoch 15/100\n",
            "\u001b[1m1/1\u001b[0m \u001b[32m━━━━━━━━━━━━━━━━━━━━\u001b[0m\u001b[37m\u001b[0m \u001b[1m0s\u001b[0m 84ms/step - loss: 10.0074 - mae: 10.0074\n",
            "Epoch 16/100\n",
            "\u001b[1m1/1\u001b[0m \u001b[32m━━━━━━━━━━━━━━━━━━━━\u001b[0m\u001b[37m\u001b[0m \u001b[1m0s\u001b[0m 140ms/step - loss: 9.8749 - mae: 9.8749\n",
            "Epoch 17/100\n",
            "\u001b[1m1/1\u001b[0m \u001b[32m━━━━━━━━━━━━━━━━━━━━\u001b[0m\u001b[37m\u001b[0m \u001b[1m0s\u001b[0m 136ms/step - loss: 9.7424 - mae: 9.7424\n",
            "Epoch 18/100\n",
            "\u001b[1m1/1\u001b[0m \u001b[32m━━━━━━━━━━━━━━━━━━━━\u001b[0m\u001b[37m\u001b[0m \u001b[1m0s\u001b[0m 76ms/step - loss: 9.6099 - mae: 9.6099\n",
            "Epoch 19/100\n",
            "\u001b[1m1/1\u001b[0m \u001b[32m━━━━━━━━━━━━━━━━━━━━\u001b[0m\u001b[37m\u001b[0m \u001b[1m0s\u001b[0m 63ms/step - loss: 9.4774 - mae: 9.4774\n",
            "Epoch 20/100\n",
            "\u001b[1m1/1\u001b[0m \u001b[32m━━━━━━━━━━━━━━━━━━━━\u001b[0m\u001b[37m\u001b[0m \u001b[1m0s\u001b[0m 72ms/step - loss: 9.3449 - mae: 9.3449\n",
            "Epoch 21/100\n",
            "\u001b[1m1/1\u001b[0m \u001b[32m━━━━━━━━━━━━━━━━━━━━\u001b[0m\u001b[37m\u001b[0m \u001b[1m0s\u001b[0m 66ms/step - loss: 9.2124 - mae: 9.2124\n",
            "Epoch 22/100\n",
            "\u001b[1m1/1\u001b[0m \u001b[32m━━━━━━━━━━━━━━━━━━━━\u001b[0m\u001b[37m\u001b[0m \u001b[1m0s\u001b[0m 63ms/step - loss: 9.0799 - mae: 9.0799\n",
            "Epoch 23/100\n",
            "\u001b[1m1/1\u001b[0m \u001b[32m━━━━━━━━━━━━━━━━━━━━\u001b[0m\u001b[37m\u001b[0m \u001b[1m0s\u001b[0m 141ms/step - loss: 8.9474 - mae: 8.9474\n",
            "Epoch 24/100\n",
            "\u001b[1m1/1\u001b[0m \u001b[32m━━━━━━━━━━━━━━━━━━━━\u001b[0m\u001b[37m\u001b[0m \u001b[1m0s\u001b[0m 153ms/step - loss: 8.8149 - mae: 8.8149\n",
            "Epoch 25/100\n",
            "\u001b[1m1/1\u001b[0m \u001b[32m━━━━━━━━━━━━━━━━━━━━\u001b[0m\u001b[37m\u001b[0m \u001b[1m0s\u001b[0m 125ms/step - loss: 8.6824 - mae: 8.6824\n",
            "Epoch 26/100\n",
            "\u001b[1m1/1\u001b[0m \u001b[32m━━━━━━━━━━━━━━━━━━━━\u001b[0m\u001b[37m\u001b[0m \u001b[1m0s\u001b[0m 147ms/step - loss: 8.5499 - mae: 8.5499\n",
            "Epoch 27/100\n",
            "\u001b[1m1/1\u001b[0m \u001b[32m━━━━━━━━━━━━━━━━━━━━\u001b[0m\u001b[37m\u001b[0m \u001b[1m0s\u001b[0m 72ms/step - loss: 8.4174 - mae: 8.4174\n",
            "Epoch 28/100\n",
            "\u001b[1m1/1\u001b[0m \u001b[32m━━━━━━━━━━━━━━━━━━━━\u001b[0m\u001b[37m\u001b[0m \u001b[1m0s\u001b[0m 133ms/step - loss: 8.2849 - mae: 8.2849\n",
            "Epoch 29/100\n",
            "\u001b[1m1/1\u001b[0m \u001b[32m━━━━━━━━━━━━━━━━━━━━\u001b[0m\u001b[37m\u001b[0m \u001b[1m0s\u001b[0m 144ms/step - loss: 8.1524 - mae: 8.1524\n",
            "Epoch 30/100\n",
            "\u001b[1m1/1\u001b[0m \u001b[32m━━━━━━━━━━━━━━━━━━━━\u001b[0m\u001b[37m\u001b[0m \u001b[1m0s\u001b[0m 126ms/step - loss: 8.0199 - mae: 8.0199\n",
            "Epoch 31/100\n",
            "\u001b[1m1/1\u001b[0m \u001b[32m━━━━━━━━━━━━━━━━━━━━\u001b[0m\u001b[37m\u001b[0m \u001b[1m0s\u001b[0m 67ms/step - loss: 7.8874 - mae: 7.8874\n",
            "Epoch 32/100\n",
            "\u001b[1m1/1\u001b[0m \u001b[32m━━━━━━━━━━━━━━━━━━━━\u001b[0m\u001b[37m\u001b[0m \u001b[1m0s\u001b[0m 65ms/step - loss: 7.7549 - mae: 7.7549\n",
            "Epoch 33/100\n",
            "\u001b[1m1/1\u001b[0m \u001b[32m━━━━━━━━━━━━━━━━━━━━\u001b[0m\u001b[37m\u001b[0m \u001b[1m0s\u001b[0m 74ms/step - loss: 7.6224 - mae: 7.6224\n",
            "Epoch 34/100\n",
            "\u001b[1m1/1\u001b[0m \u001b[32m━━━━━━━━━━━━━━━━━━━━\u001b[0m\u001b[37m\u001b[0m \u001b[1m0s\u001b[0m 141ms/step - loss: 7.4899 - mae: 7.4899\n",
            "Epoch 35/100\n",
            "\u001b[1m1/1\u001b[0m \u001b[32m━━━━━━━━━━━━━━━━━━━━\u001b[0m\u001b[37m\u001b[0m \u001b[1m0s\u001b[0m 134ms/step - loss: 7.3574 - mae: 7.3574\n",
            "Epoch 36/100\n",
            "\u001b[1m1/1\u001b[0m \u001b[32m━━━━━━━━━━━━━━━━━━━━\u001b[0m\u001b[37m\u001b[0m \u001b[1m0s\u001b[0m 75ms/step - loss: 7.2375 - mae: 7.2375\n",
            "Epoch 37/100\n",
            "\u001b[1m1/1\u001b[0m \u001b[32m━━━━━━━━━━━━━━━━━━━━\u001b[0m\u001b[37m\u001b[0m \u001b[1m0s\u001b[0m 70ms/step - loss: 7.2319 - mae: 7.2319\n",
            "Epoch 38/100\n",
            "\u001b[1m1/1\u001b[0m \u001b[32m━━━━━━━━━━━━━━━━━━━━\u001b[0m\u001b[37m\u001b[0m \u001b[1m0s\u001b[0m 140ms/step - loss: 7.2262 - mae: 7.2262\n",
            "Epoch 39/100\n",
            "\u001b[1m1/1\u001b[0m \u001b[32m━━━━━━━━━━━━━━━━━━━━\u001b[0m\u001b[37m\u001b[0m \u001b[1m0s\u001b[0m 92ms/step - loss: 7.2206 - mae: 7.2206\n",
            "Epoch 40/100\n",
            "\u001b[1m1/1\u001b[0m \u001b[32m━━━━━━━━━━━━━━━━━━━━\u001b[0m\u001b[37m\u001b[0m \u001b[1m0s\u001b[0m 62ms/step - loss: 7.2150 - mae: 7.2150\n",
            "Epoch 41/100\n",
            "\u001b[1m1/1\u001b[0m \u001b[32m━━━━━━━━━━━━━━━━━━━━\u001b[0m\u001b[37m\u001b[0m \u001b[1m0s\u001b[0m 63ms/step - loss: 7.2094 - mae: 7.2094\n",
            "Epoch 42/100\n",
            "\u001b[1m1/1\u001b[0m \u001b[32m━━━━━━━━━━━━━━━━━━━━\u001b[0m\u001b[37m\u001b[0m \u001b[1m0s\u001b[0m 66ms/step - loss: 7.2038 - mae: 7.2038\n",
            "Epoch 43/100\n",
            "\u001b[1m1/1\u001b[0m \u001b[32m━━━━━━━━━━━━━━━━━━━━\u001b[0m\u001b[37m\u001b[0m \u001b[1m0s\u001b[0m 67ms/step - loss: 7.1981 - mae: 7.1981\n",
            "Epoch 44/100\n",
            "\u001b[1m1/1\u001b[0m \u001b[32m━━━━━━━━━━━━━━━━━━━━\u001b[0m\u001b[37m\u001b[0m \u001b[1m0s\u001b[0m 139ms/step - loss: 7.1925 - mae: 7.1925\n",
            "Epoch 45/100\n",
            "\u001b[1m1/1\u001b[0m \u001b[32m━━━━━━━━━━━━━━━━━━━━\u001b[0m\u001b[37m\u001b[0m \u001b[1m0s\u001b[0m 71ms/step - loss: 7.1869 - mae: 7.1869\n",
            "Epoch 46/100\n",
            "\u001b[1m1/1\u001b[0m \u001b[32m━━━━━━━━━━━━━━━━━━━━\u001b[0m\u001b[37m\u001b[0m \u001b[1m0s\u001b[0m 142ms/step - loss: 7.1813 - mae: 7.1813\n",
            "Epoch 47/100\n",
            "\u001b[1m1/1\u001b[0m \u001b[32m━━━━━━━━━━━━━━━━━━━━\u001b[0m\u001b[37m\u001b[0m \u001b[1m0s\u001b[0m 135ms/step - loss: 7.1756 - mae: 7.1756\n",
            "Epoch 48/100\n",
            "\u001b[1m1/1\u001b[0m \u001b[32m━━━━━━━━━━━━━━━━━━━━\u001b[0m\u001b[37m\u001b[0m \u001b[1m0s\u001b[0m 76ms/step - loss: 7.1700 - mae: 7.1700\n",
            "Epoch 49/100\n",
            "\u001b[1m1/1\u001b[0m \u001b[32m━━━━━━━━━━━━━━━━━━━━\u001b[0m\u001b[37m\u001b[0m \u001b[1m0s\u001b[0m 63ms/step - loss: 7.1644 - mae: 7.1644\n",
            "Epoch 50/100\n",
            "\u001b[1m1/1\u001b[0m \u001b[32m━━━━━━━━━━━━━━━━━━━━\u001b[0m\u001b[37m\u001b[0m \u001b[1m0s\u001b[0m 58ms/step - loss: 7.1587 - mae: 7.1587\n",
            "Epoch 51/100\n",
            "\u001b[1m1/1\u001b[0m \u001b[32m━━━━━━━━━━━━━━━━━━━━\u001b[0m\u001b[37m\u001b[0m \u001b[1m0s\u001b[0m 139ms/step - loss: 7.1531 - mae: 7.1531\n",
            "Epoch 52/100\n",
            "\u001b[1m1/1\u001b[0m \u001b[32m━━━━━━━━━━━━━━━━━━━━\u001b[0m\u001b[37m\u001b[0m \u001b[1m0s\u001b[0m 144ms/step - loss: 7.1475 - mae: 7.1475\n",
            "Epoch 53/100\n",
            "\u001b[1m1/1\u001b[0m \u001b[32m━━━━━━━━━━━━━━━━━━━━\u001b[0m\u001b[37m\u001b[0m \u001b[1m0s\u001b[0m 130ms/step - loss: 7.1419 - mae: 7.1419\n",
            "Epoch 54/100\n",
            "\u001b[1m1/1\u001b[0m \u001b[32m━━━━━━━━━━━━━━━━━━━━\u001b[0m\u001b[37m\u001b[0m \u001b[1m0s\u001b[0m 133ms/step - loss: 7.1363 - mae: 7.1363\n",
            "Epoch 55/100\n",
            "\u001b[1m1/1\u001b[0m \u001b[32m━━━━━━━━━━━━━━━━━━━━\u001b[0m\u001b[37m\u001b[0m \u001b[1m0s\u001b[0m 67ms/step - loss: 7.1306 - mae: 7.1306\n",
            "Epoch 56/100\n",
            "\u001b[1m1/1\u001b[0m \u001b[32m━━━━━━━━━━━━━━━━━━━━\u001b[0m\u001b[37m\u001b[0m \u001b[1m0s\u001b[0m 135ms/step - loss: 7.1250 - mae: 7.1250\n",
            "Epoch 57/100\n",
            "\u001b[1m1/1\u001b[0m \u001b[32m━━━━━━━━━━━━━━━━━━━━\u001b[0m\u001b[37m\u001b[0m \u001b[1m0s\u001b[0m 65ms/step - loss: 7.1194 - mae: 7.1194\n",
            "Epoch 58/100\n",
            "\u001b[1m1/1\u001b[0m \u001b[32m━━━━━━━━━━━━━━━━━━━━\u001b[0m\u001b[37m\u001b[0m \u001b[1m0s\u001b[0m 70ms/step - loss: 7.1137 - mae: 7.1137\n",
            "Epoch 59/100\n",
            "\u001b[1m1/1\u001b[0m \u001b[32m━━━━━━━━━━━━━━━━━━━━\u001b[0m\u001b[37m\u001b[0m \u001b[1m0s\u001b[0m 72ms/step - loss: 7.1081 - mae: 7.1081\n",
            "Epoch 60/100\n",
            "\u001b[1m1/1\u001b[0m \u001b[32m━━━━━━━━━━━━━━━━━━━━\u001b[0m\u001b[37m\u001b[0m \u001b[1m0s\u001b[0m 75ms/step - loss: 7.1025 - mae: 7.1025\n",
            "Epoch 61/100\n",
            "\u001b[1m1/1\u001b[0m \u001b[32m━━━━━━━━━━━━━━━━━━━━\u001b[0m\u001b[37m\u001b[0m \u001b[1m0s\u001b[0m 69ms/step - loss: 7.0969 - mae: 7.0969\n",
            "Epoch 62/100\n",
            "\u001b[1m1/1\u001b[0m \u001b[32m━━━━━━━━━━━━━━━━━━━━\u001b[0m\u001b[37m\u001b[0m \u001b[1m0s\u001b[0m 72ms/step - loss: 7.0912 - mae: 7.0912\n",
            "Epoch 63/100\n",
            "\u001b[1m1/1\u001b[0m \u001b[32m━━━━━━━━━━━━━━━━━━━━\u001b[0m\u001b[37m\u001b[0m \u001b[1m0s\u001b[0m 136ms/step - loss: 7.0856 - mae: 7.0856\n",
            "Epoch 64/100\n",
            "\u001b[1m1/1\u001b[0m \u001b[32m━━━━━━━━━━━━━━━━━━━━\u001b[0m\u001b[37m\u001b[0m \u001b[1m0s\u001b[0m 145ms/step - loss: 7.0800 - mae: 7.0800\n",
            "Epoch 65/100\n",
            "\u001b[1m1/1\u001b[0m \u001b[32m━━━━━━━━━━━━━━━━━━━━\u001b[0m\u001b[37m\u001b[0m \u001b[1m0s\u001b[0m 124ms/step - loss: 7.0744 - mae: 7.0744\n",
            "Epoch 66/100\n",
            "\u001b[1m1/1\u001b[0m \u001b[32m━━━━━━━━━━━━━━━━━━━━\u001b[0m\u001b[37m\u001b[0m \u001b[1m0s\u001b[0m 143ms/step - loss: 7.0688 - mae: 7.0688\n",
            "Epoch 67/100\n",
            "\u001b[1m1/1\u001b[0m \u001b[32m━━━━━━━━━━━━━━━━━━━━\u001b[0m\u001b[37m\u001b[0m \u001b[1m0s\u001b[0m 71ms/step - loss: 7.0631 - mae: 7.0631\n",
            "Epoch 68/100\n",
            "\u001b[1m1/1\u001b[0m \u001b[32m━━━━━━━━━━━━━━━━━━━━\u001b[0m\u001b[37m\u001b[0m \u001b[1m0s\u001b[0m 69ms/step - loss: 7.0575 - mae: 7.0575\n",
            "Epoch 69/100\n",
            "\u001b[1m1/1\u001b[0m \u001b[32m━━━━━━━━━━━━━━━━━━━━\u001b[0m\u001b[37m\u001b[0m \u001b[1m0s\u001b[0m 68ms/step - loss: 7.0519 - mae: 7.0519\n",
            "Epoch 70/100\n",
            "\u001b[1m1/1\u001b[0m \u001b[32m━━━━━━━━━━━━━━━━━━━━\u001b[0m\u001b[37m\u001b[0m \u001b[1m0s\u001b[0m 70ms/step - loss: 7.0462 - mae: 7.0462\n",
            "Epoch 71/100\n",
            "\u001b[1m1/1\u001b[0m \u001b[32m━━━━━━━━━━━━━━━━━━━━\u001b[0m\u001b[37m\u001b[0m \u001b[1m0s\u001b[0m 75ms/step - loss: 7.0406 - mae: 7.0406\n",
            "Epoch 72/100\n",
            "\u001b[1m1/1\u001b[0m \u001b[32m━━━━━━━━━━━━━━━━━━━━\u001b[0m\u001b[37m\u001b[0m \u001b[1m0s\u001b[0m 156ms/step - loss: 7.0350 - mae: 7.0350\n",
            "Epoch 73/100\n",
            "\u001b[1m1/1\u001b[0m \u001b[32m━━━━━━━━━━━━━━━━━━━━\u001b[0m\u001b[37m\u001b[0m \u001b[1m0s\u001b[0m 124ms/step - loss: 7.0294 - mae: 7.0294\n",
            "Epoch 74/100\n",
            "\u001b[1m1/1\u001b[0m \u001b[32m━━━━━━━━━━━━━━━━━━━━\u001b[0m\u001b[37m\u001b[0m \u001b[1m0s\u001b[0m 117ms/step - loss: 7.0238 - mae: 7.0238\n",
            "Epoch 75/100\n",
            "\u001b[1m1/1\u001b[0m \u001b[32m━━━━━━━━━━━━━━━━━━━━\u001b[0m\u001b[37m\u001b[0m \u001b[1m0s\u001b[0m 145ms/step - loss: 7.0181 - mae: 7.0181\n",
            "Epoch 76/100\n",
            "\u001b[1m1/1\u001b[0m \u001b[32m━━━━━━━━━━━━━━━━━━━━\u001b[0m\u001b[37m\u001b[0m \u001b[1m0s\u001b[0m 118ms/step - loss: 7.0125 - mae: 7.0125\n",
            "Epoch 77/100\n",
            "\u001b[1m1/1\u001b[0m \u001b[32m━━━━━━━━━━━━━━━━━━━━\u001b[0m\u001b[37m\u001b[0m \u001b[1m0s\u001b[0m 70ms/step - loss: 7.0069 - mae: 7.0069\n",
            "Epoch 78/100\n",
            "\u001b[1m1/1\u001b[0m \u001b[32m━━━━━━━━━━━━━━━━━━━━\u001b[0m\u001b[37m\u001b[0m \u001b[1m0s\u001b[0m 136ms/step - loss: 7.0013 - mae: 7.0013\n",
            "Epoch 79/100\n",
            "\u001b[1m1/1\u001b[0m \u001b[32m━━━━━━━━━━━━━━━━━━━━\u001b[0m\u001b[37m\u001b[0m \u001b[1m0s\u001b[0m 140ms/step - loss: 6.9956 - mae: 6.9956\n",
            "Epoch 80/100\n",
            "\u001b[1m1/1\u001b[0m \u001b[32m━━━━━━━━━━━━━━━━━━━━\u001b[0m\u001b[37m\u001b[0m \u001b[1m0s\u001b[0m 146ms/step - loss: 6.9900 - mae: 6.9900\n",
            "Epoch 81/100\n",
            "\u001b[1m1/1\u001b[0m \u001b[32m━━━━━━━━━━━━━━━━━━━━\u001b[0m\u001b[37m\u001b[0m \u001b[1m0s\u001b[0m 71ms/step - loss: 6.9844 - mae: 6.9844\n",
            "Epoch 82/100\n",
            "\u001b[1m1/1\u001b[0m \u001b[32m━━━━━━━━━━━━━━━━━━━━\u001b[0m\u001b[37m\u001b[0m \u001b[1m0s\u001b[0m 147ms/step - loss: 6.9787 - mae: 6.9787\n",
            "Epoch 83/100\n",
            "\u001b[1m1/1\u001b[0m \u001b[32m━━━━━━━━━━━━━━━━━━━━\u001b[0m\u001b[37m\u001b[0m \u001b[1m0s\u001b[0m 136ms/step - loss: 6.9731 - mae: 6.9731\n",
            "Epoch 84/100\n",
            "\u001b[1m1/1\u001b[0m \u001b[32m━━━━━━━━━━━━━━━━━━━━\u001b[0m\u001b[37m\u001b[0m \u001b[1m0s\u001b[0m 142ms/step - loss: 6.9675 - mae: 6.9675\n",
            "Epoch 85/100\n",
            "\u001b[1m1/1\u001b[0m \u001b[32m━━━━━━━━━━━━━━━━━━━━\u001b[0m\u001b[37m\u001b[0m \u001b[1m0s\u001b[0m 136ms/step - loss: 6.9619 - mae: 6.9619\n",
            "Epoch 86/100\n",
            "\u001b[1m1/1\u001b[0m \u001b[32m━━━━━━━━━━━━━━━━━━━━\u001b[0m\u001b[37m\u001b[0m \u001b[1m0s\u001b[0m 139ms/step - loss: 6.9563 - mae: 6.9563\n",
            "Epoch 87/100\n",
            "\u001b[1m1/1\u001b[0m \u001b[32m━━━━━━━━━━━━━━━━━━━━\u001b[0m\u001b[37m\u001b[0m \u001b[1m0s\u001b[0m 142ms/step - loss: 6.9506 - mae: 6.9506\n",
            "Epoch 88/100\n",
            "\u001b[1m1/1\u001b[0m \u001b[32m━━━━━━━━━━━━━━━━━━━━\u001b[0m\u001b[37m\u001b[0m \u001b[1m0s\u001b[0m 74ms/step - loss: 6.9450 - mae: 6.9450\n",
            "Epoch 89/100\n",
            "\u001b[1m1/1\u001b[0m \u001b[32m━━━━━━━━━━━━━━━━━━━━\u001b[0m\u001b[37m\u001b[0m \u001b[1m0s\u001b[0m 140ms/step - loss: 6.9394 - mae: 6.9394\n",
            "Epoch 90/100\n",
            "\u001b[1m1/1\u001b[0m \u001b[32m━━━━━━━━━━━━━━━━━━━━\u001b[0m\u001b[37m\u001b[0m \u001b[1m0s\u001b[0m 76ms/step - loss: 6.9338 - mae: 6.9338\n",
            "Epoch 91/100\n",
            "\u001b[1m1/1\u001b[0m \u001b[32m━━━━━━━━━━━━━━━━━━━━\u001b[0m\u001b[37m\u001b[0m \u001b[1m0s\u001b[0m 120ms/step - loss: 6.9281 - mae: 6.9281\n",
            "Epoch 92/100\n",
            "\u001b[1m1/1\u001b[0m \u001b[32m━━━━━━━━━━━━━━━━━━━━\u001b[0m\u001b[37m\u001b[0m \u001b[1m0s\u001b[0m 61ms/step - loss: 6.9225 - mae: 6.9225\n",
            "Epoch 93/100\n",
            "\u001b[1m1/1\u001b[0m \u001b[32m━━━━━━━━━━━━━━━━━━━━\u001b[0m\u001b[37m\u001b[0m \u001b[1m0s\u001b[0m 58ms/step - loss: 6.9169 - mae: 6.9169\n",
            "Epoch 94/100\n",
            "\u001b[1m1/1\u001b[0m \u001b[32m━━━━━━━━━━━━━━━━━━━━\u001b[0m\u001b[37m\u001b[0m \u001b[1m0s\u001b[0m 47ms/step - loss: 6.9113 - mae: 6.9113\n",
            "Epoch 95/100\n",
            "\u001b[1m1/1\u001b[0m \u001b[32m━━━━━━━━━━━━━━━━━━━━\u001b[0m\u001b[37m\u001b[0m \u001b[1m0s\u001b[0m 60ms/step - loss: 6.9056 - mae: 6.9056\n",
            "Epoch 96/100\n",
            "\u001b[1m1/1\u001b[0m \u001b[32m━━━━━━━━━━━━━━━━━━━━\u001b[0m\u001b[37m\u001b[0m \u001b[1m0s\u001b[0m 61ms/step - loss: 6.9000 - mae: 6.9000\n",
            "Epoch 97/100\n",
            "\u001b[1m1/1\u001b[0m \u001b[32m━━━━━━━━━━━━━━━━━━━━\u001b[0m\u001b[37m\u001b[0m \u001b[1m0s\u001b[0m 49ms/step - loss: 6.8944 - mae: 6.8944\n",
            "Epoch 98/100\n",
            "\u001b[1m1/1\u001b[0m \u001b[32m━━━━━━━━━━━━━━━━━━━━\u001b[0m\u001b[37m\u001b[0m \u001b[1m0s\u001b[0m 57ms/step - loss: 6.8888 - mae: 6.8888\n",
            "Epoch 99/100\n",
            "\u001b[1m1/1\u001b[0m \u001b[32m━━━━━━━━━━━━━━━━━━━━\u001b[0m\u001b[37m\u001b[0m \u001b[1m0s\u001b[0m 47ms/step - loss: 6.8831 - mae: 6.8831\n",
            "Epoch 100/100\n",
            "\u001b[1m1/1\u001b[0m \u001b[32m━━━━━━━━━━━━━━━━━━━━\u001b[0m\u001b[37m\u001b[0m \u001b[1m0s\u001b[0m 61ms/step - loss: 6.8775 - mae: 6.8775\n"
          ]
        },
        {
          "output_type": "execute_result",
          "data": {
            "text/plain": [
              "<keras.src.callbacks.history.History at 0x7baf463e6c50>"
            ]
          },
          "metadata": {},
          "execution_count": 15
        }
      ]
    },
    {
      "cell_type": "code",
      "source": [
        "# Remind ourselves of the data\n",
        "X, y"
      ],
      "metadata": {
        "colab": {
          "base_uri": "https://localhost:8080/"
        },
        "id": "CJ4gviuWyfac",
        "outputId": "56530fbc-305b-4d8b-d139-51b1a934c1f6"
      },
      "execution_count": 16,
      "outputs": [
        {
          "output_type": "execute_result",
          "data": {
            "text/plain": [
              "(<tf.Tensor: shape=(8,), dtype=float32, numpy=array([-7., -4., -1.,  2.,  5.,  8., 11., 14.], dtype=float32)>,\n",
              " <tf.Tensor: shape=(8,), dtype=float32, numpy=array([ 3.,  6.,  9., 12., 15., 18., 21., 24.], dtype=float32)>)"
            ]
          },
          "metadata": {},
          "execution_count": 16
        }
      ]
    },
    {
      "cell_type": "code",
      "source": [
        "model.predict(tf.expand_dims([17.0], axis=-1))"
      ],
      "metadata": {
        "colab": {
          "base_uri": "https://localhost:8080/"
        },
        "id": "OYPs8abvztY1",
        "outputId": "f5045ab1-482b-469e-d3ff-093d3bfeb73a"
      },
      "execution_count": 17,
      "outputs": [
        {
          "output_type": "stream",
          "name": "stdout",
          "text": [
            "\u001b[1m1/1\u001b[0m \u001b[32m━━━━━━━━━━━━━━━━━━━━\u001b[0m\u001b[37m\u001b[0m \u001b[1m0s\u001b[0m 53ms/step\n"
          ]
        },
        {
          "output_type": "execute_result",
          "data": {
            "text/plain": [
              "array([[29.616482]], dtype=float32)"
            ]
          },
          "metadata": {},
          "execution_count": 17
        }
      ]
    },
    {
      "cell_type": "code",
      "source": [
        "# Let's see if we can make another to improve our model\n",
        "\n",
        "# 1. Create the model (this time with an extra hidden layer with 100 hidden units)\n",
        "model = tf.keras.Sequential([\n",
        "    tf.keras.layers.Dense(100, activation=\"relu\"),\n",
        "    tf.keras.layers.Dense(1)\n",
        "])\n",
        "\n",
        "# 2. Compile the model\n",
        "model.compile(loss=\"mae\",\n",
        "              optimizer=tf.keras.optimizers.SGD(),\n",
        "              metrics=[\"mae\"])\n",
        "\n",
        "# 3. Fit the model\n",
        "model.fit(tf.expand_dims(X, axis=-1), y, epochs=100)"
      ],
      "metadata": {
        "colab": {
          "base_uri": "https://localhost:8080/"
        },
        "id": "ogR5gyyy6FQ6",
        "outputId": "d5996ead-a0bf-466d-ef72-1e035d1d89b0"
      },
      "execution_count": 18,
      "outputs": [
        {
          "output_type": "stream",
          "name": "stdout",
          "text": [
            "Epoch 1/100\n",
            "\u001b[1m1/1\u001b[0m \u001b[32m━━━━━━━━━━━━━━━━━━━━\u001b[0m\u001b[37m\u001b[0m \u001b[1m1s\u001b[0m 676ms/step - loss: 13.6952 - mae: 13.6952\n",
            "Epoch 2/100\n",
            "\u001b[1m1/1\u001b[0m \u001b[32m━━━━━━━━━━━━━━━━━━━━\u001b[0m\u001b[37m\u001b[0m \u001b[1m0s\u001b[0m 64ms/step - loss: 13.1342 - mae: 13.1342\n",
            "Epoch 3/100\n",
            "\u001b[1m1/1\u001b[0m \u001b[32m━━━━━━━━━━━━━━━━━━━━\u001b[0m\u001b[37m\u001b[0m \u001b[1m0s\u001b[0m 48ms/step - loss: 12.5860 - mae: 12.5860\n",
            "Epoch 4/100\n",
            "\u001b[1m1/1\u001b[0m \u001b[32m━━━━━━━━━━━━━━━━━━━━\u001b[0m\u001b[37m\u001b[0m \u001b[1m0s\u001b[0m 58ms/step - loss: 12.0412 - mae: 12.0412\n",
            "Epoch 5/100\n",
            "\u001b[1m1/1\u001b[0m \u001b[32m━━━━━━━━━━━━━━━━━━━━\u001b[0m\u001b[37m\u001b[0m \u001b[1m0s\u001b[0m 48ms/step - loss: 11.4883 - mae: 11.4883\n",
            "Epoch 6/100\n",
            "\u001b[1m1/1\u001b[0m \u001b[32m━━━━━━━━━━━━━━━━━━━━\u001b[0m\u001b[37m\u001b[0m \u001b[1m0s\u001b[0m 50ms/step - loss: 10.9303 - mae: 10.9303\n",
            "Epoch 7/100\n",
            "\u001b[1m1/1\u001b[0m \u001b[32m━━━━━━━━━━━━━━━━━━━━\u001b[0m\u001b[37m\u001b[0m \u001b[1m0s\u001b[0m 50ms/step - loss: 10.3541 - mae: 10.3541\n",
            "Epoch 8/100\n",
            "\u001b[1m1/1\u001b[0m \u001b[32m━━━━━━━━━━━━━━━━━━━━\u001b[0m\u001b[37m\u001b[0m \u001b[1m0s\u001b[0m 51ms/step - loss: 9.7496 - mae: 9.7496\n",
            "Epoch 9/100\n",
            "\u001b[1m1/1\u001b[0m \u001b[32m━━━━━━━━━━━━━━━━━━━━\u001b[0m\u001b[37m\u001b[0m \u001b[1m0s\u001b[0m 59ms/step - loss: 9.1147 - mae: 9.1147\n",
            "Epoch 10/100\n",
            "\u001b[1m1/1\u001b[0m \u001b[32m━━━━━━━━━━━━━━━━━━━━\u001b[0m\u001b[37m\u001b[0m \u001b[1m0s\u001b[0m 68ms/step - loss: 8.4421 - mae: 8.4421\n",
            "Epoch 11/100\n",
            "\u001b[1m1/1\u001b[0m \u001b[32m━━━━━━━━━━━━━━━━━━━━\u001b[0m\u001b[37m\u001b[0m \u001b[1m0s\u001b[0m 48ms/step - loss: 7.7251 - mae: 7.7251\n",
            "Epoch 12/100\n",
            "\u001b[1m1/1\u001b[0m \u001b[32m━━━━━━━━━━━━━━━━━━━━\u001b[0m\u001b[37m\u001b[0m \u001b[1m0s\u001b[0m 46ms/step - loss: 6.9580 - mae: 6.9580\n",
            "Epoch 13/100\n",
            "\u001b[1m1/1\u001b[0m \u001b[32m━━━━━━━━━━━━━━━━━━━━\u001b[0m\u001b[37m\u001b[0m \u001b[1m0s\u001b[0m 60ms/step - loss: 6.1332 - mae: 6.1332\n",
            "Epoch 14/100\n",
            "\u001b[1m1/1\u001b[0m \u001b[32m━━━━━━━━━━━━━━━━━━━━\u001b[0m\u001b[37m\u001b[0m \u001b[1m0s\u001b[0m 49ms/step - loss: 5.2462 - mae: 5.2462\n",
            "Epoch 15/100\n",
            "\u001b[1m1/1\u001b[0m \u001b[32m━━━━━━━━━━━━━━━━━━━━\u001b[0m\u001b[37m\u001b[0m \u001b[1m0s\u001b[0m 46ms/step - loss: 4.2884 - mae: 4.2884\n",
            "Epoch 16/100\n",
            "\u001b[1m1/1\u001b[0m \u001b[32m━━━━━━━━━━━━━━━━━━━━\u001b[0m\u001b[37m\u001b[0m \u001b[1m0s\u001b[0m 57ms/step - loss: 3.9010 - mae: 3.9010\n",
            "Epoch 17/100\n",
            "\u001b[1m1/1\u001b[0m \u001b[32m━━━━━━━━━━━━━━━━━━━━\u001b[0m\u001b[37m\u001b[0m \u001b[1m0s\u001b[0m 59ms/step - loss: 3.9714 - mae: 3.9714\n",
            "Epoch 18/100\n",
            "\u001b[1m1/1\u001b[0m \u001b[32m━━━━━━━━━━━━━━━━━━━━\u001b[0m\u001b[37m\u001b[0m \u001b[1m0s\u001b[0m 55ms/step - loss: 3.9034 - mae: 3.9034\n",
            "Epoch 19/100\n",
            "\u001b[1m1/1\u001b[0m \u001b[32m━━━━━━━━━━━━━━━━━━━━\u001b[0m\u001b[37m\u001b[0m \u001b[1m0s\u001b[0m 52ms/step - loss: 3.9521 - mae: 3.9521\n",
            "Epoch 20/100\n",
            "\u001b[1m1/1\u001b[0m \u001b[32m━━━━━━━━━━━━━━━━━━━━\u001b[0m\u001b[37m\u001b[0m \u001b[1m0s\u001b[0m 140ms/step - loss: 3.9097 - mae: 3.9097\n",
            "Epoch 21/100\n",
            "\u001b[1m1/1\u001b[0m \u001b[32m━━━━━━━━━━━━━━━━━━━━\u001b[0m\u001b[37m\u001b[0m \u001b[1m0s\u001b[0m 135ms/step - loss: 3.9263 - mae: 3.9263\n",
            "Epoch 22/100\n",
            "\u001b[1m1/1\u001b[0m \u001b[32m━━━━━━━━━━━━━━━━━━━━\u001b[0m\u001b[37m\u001b[0m \u001b[1m0s\u001b[0m 60ms/step - loss: 3.9162 - mae: 3.9162\n",
            "Epoch 23/100\n",
            "\u001b[1m1/1\u001b[0m \u001b[32m━━━━━━━━━━━━━━━━━━━━\u001b[0m\u001b[37m\u001b[0m \u001b[1m0s\u001b[0m 49ms/step - loss: 3.9003 - mae: 3.9003\n",
            "Epoch 24/100\n",
            "\u001b[1m1/1\u001b[0m \u001b[32m━━━━━━━━━━━━━━━━━━━━\u001b[0m\u001b[37m\u001b[0m \u001b[1m0s\u001b[0m 46ms/step - loss: 3.9258 - mae: 3.9258\n",
            "Epoch 25/100\n",
            "\u001b[1m1/1\u001b[0m \u001b[32m━━━━━━━━━━━━━━━━━━━━\u001b[0m\u001b[37m\u001b[0m \u001b[1m0s\u001b[0m 66ms/step - loss: 3.8828 - mae: 3.8828\n",
            "Epoch 26/100\n",
            "\u001b[1m1/1\u001b[0m \u001b[32m━━━━━━━━━━━━━━━━━━━━\u001b[0m\u001b[37m\u001b[0m \u001b[1m0s\u001b[0m 48ms/step - loss: 3.9386 - mae: 3.9386\n",
            "Epoch 27/100\n",
            "\u001b[1m1/1\u001b[0m \u001b[32m━━━━━━━━━━━━━━━━━━━━\u001b[0m\u001b[37m\u001b[0m \u001b[1m0s\u001b[0m 50ms/step - loss: 3.8712 - mae: 3.8712\n",
            "Epoch 28/100\n",
            "\u001b[1m1/1\u001b[0m \u001b[32m━━━━━━━━━━━━━━━━━━━━\u001b[0m\u001b[37m\u001b[0m \u001b[1m0s\u001b[0m 54ms/step - loss: 3.9298 - mae: 3.9298\n",
            "Epoch 29/100\n",
            "\u001b[1m1/1\u001b[0m \u001b[32m━━━━━━━━━━━━━━━━━━━━\u001b[0m\u001b[37m\u001b[0m \u001b[1m0s\u001b[0m 48ms/step - loss: 3.8777 - mae: 3.8777\n",
            "Epoch 30/100\n",
            "\u001b[1m1/1\u001b[0m \u001b[32m━━━━━━━━━━━━━━━━━━━━\u001b[0m\u001b[37m\u001b[0m \u001b[1m0s\u001b[0m 47ms/step - loss: 3.9037 - mae: 3.9037\n",
            "Epoch 31/100\n",
            "\u001b[1m1/1\u001b[0m \u001b[32m━━━━━━━━━━━━━━━━━━━━\u001b[0m\u001b[37m\u001b[0m \u001b[1m0s\u001b[0m 48ms/step - loss: 3.8844 - mae: 3.8844\n",
            "Epoch 32/100\n",
            "\u001b[1m1/1\u001b[0m \u001b[32m━━━━━━━━━━━━━━━━━━━━\u001b[0m\u001b[37m\u001b[0m \u001b[1m0s\u001b[0m 58ms/step - loss: 3.8795 - mae: 3.8795\n",
            "Epoch 33/100\n",
            "\u001b[1m1/1\u001b[0m \u001b[32m━━━━━━━━━━━━━━━━━━━━\u001b[0m\u001b[37m\u001b[0m \u001b[1m0s\u001b[0m 49ms/step - loss: 3.9003 - mae: 3.9003\n",
            "Epoch 34/100\n",
            "\u001b[1m1/1\u001b[0m \u001b[32m━━━━━━━━━━━━━━━━━━━━\u001b[0m\u001b[37m\u001b[0m \u001b[1m0s\u001b[0m 64ms/step - loss: 3.8598 - mae: 3.8598\n",
            "Epoch 35/100\n",
            "\u001b[1m1/1\u001b[0m \u001b[32m━━━━━━━━━━━━━━━━━━━━\u001b[0m\u001b[37m\u001b[0m \u001b[1m0s\u001b[0m 134ms/step - loss: 3.9071 - mae: 3.9071\n",
            "Epoch 36/100\n",
            "\u001b[1m1/1\u001b[0m \u001b[32m━━━━━━━━━━━━━━━━━━━━\u001b[0m\u001b[37m\u001b[0m \u001b[1m0s\u001b[0m 50ms/step - loss: 3.8400 - mae: 3.8400\n",
            "Epoch 37/100\n",
            "\u001b[1m1/1\u001b[0m \u001b[32m━━━━━━━━━━━━━━━━━━━━\u001b[0m\u001b[37m\u001b[0m \u001b[1m0s\u001b[0m 53ms/step - loss: 3.9064 - mae: 3.9064\n",
            "Epoch 38/100\n",
            "\u001b[1m1/1\u001b[0m \u001b[32m━━━━━━━━━━━━━━━━━━━━\u001b[0m\u001b[37m\u001b[0m \u001b[1m0s\u001b[0m 54ms/step - loss: 3.8467 - mae: 3.8467\n",
            "Epoch 39/100\n",
            "\u001b[1m1/1\u001b[0m \u001b[32m━━━━━━━━━━━━━━━━━━━━\u001b[0m\u001b[37m\u001b[0m \u001b[1m0s\u001b[0m 61ms/step - loss: 3.8801 - mae: 3.8801\n",
            "Epoch 40/100\n",
            "\u001b[1m1/1\u001b[0m \u001b[32m━━━━━━━━━━━━━━━━━━━━\u001b[0m\u001b[37m\u001b[0m \u001b[1m0s\u001b[0m 56ms/step - loss: 3.8537 - mae: 3.8537\n",
            "Epoch 41/100\n",
            "\u001b[1m1/1\u001b[0m \u001b[32m━━━━━━━━━━━━━━━━━━━━\u001b[0m\u001b[37m\u001b[0m \u001b[1m0s\u001b[0m 61ms/step - loss: 3.8622 - mae: 3.8622\n",
            "Epoch 42/100\n",
            "\u001b[1m1/1\u001b[0m \u001b[32m━━━━━━━━━━━━━━━━━━━━\u001b[0m\u001b[37m\u001b[0m \u001b[1m0s\u001b[0m 56ms/step - loss: 3.8697 - mae: 3.8697\n",
            "Epoch 43/100\n",
            "\u001b[1m1/1\u001b[0m \u001b[32m━━━━━━━━━━━━━━━━━━━━\u001b[0m\u001b[37m\u001b[0m \u001b[1m0s\u001b[0m 58ms/step - loss: 3.8356 - mae: 3.8356\n",
            "Epoch 44/100\n",
            "\u001b[1m1/1\u001b[0m \u001b[32m━━━━━━━━━━━━━━━━━━━━\u001b[0m\u001b[37m\u001b[0m \u001b[1m0s\u001b[0m 53ms/step - loss: 3.8767 - mae: 3.8767\n",
            "Epoch 45/100\n",
            "\u001b[1m1/1\u001b[0m \u001b[32m━━━━━━━━━━━━━━━━━━━━\u001b[0m\u001b[37m\u001b[0m \u001b[1m0s\u001b[0m 50ms/step - loss: 3.8099 - mae: 3.8099\n",
            "Epoch 46/100\n",
            "\u001b[1m1/1\u001b[0m \u001b[32m━━━━━━━━━━━━━━━━━━━━\u001b[0m\u001b[37m\u001b[0m \u001b[1m0s\u001b[0m 52ms/step - loss: 3.8818 - mae: 3.8818\n",
            "Epoch 47/100\n",
            "\u001b[1m1/1\u001b[0m \u001b[32m━━━━━━━━━━━━━━━━━━━━\u001b[0m\u001b[37m\u001b[0m \u001b[1m0s\u001b[0m 56ms/step - loss: 3.8168 - mae: 3.8168\n",
            "Epoch 48/100\n",
            "\u001b[1m1/1\u001b[0m \u001b[32m━━━━━━━━━━━━━━━━━━━━\u001b[0m\u001b[37m\u001b[0m \u001b[1m0s\u001b[0m 57ms/step - loss: 3.8553 - mae: 3.8553\n",
            "Epoch 49/100\n",
            "\u001b[1m1/1\u001b[0m \u001b[32m━━━━━━━━━━━━━━━━━━━━\u001b[0m\u001b[37m\u001b[0m \u001b[1m0s\u001b[0m 57ms/step - loss: 3.8311 - mae: 3.8311\n",
            "Epoch 50/100\n",
            "\u001b[1m1/1\u001b[0m \u001b[32m━━━━━━━━━━━━━━━━━━━━\u001b[0m\u001b[37m\u001b[0m \u001b[1m0s\u001b[0m 67ms/step - loss: 3.8372 - mae: 3.8372\n",
            "Epoch 51/100\n",
            "\u001b[1m1/1\u001b[0m \u001b[32m━━━━━━━━━━━━━━━━━━━━\u001b[0m\u001b[37m\u001b[0m \u001b[1m0s\u001b[0m 133ms/step - loss: 3.8402 - mae: 3.8402\n",
            "Epoch 52/100\n",
            "\u001b[1m1/1\u001b[0m \u001b[32m━━━━━━━━━━━━━━━━━━━━\u001b[0m\u001b[37m\u001b[0m \u001b[1m0s\u001b[0m 56ms/step - loss: 3.8103 - mae: 3.8103\n",
            "Epoch 53/100\n",
            "\u001b[1m1/1\u001b[0m \u001b[32m━━━━━━━━━━━━━━━━━━━━\u001b[0m\u001b[37m\u001b[0m \u001b[1m0s\u001b[0m 58ms/step - loss: 3.8473 - mae: 3.8473\n",
            "Epoch 54/100\n",
            "\u001b[1m1/1\u001b[0m \u001b[32m━━━━━━━━━━━━━━━━━━━━\u001b[0m\u001b[37m\u001b[0m \u001b[1m0s\u001b[0m 63ms/step - loss: 3.7833 - mae: 3.7833\n",
            "Epoch 55/100\n",
            "\u001b[1m1/1\u001b[0m \u001b[32m━━━━━━━━━━━━━━━━━━━━\u001b[0m\u001b[37m\u001b[0m \u001b[1m0s\u001b[0m 49ms/step - loss: 3.8546 - mae: 3.8546\n",
            "Epoch 56/100\n",
            "\u001b[1m1/1\u001b[0m \u001b[32m━━━━━━━━━━━━━━━━━━━━\u001b[0m\u001b[37m\u001b[0m \u001b[1m0s\u001b[0m 49ms/step - loss: 3.7879 - mae: 3.7879\n",
            "Epoch 57/100\n",
            "\u001b[1m1/1\u001b[0m \u001b[32m━━━━━━━━━━━━━━━━━━━━\u001b[0m\u001b[37m\u001b[0m \u001b[1m0s\u001b[0m 64ms/step - loss: 3.8351 - mae: 3.8351\n",
            "Epoch 58/100\n",
            "\u001b[1m1/1\u001b[0m \u001b[32m━━━━━━━━━━━━━━━━━━━━\u001b[0m\u001b[37m\u001b[0m \u001b[1m0s\u001b[0m 47ms/step - loss: 3.8043 - mae: 3.8043\n",
            "Epoch 59/100\n",
            "\u001b[1m1/1\u001b[0m \u001b[32m━━━━━━━━━━━━━━━━━━━━\u001b[0m\u001b[37m\u001b[0m \u001b[1m0s\u001b[0m 60ms/step - loss: 3.8108 - mae: 3.8108\n",
            "Epoch 60/100\n",
            "\u001b[1m1/1\u001b[0m \u001b[32m━━━━━━━━━━━━━━━━━━━━\u001b[0m\u001b[37m\u001b[0m \u001b[1m0s\u001b[0m 48ms/step - loss: 3.8116 - mae: 3.8116\n",
            "Epoch 61/100\n",
            "\u001b[1m1/1\u001b[0m \u001b[32m━━━━━━━━━━━━━━━━━━━━\u001b[0m\u001b[37m\u001b[0m \u001b[1m0s\u001b[0m 50ms/step - loss: 3.7836 - mae: 3.7836\n",
            "Epoch 62/100\n",
            "\u001b[1m1/1\u001b[0m \u001b[32m━━━━━━━━━━━━━━━━━━━━\u001b[0m\u001b[37m\u001b[0m \u001b[1m0s\u001b[0m 61ms/step - loss: 3.8190 - mae: 3.8190\n",
            "Epoch 63/100\n",
            "\u001b[1m1/1\u001b[0m \u001b[32m━━━━━━━━━━━━━━━━━━━━\u001b[0m\u001b[37m\u001b[0m \u001b[1m0s\u001b[0m 50ms/step - loss: 3.7563 - mae: 3.7563\n",
            "Epoch 64/100\n",
            "\u001b[1m1/1\u001b[0m \u001b[32m━━━━━━━━━━━━━━━━━━━━\u001b[0m\u001b[37m\u001b[0m \u001b[1m0s\u001b[0m 58ms/step - loss: 3.8265 - mae: 3.8265\n",
            "Epoch 65/100\n",
            "\u001b[1m1/1\u001b[0m \u001b[32m━━━━━━━━━━━━━━━━━━━━\u001b[0m\u001b[37m\u001b[0m \u001b[1m0s\u001b[0m 66ms/step - loss: 3.7640 - mae: 3.7640\n",
            "Epoch 66/100\n",
            "\u001b[1m1/1\u001b[0m \u001b[32m━━━━━━━━━━━━━━━━━━━━\u001b[0m\u001b[37m\u001b[0m \u001b[1m0s\u001b[0m 70ms/step - loss: 3.8105 - mae: 3.8105\n",
            "Epoch 67/100\n",
            "\u001b[1m1/1\u001b[0m \u001b[32m━━━━━━━━━━━━━━━━━━━━\u001b[0m\u001b[37m\u001b[0m \u001b[1m0s\u001b[0m 128ms/step - loss: 3.7767 - mae: 3.7767\n",
            "Epoch 68/100\n",
            "\u001b[1m1/1\u001b[0m \u001b[32m━━━━━━━━━━━━━━━━━━━━\u001b[0m\u001b[37m\u001b[0m \u001b[1m0s\u001b[0m 55ms/step - loss: 3.7831 - mae: 3.7831\n",
            "Epoch 69/100\n",
            "\u001b[1m1/1\u001b[0m \u001b[32m━━━━━━━━━━━━━━━━━━━━\u001b[0m\u001b[37m\u001b[0m \u001b[1m0s\u001b[0m 59ms/step - loss: 3.7841 - mae: 3.7841\n",
            "Epoch 70/100\n",
            "\u001b[1m1/1\u001b[0m \u001b[32m━━━━━━━━━━━━━━━━━━━━\u001b[0m\u001b[37m\u001b[0m \u001b[1m0s\u001b[0m 47ms/step - loss: 3.7556 - mae: 3.7556\n",
            "Epoch 71/100\n",
            "\u001b[1m1/1\u001b[0m \u001b[32m━━━━━━━━━━━━━━━━━━━━\u001b[0m\u001b[37m\u001b[0m \u001b[1m0s\u001b[0m 50ms/step - loss: 3.7917 - mae: 3.7917\n",
            "Epoch 72/100\n",
            "\u001b[1m1/1\u001b[0m \u001b[32m━━━━━━━━━━━━━━━━━━━━\u001b[0m\u001b[37m\u001b[0m \u001b[1m0s\u001b[0m 57ms/step - loss: 3.7280 - mae: 3.7280\n",
            "Epoch 73/100\n",
            "\u001b[1m1/1\u001b[0m \u001b[32m━━━━━━━━━━━━━━━━━━━━\u001b[0m\u001b[37m\u001b[0m \u001b[1m0s\u001b[0m 61ms/step - loss: 3.8014 - mae: 3.8014\n",
            "Epoch 74/100\n",
            "\u001b[1m1/1\u001b[0m \u001b[32m━━━━━━━━━━━━━━━━━━━━\u001b[0m\u001b[37m\u001b[0m \u001b[1m0s\u001b[0m 57ms/step - loss: 3.7425 - mae: 3.7425\n",
            "Epoch 75/100\n",
            "\u001b[1m1/1\u001b[0m \u001b[32m━━━━━━━━━━━━━━━━━━━━\u001b[0m\u001b[37m\u001b[0m \u001b[1m0s\u001b[0m 59ms/step - loss: 3.7817 - mae: 3.7817\n",
            "Epoch 76/100\n",
            "\u001b[1m1/1\u001b[0m \u001b[32m━━━━━━━━━━━━━━━━━━━━\u001b[0m\u001b[37m\u001b[0m \u001b[1m0s\u001b[0m 55ms/step - loss: 3.7500 - mae: 3.7500\n",
            "Epoch 77/100\n",
            "\u001b[1m1/1\u001b[0m \u001b[32m━━━━━━━━━━━━━━━━━━━━\u001b[0m\u001b[37m\u001b[0m \u001b[1m0s\u001b[0m 59ms/step - loss: 3.7540 - mae: 3.7540\n",
            "Epoch 78/100\n",
            "\u001b[1m1/1\u001b[0m \u001b[32m━━━━━━━━━━━━━━━━━━━━\u001b[0m\u001b[37m\u001b[0m \u001b[1m0s\u001b[0m 49ms/step - loss: 3.7577 - mae: 3.7577\n",
            "Epoch 79/100\n",
            "\u001b[1m1/1\u001b[0m \u001b[32m━━━━━━━━━━━━━━━━━━━━\u001b[0m\u001b[37m\u001b[0m \u001b[1m0s\u001b[0m 60ms/step - loss: 3.7262 - mae: 3.7262\n",
            "Epoch 80/100\n",
            "\u001b[1m1/1\u001b[0m \u001b[32m━━━━━━━━━━━━━━━━━━━━\u001b[0m\u001b[37m\u001b[0m \u001b[1m0s\u001b[0m 57ms/step - loss: 3.7656 - mae: 3.7656\n",
            "Epoch 81/100\n",
            "\u001b[1m1/1\u001b[0m \u001b[32m━━━━━━━━━━━━━━━━━━━━\u001b[0m\u001b[37m\u001b[0m \u001b[1m0s\u001b[0m 60ms/step - loss: 3.7005 - mae: 3.7005\n",
            "Epoch 82/100\n",
            "\u001b[1m1/1\u001b[0m \u001b[32m━━━━━━━━━━━━━━━━━━━━\u001b[0m\u001b[37m\u001b[0m \u001b[1m0s\u001b[0m 52ms/step - loss: 3.7793 - mae: 3.7793\n",
            "Epoch 83/100\n",
            "\u001b[1m1/1\u001b[0m \u001b[32m━━━━━━━━━━━━━━━━━━━━\u001b[0m\u001b[37m\u001b[0m \u001b[1m0s\u001b[0m 49ms/step - loss: 3.7168 - mae: 3.7168\n",
            "Epoch 84/100\n",
            "\u001b[1m1/1\u001b[0m \u001b[32m━━━━━━━━━━━━━━━━━━━━\u001b[0m\u001b[37m\u001b[0m \u001b[1m0s\u001b[0m 50ms/step - loss: 3.7514 - mae: 3.7514\n",
            "Epoch 85/100\n",
            "\u001b[1m1/1\u001b[0m \u001b[32m━━━━━━━━━━━━━━━━━━━━\u001b[0m\u001b[37m\u001b[0m \u001b[1m0s\u001b[0m 50ms/step - loss: 3.7246 - mae: 3.7246\n",
            "Epoch 86/100\n",
            "\u001b[1m1/1\u001b[0m \u001b[32m━━━━━━━━━━━━━━━━━━━━\u001b[0m\u001b[37m\u001b[0m \u001b[1m0s\u001b[0m 53ms/step - loss: 3.7234 - mae: 3.7234\n",
            "Epoch 87/100\n",
            "\u001b[1m1/1\u001b[0m \u001b[32m━━━━━━━━━━━━━━━━━━━━\u001b[0m\u001b[37m\u001b[0m \u001b[1m0s\u001b[0m 50ms/step - loss: 3.7325 - mae: 3.7325\n",
            "Epoch 88/100\n",
            "\u001b[1m1/1\u001b[0m \u001b[32m━━━━━━━━━━━━━━━━━━━━\u001b[0m\u001b[37m\u001b[0m \u001b[1m0s\u001b[0m 47ms/step - loss: 3.6954 - mae: 3.6954\n",
            "Epoch 89/100\n",
            "\u001b[1m1/1\u001b[0m \u001b[32m━━━━━━━━━━━━━━━━━━━━\u001b[0m\u001b[37m\u001b[0m \u001b[1m0s\u001b[0m 50ms/step - loss: 3.7405 - mae: 3.7405\n",
            "Epoch 90/100\n",
            "\u001b[1m1/1\u001b[0m \u001b[32m━━━━━━━━━━━━━━━━━━━━\u001b[0m\u001b[37m\u001b[0m \u001b[1m0s\u001b[0m 49ms/step - loss: 3.6824 - mae: 3.6824\n",
            "Epoch 91/100\n",
            "\u001b[1m1/1\u001b[0m \u001b[32m━━━━━━━━━━━━━━━━━━━━\u001b[0m\u001b[37m\u001b[0m \u001b[1m0s\u001b[0m 62ms/step - loss: 3.7482 - mae: 3.7482\n",
            "Epoch 92/100\n",
            "\u001b[1m1/1\u001b[0m \u001b[32m━━━━━━━━━━━━━━━━━━━━\u001b[0m\u001b[37m\u001b[0m \u001b[1m0s\u001b[0m 61ms/step - loss: 3.6921 - mae: 3.6921\n",
            "Epoch 93/100\n",
            "\u001b[1m1/1\u001b[0m \u001b[32m━━━━━━━━━━━━━━━━━━━━\u001b[0m\u001b[37m\u001b[0m \u001b[1m0s\u001b[0m 48ms/step - loss: 3.7200 - mae: 3.7200\n",
            "Epoch 94/100\n",
            "\u001b[1m1/1\u001b[0m \u001b[32m━━━━━━━━━━━━━━━━━━━━\u001b[0m\u001b[37m\u001b[0m \u001b[1m0s\u001b[0m 59ms/step - loss: 3.7001 - mae: 3.7001\n",
            "Epoch 95/100\n",
            "\u001b[1m1/1\u001b[0m \u001b[32m━━━━━━━━━━━━━━━━━━━━\u001b[0m\u001b[37m\u001b[0m \u001b[1m0s\u001b[0m 59ms/step - loss: 3.6917 - mae: 3.6917\n",
            "Epoch 96/100\n",
            "\u001b[1m1/1\u001b[0m \u001b[32m━━━━━━━━━━━━━━━━━━━━\u001b[0m\u001b[37m\u001b[0m \u001b[1m0s\u001b[0m 52ms/step - loss: 3.7082 - mae: 3.7082\n",
            "Epoch 97/100\n",
            "\u001b[1m1/1\u001b[0m \u001b[32m━━━━━━━━━━━━━━━━━━━━\u001b[0m\u001b[37m\u001b[0m \u001b[1m0s\u001b[0m 54ms/step - loss: 3.6634 - mae: 3.6634\n",
            "Epoch 98/100\n",
            "\u001b[1m1/1\u001b[0m \u001b[32m━━━━━━━━━━━━━━━━━━━━\u001b[0m\u001b[37m\u001b[0m \u001b[1m0s\u001b[0m 60ms/step - loss: 3.7213 - mae: 3.7213\n",
            "Epoch 99/100\n",
            "\u001b[1m1/1\u001b[0m \u001b[32m━━━━━━━━━━━━━━━━━━━━\u001b[0m\u001b[37m\u001b[0m \u001b[1m0s\u001b[0m 132ms/step - loss: 3.6603 - mae: 3.6603\n",
            "Epoch 100/100\n",
            "\u001b[1m1/1\u001b[0m \u001b[32m━━━━━━━━━━━━━━━━━━━━\u001b[0m\u001b[37m\u001b[0m \u001b[1m0s\u001b[0m 51ms/step - loss: 3.7158 - mae: 3.7158\n"
          ]
        },
        {
          "output_type": "execute_result",
          "data": {
            "text/plain": [
              "<keras.src.callbacks.history.History at 0x7baf4411b510>"
            ]
          },
          "metadata": {},
          "execution_count": 18
        }
      ]
    },
    {
      "cell_type": "code",
      "source": [
        "# Let's remind ourselves of the data\n",
        "X, y"
      ],
      "metadata": {
        "colab": {
          "base_uri": "https://localhost:8080/"
        },
        "id": "gu0CZcFy7U6x",
        "outputId": "77d23106-87f2-491d-f3b5-5a20f43337dc"
      },
      "execution_count": 19,
      "outputs": [
        {
          "output_type": "execute_result",
          "data": {
            "text/plain": [
              "(<tf.Tensor: shape=(8,), dtype=float32, numpy=array([-7., -4., -1.,  2.,  5.,  8., 11., 14.], dtype=float32)>,\n",
              " <tf.Tensor: shape=(8,), dtype=float32, numpy=array([ 3.,  6.,  9., 12., 15., 18., 21., 24.], dtype=float32)>)"
            ]
          },
          "metadata": {},
          "execution_count": 19
        }
      ]
    },
    {
      "cell_type": "code",
      "source": [
        "#Let's try to make a prediction\n",
        "model.predict(tf.expand_dims([17.0], axis=-1))"
      ],
      "metadata": {
        "colab": {
          "base_uri": "https://localhost:8080/"
        },
        "id": "vrk3Q9o67bAR",
        "outputId": "c916c384-efae-4f8c-a2ec-59befadfad6e"
      },
      "execution_count": 20,
      "outputs": [
        {
          "output_type": "stream",
          "name": "stdout",
          "text": [
            "\u001b[1m1/1\u001b[0m \u001b[32m━━━━━━━━━━━━━━━━━━━━\u001b[0m\u001b[37m\u001b[0m \u001b[1m0s\u001b[0m 62ms/step\n"
          ]
        },
        {
          "output_type": "execute_result",
          "data": {
            "text/plain": [
              "array([[32.240288]], dtype=float32)"
            ]
          },
          "metadata": {},
          "execution_count": 20
        }
      ]
    },
    {
      "cell_type": "markdown",
      "source": [
        "**Common ways to improve a deep model:**\n",
        "\n",
        "* Adding layers\n",
        "* Increase the number of hidden units\n",
        "* Change the activation functions\n",
        "* Change the optimizaiton function\n",
        "* Change the learning rate (potentially the most important hyperparameter)\n",
        "* Fitting on more data\n",
        "* Fitting for longer (epochs)\n",
        "\n",
        "\n"
      ],
      "metadata": {
        "id": "jKhGwaWp8hS0"
      }
    },
    {
      "cell_type": "code",
      "source": [
        "# Change neuron numbers\n",
        "\n",
        "# 1. Create the model\n",
        "model = tf.keras.Sequential([\n",
        "    tf.keras.layers.Dense(50, activation=\"relu\"),\n",
        "    tf.keras.layers.Dense(1)\n",
        "])\n",
        "\n",
        "# 2. Compile the model\n",
        "model.compile(loss=\"mae\",\n",
        "              optimizer=tf.keras.optimizers.SGD(),\n",
        "              metrics=[\"mae\"])\n",
        "\n",
        "# 3. Fit the model\n",
        "model.fit(tf.expand_dims(X, axis=-1), y, epochs=100)"
      ],
      "metadata": {
        "colab": {
          "base_uri": "https://localhost:8080/"
        },
        "id": "UuyJx6p99c2I",
        "outputId": "7eea35ae-4bb7-4802-e605-9e2317c82f86"
      },
      "execution_count": 21,
      "outputs": [
        {
          "output_type": "stream",
          "name": "stdout",
          "text": [
            "Epoch 1/100\n",
            "\u001b[1m1/1\u001b[0m \u001b[32m━━━━━━━━━━━━━━━━━━━━\u001b[0m\u001b[37m\u001b[0m \u001b[1m1s\u001b[0m 605ms/step - loss: 12.9191 - mae: 12.9191\n",
            "Epoch 2/100\n",
            "\u001b[1m1/1\u001b[0m \u001b[32m━━━━━━━━━━━━━━━━━━━━\u001b[0m\u001b[37m\u001b[0m \u001b[1m0s\u001b[0m 50ms/step - loss: 12.2942 - mae: 12.2942\n",
            "Epoch 3/100\n",
            "\u001b[1m1/1\u001b[0m \u001b[32m━━━━━━━━━━━━━━━━━━━━\u001b[0m\u001b[37m\u001b[0m \u001b[1m0s\u001b[0m 58ms/step - loss: 11.6626 - mae: 11.6626\n",
            "Epoch 4/100\n",
            "\u001b[1m1/1\u001b[0m \u001b[32m━━━━━━━━━━━━━━━━━━━━\u001b[0m\u001b[37m\u001b[0m \u001b[1m0s\u001b[0m 55ms/step - loss: 11.0241 - mae: 11.0241\n",
            "Epoch 5/100\n",
            "\u001b[1m1/1\u001b[0m \u001b[32m━━━━━━━━━━━━━━━━━━━━\u001b[0m\u001b[37m\u001b[0m \u001b[1m0s\u001b[0m 60ms/step - loss: 10.3689 - mae: 10.3689\n",
            "Epoch 6/100\n",
            "\u001b[1m1/1\u001b[0m \u001b[32m━━━━━━━━━━━━━━━━━━━━\u001b[0m\u001b[37m\u001b[0m \u001b[1m0s\u001b[0m 50ms/step - loss: 9.6923 - mae: 9.6923\n",
            "Epoch 7/100\n",
            "\u001b[1m1/1\u001b[0m \u001b[32m━━━━━━━━━━━━━━━━━━━━\u001b[0m\u001b[37m\u001b[0m \u001b[1m0s\u001b[0m 50ms/step - loss: 9.0072 - mae: 9.0072\n",
            "Epoch 8/100\n",
            "\u001b[1m1/1\u001b[0m \u001b[32m━━━━━━━━━━━━━━━━━━━━\u001b[0m\u001b[37m\u001b[0m \u001b[1m0s\u001b[0m 54ms/step - loss: 8.2918 - mae: 8.2918\n",
            "Epoch 9/100\n",
            "\u001b[1m1/1\u001b[0m \u001b[32m━━━━━━━━━━━━━━━━━━━━\u001b[0m\u001b[37m\u001b[0m \u001b[1m0s\u001b[0m 49ms/step - loss: 7.5327 - mae: 7.5327\n",
            "Epoch 10/100\n",
            "\u001b[1m1/1\u001b[0m \u001b[32m━━━━━━━━━━━━━━━━━━━━\u001b[0m\u001b[37m\u001b[0m \u001b[1m0s\u001b[0m 64ms/step - loss: 6.7224 - mae: 6.7224\n",
            "Epoch 11/100\n",
            "\u001b[1m1/1\u001b[0m \u001b[32m━━━━━━━━━━━━━━━━━━━━\u001b[0m\u001b[37m\u001b[0m \u001b[1m0s\u001b[0m 55ms/step - loss: 5.8514 - mae: 5.8514\n",
            "Epoch 12/100\n",
            "\u001b[1m1/1\u001b[0m \u001b[32m━━━━━━━━━━━━━━━━━━━━\u001b[0m\u001b[37m\u001b[0m \u001b[1m0s\u001b[0m 49ms/step - loss: 4.9108 - mae: 4.9108\n",
            "Epoch 13/100\n",
            "\u001b[1m1/1\u001b[0m \u001b[32m━━━━━━━━━━━━━━━━━━━━\u001b[0m\u001b[37m\u001b[0m \u001b[1m0s\u001b[0m 59ms/step - loss: 4.2707 - mae: 4.2707\n",
            "Epoch 14/100\n",
            "\u001b[1m1/1\u001b[0m \u001b[32m━━━━━━━━━━━━━━━━━━━━\u001b[0m\u001b[37m\u001b[0m \u001b[1m0s\u001b[0m 50ms/step - loss: 4.1331 - mae: 4.1331\n",
            "Epoch 15/100\n",
            "\u001b[1m1/1\u001b[0m \u001b[32m━━━━━━━━━━━━━━━━━━━━\u001b[0m\u001b[37m\u001b[0m \u001b[1m0s\u001b[0m 49ms/step - loss: 4.1223 - mae: 4.1223\n",
            "Epoch 16/100\n",
            "\u001b[1m1/1\u001b[0m \u001b[32m━━━━━━━━━━━━━━━━━━━━\u001b[0m\u001b[37m\u001b[0m \u001b[1m0s\u001b[0m 60ms/step - loss: 4.0327 - mae: 4.0327\n",
            "Epoch 17/100\n",
            "\u001b[1m1/1\u001b[0m \u001b[32m━━━━━━━━━━━━━━━━━━━━\u001b[0m\u001b[37m\u001b[0m \u001b[1m0s\u001b[0m 136ms/step - loss: 4.0557 - mae: 4.0557\n",
            "Epoch 18/100\n",
            "\u001b[1m1/1\u001b[0m \u001b[32m━━━━━━━━━━━━━━━━━━━━\u001b[0m\u001b[37m\u001b[0m \u001b[1m0s\u001b[0m 47ms/step - loss: 3.9492 - mae: 3.9492\n",
            "Epoch 19/100\n",
            "\u001b[1m1/1\u001b[0m \u001b[32m━━━━━━━━━━━━━━━━━━━━\u001b[0m\u001b[37m\u001b[0m \u001b[1m0s\u001b[0m 62ms/step - loss: 3.9685 - mae: 3.9685\n",
            "Epoch 20/100\n",
            "\u001b[1m1/1\u001b[0m \u001b[32m━━━━━━━━━━━━━━━━━━━━\u001b[0m\u001b[37m\u001b[0m \u001b[1m0s\u001b[0m 50ms/step - loss: 3.9101 - mae: 3.9101\n",
            "Epoch 21/100\n",
            "\u001b[1m1/1\u001b[0m \u001b[32m━━━━━━━━━━━━━━━━━━━━\u001b[0m\u001b[37m\u001b[0m \u001b[1m0s\u001b[0m 59ms/step - loss: 3.9335 - mae: 3.9335\n",
            "Epoch 22/100\n",
            "\u001b[1m1/1\u001b[0m \u001b[32m━━━━━━━━━━━━━━━━━━━━\u001b[0m\u001b[37m\u001b[0m \u001b[1m0s\u001b[0m 158ms/step - loss: 3.9180 - mae: 3.9180\n",
            "Epoch 23/100\n",
            "\u001b[1m1/1\u001b[0m \u001b[32m━━━━━━━━━━━━━━━━━━━━\u001b[0m\u001b[37m\u001b[0m \u001b[1m0s\u001b[0m 80ms/step - loss: 3.9081 - mae: 3.9081\n",
            "Epoch 24/100\n",
            "\u001b[1m1/1\u001b[0m \u001b[32m━━━━━━━━━━━━━━━━━━━━\u001b[0m\u001b[37m\u001b[0m \u001b[1m0s\u001b[0m 103ms/step - loss: 3.9260 - mae: 3.9260\n",
            "Epoch 25/100\n",
            "\u001b[1m1/1\u001b[0m \u001b[32m━━━━━━━━━━━━━━━━━━━━\u001b[0m\u001b[37m\u001b[0m \u001b[1m0s\u001b[0m 73ms/step - loss: 3.8824 - mae: 3.8824\n",
            "Epoch 26/100\n",
            "\u001b[1m1/1\u001b[0m \u001b[32m━━━━━━━━━━━━━━━━━━━━\u001b[0m\u001b[37m\u001b[0m \u001b[1m0s\u001b[0m 70ms/step - loss: 3.9381 - mae: 3.9381\n",
            "Epoch 27/100\n",
            "\u001b[1m1/1\u001b[0m \u001b[32m━━━━━━━━━━━━━━━━━━━━\u001b[0m\u001b[37m\u001b[0m \u001b[1m0s\u001b[0m 65ms/step - loss: 3.8713 - mae: 3.8713\n",
            "Epoch 28/100\n",
            "\u001b[1m1/1\u001b[0m \u001b[32m━━━━━━━━━━━━━━━━━━━━\u001b[0m\u001b[37m\u001b[0m \u001b[1m0s\u001b[0m 95ms/step - loss: 3.9378 - mae: 3.9378\n",
            "Epoch 29/100\n",
            "\u001b[1m1/1\u001b[0m \u001b[32m━━━━━━━━━━━━━━━━━━━━\u001b[0m\u001b[37m\u001b[0m \u001b[1m0s\u001b[0m 117ms/step - loss: 3.8792 - mae: 3.8792\n",
            "Epoch 30/100\n",
            "\u001b[1m1/1\u001b[0m \u001b[32m━━━━━━━━━━━━━━━━━━━━\u001b[0m\u001b[37m\u001b[0m \u001b[1m0s\u001b[0m 70ms/step - loss: 3.9122 - mae: 3.9122\n",
            "Epoch 31/100\n",
            "\u001b[1m1/1\u001b[0m \u001b[32m━━━━━━━━━━━━━━━━━━━━\u001b[0m\u001b[37m\u001b[0m \u001b[1m0s\u001b[0m 73ms/step - loss: 3.8873 - mae: 3.8873\n",
            "Epoch 32/100\n",
            "\u001b[1m1/1\u001b[0m \u001b[32m━━━━━━━━━━━━━━━━━━━━\u001b[0m\u001b[37m\u001b[0m \u001b[1m0s\u001b[0m 128ms/step - loss: 3.8865 - mae: 3.8865\n",
            "Epoch 33/100\n",
            "\u001b[1m1/1\u001b[0m \u001b[32m━━━━━━━━━━━━━━━━━━━━\u001b[0m\u001b[37m\u001b[0m \u001b[1m0s\u001b[0m 139ms/step - loss: 3.8955 - mae: 3.8955\n",
            "Epoch 34/100\n",
            "\u001b[1m1/1\u001b[0m \u001b[32m━━━━━━━━━━━━━━━━━━━━\u001b[0m\u001b[37m\u001b[0m \u001b[1m0s\u001b[0m 157ms/step - loss: 3.8609 - mae: 3.8609\n",
            "Epoch 35/100\n",
            "\u001b[1m1/1\u001b[0m \u001b[32m━━━━━━━━━━━━━━━━━━━━\u001b[0m\u001b[37m\u001b[0m \u001b[1m0s\u001b[0m 129ms/step - loss: 3.9097 - mae: 3.9097\n",
            "Epoch 36/100\n",
            "\u001b[1m1/1\u001b[0m \u001b[32m━━━━━━━━━━━━━━━━━━━━\u001b[0m\u001b[37m\u001b[0m \u001b[1m0s\u001b[0m 143ms/step - loss: 3.8414 - mae: 3.8414\n",
            "Epoch 37/100\n",
            "\u001b[1m1/1\u001b[0m \u001b[32m━━━━━━━━━━━━━━━━━━━━\u001b[0m\u001b[37m\u001b[0m \u001b[1m0s\u001b[0m 68ms/step - loss: 3.9155 - mae: 3.9155\n",
            "Epoch 38/100\n",
            "\u001b[1m1/1\u001b[0m \u001b[32m━━━━━━━━━━━━━━━━━━━━\u001b[0m\u001b[37m\u001b[0m \u001b[1m0s\u001b[0m 73ms/step - loss: 3.8495 - mae: 3.8495\n",
            "Epoch 39/100\n",
            "\u001b[1m1/1\u001b[0m \u001b[32m━━━━━━━━━━━━━━━━━━━━\u001b[0m\u001b[37m\u001b[0m \u001b[1m0s\u001b[0m 87ms/step - loss: 3.8897 - mae: 3.8897\n",
            "Epoch 40/100\n",
            "\u001b[1m1/1\u001b[0m \u001b[32m━━━━━━━━━━━━━━━━━━━━\u001b[0m\u001b[37m\u001b[0m \u001b[1m0s\u001b[0m 81ms/step - loss: 3.8578 - mae: 3.8578\n",
            "Epoch 41/100\n",
            "\u001b[1m1/1\u001b[0m \u001b[32m━━━━━━━━━━━━━━━━━━━━\u001b[0m\u001b[37m\u001b[0m \u001b[1m0s\u001b[0m 141ms/step - loss: 3.8637 - mae: 3.8637\n",
            "Epoch 42/100\n",
            "\u001b[1m1/1\u001b[0m \u001b[32m━━━━━━━━━━━━━━━━━━━━\u001b[0m\u001b[37m\u001b[0m \u001b[1m0s\u001b[0m 114ms/step - loss: 3.8662 - mae: 3.8662\n",
            "Epoch 43/100\n",
            "\u001b[1m1/1\u001b[0m \u001b[32m━━━━━━━━━━━━━━━━━━━━\u001b[0m\u001b[37m\u001b[0m \u001b[1m0s\u001b[0m 48ms/step - loss: 3.8392 - mae: 3.8392\n",
            "Epoch 44/100\n",
            "\u001b[1m1/1\u001b[0m \u001b[32m━━━━━━━━━━━━━━━━━━━━\u001b[0m\u001b[37m\u001b[0m \u001b[1m0s\u001b[0m 52ms/step - loss: 3.8805 - mae: 3.8805\n",
            "Epoch 45/100\n",
            "\u001b[1m1/1\u001b[0m \u001b[32m━━━━━━━━━━━━━━━━━━━━\u001b[0m\u001b[37m\u001b[0m \u001b[1m0s\u001b[0m 53ms/step - loss: 3.8163 - mae: 3.8163\n",
            "Epoch 46/100\n",
            "\u001b[1m1/1\u001b[0m \u001b[32m━━━━━━━━━━━━━━━━━━━━\u001b[0m\u001b[37m\u001b[0m \u001b[1m0s\u001b[0m 48ms/step - loss: 3.8892 - mae: 3.8892\n",
            "Epoch 47/100\n",
            "\u001b[1m1/1\u001b[0m \u001b[32m━━━━━━━━━━━━━━━━━━━━\u001b[0m\u001b[37m\u001b[0m \u001b[1m0s\u001b[0m 63ms/step - loss: 3.8209 - mae: 3.8209\n",
            "Epoch 48/100\n",
            "\u001b[1m1/1\u001b[0m \u001b[32m━━━━━━━━━━━━━━━━━━━━\u001b[0m\u001b[37m\u001b[0m \u001b[1m0s\u001b[0m 58ms/step - loss: 3.8658 - mae: 3.8658\n",
            "Epoch 49/100\n",
            "\u001b[1m1/1\u001b[0m \u001b[32m━━━━━━━━━━━━━━━━━━━━\u001b[0m\u001b[37m\u001b[0m \u001b[1m0s\u001b[0m 132ms/step - loss: 3.8294 - mae: 3.8294\n",
            "Epoch 50/100\n",
            "\u001b[1m1/1\u001b[0m \u001b[32m━━━━━━━━━━━━━━━━━━━━\u001b[0m\u001b[37m\u001b[0m \u001b[1m0s\u001b[0m 60ms/step - loss: 3.8395 - mae: 3.8395\n",
            "Epoch 51/100\n",
            "\u001b[1m1/1\u001b[0m \u001b[32m━━━━━━━━━━━━━━━━━━━━\u001b[0m\u001b[37m\u001b[0m \u001b[1m0s\u001b[0m 59ms/step - loss: 3.8380 - mae: 3.8380\n",
            "Epoch 52/100\n",
            "\u001b[1m1/1\u001b[0m \u001b[32m━━━━━━━━━━━━━━━━━━━━\u001b[0m\u001b[37m\u001b[0m \u001b[1m0s\u001b[0m 50ms/step - loss: 3.8160 - mae: 3.8160\n",
            "Epoch 53/100\n",
            "\u001b[1m1/1\u001b[0m \u001b[32m━━━━━━━━━━━━━━━━━━━━\u001b[0m\u001b[37m\u001b[0m \u001b[1m0s\u001b[0m 61ms/step - loss: 3.8525 - mae: 3.8525\n",
            "Epoch 54/100\n",
            "\u001b[1m1/1\u001b[0m \u001b[32m━━━━━━━━━━━━━━━━━━━━\u001b[0m\u001b[37m\u001b[0m \u001b[1m0s\u001b[0m 49ms/step - loss: 3.7916 - mae: 3.7916\n",
            "Epoch 55/100\n",
            "\u001b[1m1/1\u001b[0m \u001b[32m━━━━━━━━━━━━━━━━━━━━\u001b[0m\u001b[37m\u001b[0m \u001b[1m0s\u001b[0m 48ms/step - loss: 3.8613 - mae: 3.8613\n",
            "Epoch 56/100\n",
            "\u001b[1m1/1\u001b[0m \u001b[32m━━━━━━━━━━━━━━━━━━━━\u001b[0m\u001b[37m\u001b[0m \u001b[1m0s\u001b[0m 60ms/step - loss: 3.7934 - mae: 3.7934\n",
            "Epoch 57/100\n",
            "\u001b[1m1/1\u001b[0m \u001b[32m━━━━━━━━━━━━━━━━━━━━\u001b[0m\u001b[37m\u001b[0m \u001b[1m0s\u001b[0m 48ms/step - loss: 3.8407 - mae: 3.8407\n",
            "Epoch 58/100\n",
            "\u001b[1m1/1\u001b[0m \u001b[32m━━━━━━━━━━━━━━━━━━━━\u001b[0m\u001b[37m\u001b[0m \u001b[1m0s\u001b[0m 48ms/step - loss: 3.8021 - mae: 3.8021\n",
            "Epoch 59/100\n",
            "\u001b[1m1/1\u001b[0m \u001b[32m━━━━━━━━━━━━━━━━━━━━\u001b[0m\u001b[37m\u001b[0m \u001b[1m0s\u001b[0m 49ms/step - loss: 3.8141 - mae: 3.8141\n",
            "Epoch 60/100\n",
            "\u001b[1m1/1\u001b[0m \u001b[32m━━━━━━━━━━━━━━━━━━━━\u001b[0m\u001b[37m\u001b[0m \u001b[1m0s\u001b[0m 47ms/step - loss: 3.8109 - mae: 3.8109\n",
            "Epoch 61/100\n",
            "\u001b[1m1/1\u001b[0m \u001b[32m━━━━━━━━━━━━━━━━━━━━\u001b[0m\u001b[37m\u001b[0m \u001b[1m0s\u001b[0m 63ms/step - loss: 3.7913 - mae: 3.7913\n",
            "Epoch 62/100\n",
            "\u001b[1m1/1\u001b[0m \u001b[32m━━━━━━━━━━━━━━━━━━━━\u001b[0m\u001b[37m\u001b[0m \u001b[1m0s\u001b[0m 55ms/step - loss: 3.8256 - mae: 3.8256\n",
            "Epoch 63/100\n",
            "\u001b[1m1/1\u001b[0m \u001b[32m━━━━━━━━━━━━━━━━━━━━\u001b[0m\u001b[37m\u001b[0m \u001b[1m0s\u001b[0m 53ms/step - loss: 3.7656 - mae: 3.7656\n",
            "Epoch 64/100\n",
            "\u001b[1m1/1\u001b[0m \u001b[32m━━━━━━━━━━━━━━━━━━━━\u001b[0m\u001b[37m\u001b[0m \u001b[1m0s\u001b[0m 57ms/step - loss: 3.8346 - mae: 3.8346\n",
            "Epoch 65/100\n",
            "\u001b[1m1/1\u001b[0m \u001b[32m━━━━━━━━━━━━━━━━━━━━\u001b[0m\u001b[37m\u001b[0m \u001b[1m0s\u001b[0m 134ms/step - loss: 3.7670 - mae: 3.7670\n",
            "Epoch 66/100\n",
            "\u001b[1m1/1\u001b[0m \u001b[32m━━━━━━━━━━━━━━━━━━━━\u001b[0m\u001b[37m\u001b[0m \u001b[1m0s\u001b[0m 48ms/step - loss: 3.8142 - mae: 3.8142\n",
            "Epoch 67/100\n",
            "\u001b[1m1/1\u001b[0m \u001b[32m━━━━━━━━━━━━━━━━━━━━\u001b[0m\u001b[37m\u001b[0m \u001b[1m0s\u001b[0m 61ms/step - loss: 3.7759 - mae: 3.7759\n",
            "Epoch 68/100\n",
            "\u001b[1m1/1\u001b[0m \u001b[32m━━━━━━━━━━━━━━━━━━━━\u001b[0m\u001b[37m\u001b[0m \u001b[1m0s\u001b[0m 56ms/step - loss: 3.7874 - mae: 3.7874\n",
            "Epoch 69/100\n",
            "\u001b[1m1/1\u001b[0m \u001b[32m━━━━━━━━━━━━━━━━━━━━\u001b[0m\u001b[37m\u001b[0m \u001b[1m0s\u001b[0m 58ms/step - loss: 3.7849 - mae: 3.7849\n",
            "Epoch 70/100\n",
            "\u001b[1m1/1\u001b[0m \u001b[32m━━━━━━━━━━━━━━━━━━━━\u001b[0m\u001b[37m\u001b[0m \u001b[1m0s\u001b[0m 52ms/step - loss: 3.7653 - mae: 3.7653\n",
            "Epoch 71/100\n",
            "\u001b[1m1/1\u001b[0m \u001b[32m━━━━━━━━━━━━━━━━━━━━\u001b[0m\u001b[37m\u001b[0m \u001b[1m0s\u001b[0m 49ms/step - loss: 3.7997 - mae: 3.7997\n",
            "Epoch 72/100\n",
            "\u001b[1m1/1\u001b[0m \u001b[32m━━━━━━━━━━━━━━━━━━━━\u001b[0m\u001b[37m\u001b[0m \u001b[1m0s\u001b[0m 58ms/step - loss: 3.7382 - mae: 3.7382\n",
            "Epoch 73/100\n",
            "\u001b[1m1/1\u001b[0m \u001b[32m━━━━━━━━━━━━━━━━━━━━\u001b[0m\u001b[37m\u001b[0m \u001b[1m0s\u001b[0m 62ms/step - loss: 3.8089 - mae: 3.8089\n",
            "Epoch 74/100\n",
            "\u001b[1m1/1\u001b[0m \u001b[32m━━━━━━━━━━━━━━━━━━━━\u001b[0m\u001b[37m\u001b[0m \u001b[1m0s\u001b[0m 56ms/step - loss: 3.7416 - mae: 3.7416\n",
            "Epoch 75/100\n",
            "\u001b[1m1/1\u001b[0m \u001b[32m━━━━━━━━━━━━━━━━━━━━\u001b[0m\u001b[37m\u001b[0m \u001b[1m0s\u001b[0m 65ms/step - loss: 3.7865 - mae: 3.7865\n",
            "Epoch 76/100\n",
            "\u001b[1m1/1\u001b[0m \u001b[32m━━━━━━━━━━━━━━━━━━━━\u001b[0m\u001b[37m\u001b[0m \u001b[1m0s\u001b[0m 50ms/step - loss: 3.7507 - mae: 3.7507\n",
            "Epoch 77/100\n",
            "\u001b[1m1/1\u001b[0m \u001b[32m━━━━━━━━━━━━━━━━━━━━\u001b[0m\u001b[37m\u001b[0m \u001b[1m0s\u001b[0m 59ms/step - loss: 3.7593 - mae: 3.7593\n",
            "Epoch 78/100\n",
            "\u001b[1m1/1\u001b[0m \u001b[32m━━━━━━━━━━━━━━━━━━━━\u001b[0m\u001b[37m\u001b[0m \u001b[1m0s\u001b[0m 48ms/step - loss: 3.7602 - mae: 3.7602\n",
            "Epoch 79/100\n",
            "\u001b[1m1/1\u001b[0m \u001b[32m━━━━━━━━━━━━━━━━━━━━\u001b[0m\u001b[37m\u001b[0m \u001b[1m0s\u001b[0m 52ms/step - loss: 3.7371 - mae: 3.7371\n",
            "Epoch 80/100\n",
            "\u001b[1m1/1\u001b[0m \u001b[32m━━━━━━━━━━━━━━━━━━━━\u001b[0m\u001b[37m\u001b[0m \u001b[1m0s\u001b[0m 144ms/step - loss: 3.7749 - mae: 3.7749\n",
            "Epoch 81/100\n",
            "\u001b[1m1/1\u001b[0m \u001b[32m━━━━━━━━━━━━━━━━━━━━\u001b[0m\u001b[37m\u001b[0m \u001b[1m0s\u001b[0m 49ms/step - loss: 3.7095 - mae: 3.7095\n",
            "Epoch 82/100\n",
            "\u001b[1m1/1\u001b[0m \u001b[32m━━━━━━━━━━━━━━━━━━━━\u001b[0m\u001b[37m\u001b[0m \u001b[1m0s\u001b[0m 55ms/step - loss: 3.7843 - mae: 3.7843\n",
            "Epoch 83/100\n",
            "\u001b[1m1/1\u001b[0m \u001b[32m━━━━━━━━━━━━━━━━━━━━\u001b[0m\u001b[37m\u001b[0m \u001b[1m0s\u001b[0m 54ms/step - loss: 3.7172 - mae: 3.7172\n",
            "Epoch 84/100\n",
            "\u001b[1m1/1\u001b[0m \u001b[32m━━━━━━━━━━━━━━━━━━━━\u001b[0m\u001b[37m\u001b[0m \u001b[1m0s\u001b[0m 56ms/step - loss: 3.7574 - mae: 3.7574\n",
            "Epoch 85/100\n",
            "\u001b[1m1/1\u001b[0m \u001b[32m━━━━━━━━━━━━━━━━━━━━\u001b[0m\u001b[37m\u001b[0m \u001b[1m0s\u001b[0m 141ms/step - loss: 3.7265 - mae: 3.7265\n",
            "Epoch 86/100\n",
            "\u001b[1m1/1\u001b[0m \u001b[32m━━━━━━━━━━━━━━━━━━━━\u001b[0m\u001b[37m\u001b[0m \u001b[1m0s\u001b[0m 50ms/step - loss: 3.7299 - mae: 3.7299\n",
            "Epoch 87/100\n",
            "\u001b[1m1/1\u001b[0m \u001b[32m━━━━━━━━━━━━━━━━━━━━\u001b[0m\u001b[37m\u001b[0m \u001b[1m0s\u001b[0m 49ms/step - loss: 3.7370 - mae: 3.7370\n",
            "Epoch 88/100\n",
            "\u001b[1m1/1\u001b[0m \u001b[32m━━━━━━━━━━━━━━━━━━━━\u001b[0m\u001b[37m\u001b[0m \u001b[1m0s\u001b[0m 50ms/step - loss: 3.7073 - mae: 3.7073\n",
            "Epoch 89/100\n",
            "\u001b[1m1/1\u001b[0m \u001b[32m━━━━━━━━━━━━━━━━━━━━\u001b[0m\u001b[37m\u001b[0m \u001b[1m0s\u001b[0m 61ms/step - loss: 3.7511 - mae: 3.7511\n",
            "Epoch 90/100\n",
            "\u001b[1m1/1\u001b[0m \u001b[32m━━━━━━━━━━━━━━━━━━━━\u001b[0m\u001b[37m\u001b[0m \u001b[1m0s\u001b[0m 58ms/step - loss: 3.6845 - mae: 3.6845\n",
            "Epoch 91/100\n",
            "\u001b[1m1/1\u001b[0m \u001b[32m━━━━━━━━━━━━━━━━━━━━\u001b[0m\u001b[37m\u001b[0m \u001b[1m0s\u001b[0m 48ms/step - loss: 3.7546 - mae: 3.7546\n",
            "Epoch 92/100\n",
            "\u001b[1m1/1\u001b[0m \u001b[32m━━━━━━━━━━━━━━━━━━━━\u001b[0m\u001b[37m\u001b[0m \u001b[1m0s\u001b[0m 57ms/step - loss: 3.6938 - mae: 3.6938\n",
            "Epoch 93/100\n",
            "\u001b[1m1/1\u001b[0m \u001b[32m━━━━━━━━━━━━━━━━━━━━\u001b[0m\u001b[37m\u001b[0m \u001b[1m0s\u001b[0m 54ms/step - loss: 3.7270 - mae: 3.7270\n",
            "Epoch 94/100\n",
            "\u001b[1m1/1\u001b[0m \u001b[32m━━━━━━━━━━━━━━━━━━━━\u001b[0m\u001b[37m\u001b[0m \u001b[1m0s\u001b[0m 69ms/step - loss: 3.7033 - mae: 3.7033\n",
            "Epoch 95/100\n",
            "\u001b[1m1/1\u001b[0m \u001b[32m━━━━━━━━━━━━━━━━━━━━\u001b[0m\u001b[37m\u001b[0m \u001b[1m0s\u001b[0m 128ms/step - loss: 3.6992 - mae: 3.6992\n",
            "Epoch 96/100\n",
            "\u001b[1m1/1\u001b[0m \u001b[32m━━━━━━━━━━━━━━━━━━━━\u001b[0m\u001b[37m\u001b[0m \u001b[1m0s\u001b[0m 61ms/step - loss: 3.7149 - mae: 3.7149\n",
            "Epoch 97/100\n",
            "\u001b[1m1/1\u001b[0m \u001b[32m━━━━━━━━━━━━━━━━━━━━\u001b[0m\u001b[37m\u001b[0m \u001b[1m0s\u001b[0m 61ms/step - loss: 3.6762 - mae: 3.6762\n",
            "Epoch 98/100\n",
            "\u001b[1m1/1\u001b[0m \u001b[32m━━━━━━━━━━━━━━━━━━━━\u001b[0m\u001b[37m\u001b[0m \u001b[1m0s\u001b[0m 58ms/step - loss: 3.7283 - mae: 3.7283\n",
            "Epoch 99/100\n",
            "\u001b[1m1/1\u001b[0m \u001b[32m━━━━━━━━━━━━━━━━━━━━\u001b[0m\u001b[37m\u001b[0m \u001b[1m0s\u001b[0m 56ms/step - loss: 3.6619 - mae: 3.6619\n",
            "Epoch 100/100\n",
            "\u001b[1m1/1\u001b[0m \u001b[32m━━━━━━━━━━━━━━━━━━━━\u001b[0m\u001b[37m\u001b[0m \u001b[1m0s\u001b[0m 49ms/step - loss: 3.7232 - mae: 3.7232\n"
          ]
        },
        {
          "output_type": "execute_result",
          "data": {
            "text/plain": [
              "<keras.src.callbacks.history.History at 0x7baf44119090>"
            ]
          },
          "metadata": {},
          "execution_count": 21
        }
      ]
    },
    {
      "cell_type": "code",
      "source": [
        "model.predict(tf.expand_dims([17.0], axis=-1))"
      ],
      "metadata": {
        "colab": {
          "base_uri": "https://localhost:8080/"
        },
        "id": "jcoJSQNA-tSH",
        "outputId": "bef1a23e-bc9d-42fc-e56a-87373ce73e7e"
      },
      "execution_count": 22,
      "outputs": [
        {
          "output_type": "stream",
          "name": "stdout",
          "text": [
            "\u001b[1m1/1\u001b[0m \u001b[32m━━━━━━━━━━━━━━━━━━━━\u001b[0m\u001b[37m\u001b[0m \u001b[1m0s\u001b[0m 61ms/step\n"
          ]
        },
        {
          "output_type": "execute_result",
          "data": {
            "text/plain": [
              "array([[32.211643]], dtype=float32)"
            ]
          },
          "metadata": {},
          "execution_count": 22
        }
      ]
    },
    {
      "cell_type": "code",
      "source": [
        "# Change the activiation function\n",
        "\n",
        "# 1. Create the model\n",
        "model = tf.keras.Sequential([\n",
        "    tf.keras.layers.Dense(50, activation=None),\n",
        "    tf.keras.layers.Dense(1)\n",
        "])\n",
        "\n",
        "# 2. Compile the model\n",
        "model.compile(loss=\"mae\",\n",
        "              optimizer=tf.keras.optimizers.SGD(),\n",
        "              metrics=[\"mae\"])\n",
        "\n",
        "# 3. Fit the model\n",
        "model.fit(tf.expand_dims(X, axis=-1), y, epochs=100)"
      ],
      "metadata": {
        "colab": {
          "base_uri": "https://localhost:8080/"
        },
        "id": "YpUWFmUt--SA",
        "outputId": "a3b780ff-a932-47bd-ef06-f7184e99b53a"
      },
      "execution_count": 23,
      "outputs": [
        {
          "output_type": "stream",
          "name": "stdout",
          "text": [
            "Epoch 1/100\n",
            "\u001b[1m1/1\u001b[0m \u001b[32m━━━━━━━━━━━━━━━━━━━━\u001b[0m\u001b[37m\u001b[0m \u001b[1m1s\u001b[0m 627ms/step - loss: 13.0375 - mae: 13.0375\n",
            "Epoch 2/100\n",
            "\u001b[1m1/1\u001b[0m \u001b[32m━━━━━━━━━━━━━━━━━━━━\u001b[0m\u001b[37m\u001b[0m \u001b[1m0s\u001b[0m 60ms/step - loss: 12.5347 - mae: 12.5347\n",
            "Epoch 3/100\n",
            "\u001b[1m1/1\u001b[0m \u001b[32m━━━━━━━━━━━━━━━━━━━━\u001b[0m\u001b[37m\u001b[0m \u001b[1m0s\u001b[0m 47ms/step - loss: 12.0281 - mae: 12.0281\n",
            "Epoch 4/100\n",
            "\u001b[1m1/1\u001b[0m \u001b[32m━━━━━━━━━━━━━━━━━━━━\u001b[0m\u001b[37m\u001b[0m \u001b[1m0s\u001b[0m 59ms/step - loss: 11.5151 - mae: 11.5151\n",
            "Epoch 5/100\n",
            "\u001b[1m1/1\u001b[0m \u001b[32m━━━━━━━━━━━━━━━━━━━━\u001b[0m\u001b[37m\u001b[0m \u001b[1m0s\u001b[0m 53ms/step - loss: 10.9932 - mae: 10.9932\n",
            "Epoch 6/100\n",
            "\u001b[1m1/1\u001b[0m \u001b[32m━━━━━━━━━━━━━━━━━━━━\u001b[0m\u001b[37m\u001b[0m \u001b[1m0s\u001b[0m 49ms/step - loss: 10.4595 - mae: 10.4595\n",
            "Epoch 7/100\n",
            "\u001b[1m1/1\u001b[0m \u001b[32m━━━━━━━━━━━━━━━━━━━━\u001b[0m\u001b[37m\u001b[0m \u001b[1m0s\u001b[0m 48ms/step - loss: 9.9113 - mae: 9.9113\n",
            "Epoch 8/100\n",
            "\u001b[1m1/1\u001b[0m \u001b[32m━━━━━━━━━━━━━━━━━━━━\u001b[0m\u001b[37m\u001b[0m \u001b[1m0s\u001b[0m 49ms/step - loss: 9.3459 - mae: 9.3459\n",
            "Epoch 9/100\n",
            "\u001b[1m1/1\u001b[0m \u001b[32m━━━━━━━━━━━━━━━━━━━━\u001b[0m\u001b[37m\u001b[0m \u001b[1m0s\u001b[0m 48ms/step - loss: 8.7603 - mae: 8.7603\n",
            "Epoch 10/100\n",
            "\u001b[1m1/1\u001b[0m \u001b[32m━━━━━━━━━━━━━━━━━━━━\u001b[0m\u001b[37m\u001b[0m \u001b[1m0s\u001b[0m 49ms/step - loss: 8.1516 - mae: 8.1516\n",
            "Epoch 11/100\n",
            "\u001b[1m1/1\u001b[0m \u001b[32m━━━━━━━━━━━━━━━━━━━━\u001b[0m\u001b[37m\u001b[0m \u001b[1m0s\u001b[0m 48ms/step - loss: 7.5166 - mae: 7.5166\n",
            "Epoch 12/100\n",
            "\u001b[1m1/1\u001b[0m \u001b[32m━━━━━━━━━━━━━━━━━━━━\u001b[0m\u001b[37m\u001b[0m \u001b[1m0s\u001b[0m 66ms/step - loss: 7.2209 - mae: 7.2209\n",
            "Epoch 13/100\n",
            "\u001b[1m1/1\u001b[0m \u001b[32m━━━━━━━━━━━━━━━━━━━━\u001b[0m\u001b[37m\u001b[0m \u001b[1m0s\u001b[0m 61ms/step - loss: 7.1999 - mae: 7.1999\n",
            "Epoch 14/100\n",
            "\u001b[1m1/1\u001b[0m \u001b[32m━━━━━━━━━━━━━━━━━━━━\u001b[0m\u001b[37m\u001b[0m \u001b[1m0s\u001b[0m 61ms/step - loss: 7.1790 - mae: 7.1790\n",
            "Epoch 15/100\n",
            "\u001b[1m1/1\u001b[0m \u001b[32m━━━━━━━━━━━━━━━━━━━━\u001b[0m\u001b[37m\u001b[0m \u001b[1m0s\u001b[0m 50ms/step - loss: 7.1580 - mae: 7.1580\n",
            "Epoch 16/100\n",
            "\u001b[1m1/1\u001b[0m \u001b[32m━━━━━━━━━━━━━━━━━━━━\u001b[0m\u001b[37m\u001b[0m \u001b[1m0s\u001b[0m 60ms/step - loss: 7.1369 - mae: 7.1369\n",
            "Epoch 17/100\n",
            "\u001b[1m1/1\u001b[0m \u001b[32m━━━━━━━━━━━━━━━━━━━━\u001b[0m\u001b[37m\u001b[0m \u001b[1m0s\u001b[0m 47ms/step - loss: 7.1158 - mae: 7.1158\n",
            "Epoch 18/100\n",
            "\u001b[1m1/1\u001b[0m \u001b[32m━━━━━━━━━━━━━━━━━━━━\u001b[0m\u001b[37m\u001b[0m \u001b[1m0s\u001b[0m 55ms/step - loss: 7.0946 - mae: 7.0946\n",
            "Epoch 19/100\n",
            "\u001b[1m1/1\u001b[0m \u001b[32m━━━━━━━━━━━━━━━━━━━━\u001b[0m\u001b[37m\u001b[0m \u001b[1m0s\u001b[0m 56ms/step - loss: 7.0734 - mae: 7.0734\n",
            "Epoch 20/100\n",
            "\u001b[1m1/1\u001b[0m \u001b[32m━━━━━━━━━━━━━━━━━━━━\u001b[0m\u001b[37m\u001b[0m \u001b[1m0s\u001b[0m 50ms/step - loss: 7.0521 - mae: 7.0521\n",
            "Epoch 21/100\n",
            "\u001b[1m1/1\u001b[0m \u001b[32m━━━━━━━━━━━━━━━━━━━━\u001b[0m\u001b[37m\u001b[0m \u001b[1m0s\u001b[0m 49ms/step - loss: 7.0307 - mae: 7.0307\n",
            "Epoch 22/100\n",
            "\u001b[1m1/1\u001b[0m \u001b[32m━━━━━━━━━━━━━━━━━━━━\u001b[0m\u001b[37m\u001b[0m \u001b[1m0s\u001b[0m 50ms/step - loss: 7.0092 - mae: 7.0092\n",
            "Epoch 23/100\n",
            "\u001b[1m1/1\u001b[0m \u001b[32m━━━━━━━━━━━━━━━━━━━━\u001b[0m\u001b[37m\u001b[0m \u001b[1m0s\u001b[0m 48ms/step - loss: 6.9877 - mae: 6.9877\n",
            "Epoch 24/100\n",
            "\u001b[1m1/1\u001b[0m \u001b[32m━━━━━━━━━━━━━━━━━━━━\u001b[0m\u001b[37m\u001b[0m \u001b[1m0s\u001b[0m 60ms/step - loss: 6.9661 - mae: 6.9661\n",
            "Epoch 25/100\n",
            "\u001b[1m1/1\u001b[0m \u001b[32m━━━━━━━━━━━━━━━━━━━━\u001b[0m\u001b[37m\u001b[0m \u001b[1m0s\u001b[0m 50ms/step - loss: 6.9444 - mae: 6.9444\n",
            "Epoch 26/100\n",
            "\u001b[1m1/1\u001b[0m \u001b[32m━━━━━━━━━━━━━━━━━━━━\u001b[0m\u001b[37m\u001b[0m \u001b[1m0s\u001b[0m 58ms/step - loss: 6.9226 - mae: 6.9226\n",
            "Epoch 27/100\n",
            "\u001b[1m1/1\u001b[0m \u001b[32m━━━━━━━━━━━━━━━━━━━━\u001b[0m\u001b[37m\u001b[0m \u001b[1m0s\u001b[0m 60ms/step - loss: 6.9007 - mae: 6.9007\n",
            "Epoch 28/100\n",
            "\u001b[1m1/1\u001b[0m \u001b[32m━━━━━━━━━━━━━━━━━━━━\u001b[0m\u001b[37m\u001b[0m \u001b[1m0s\u001b[0m 49ms/step - loss: 6.8788 - mae: 6.8788\n",
            "Epoch 29/100\n",
            "\u001b[1m1/1\u001b[0m \u001b[32m━━━━━━━━━━━━━━━━━━━━\u001b[0m\u001b[37m\u001b[0m \u001b[1m0s\u001b[0m 52ms/step - loss: 6.8567 - mae: 6.8567\n",
            "Epoch 30/100\n",
            "\u001b[1m1/1\u001b[0m \u001b[32m━━━━━━━━━━━━━━━━━━━━\u001b[0m\u001b[37m\u001b[0m \u001b[1m0s\u001b[0m 71ms/step - loss: 6.8345 - mae: 6.8345\n",
            "Epoch 31/100\n",
            "\u001b[1m1/1\u001b[0m \u001b[32m━━━━━━━━━━━━━━━━━━━━\u001b[0m\u001b[37m\u001b[0m \u001b[1m0s\u001b[0m 125ms/step - loss: 6.8262 - mae: 6.8262\n",
            "Epoch 32/100\n",
            "\u001b[1m1/1\u001b[0m \u001b[32m━━━━━━━━━━━━━━━━━━━━\u001b[0m\u001b[37m\u001b[0m \u001b[1m0s\u001b[0m 61ms/step - loss: 6.8058 - mae: 6.8058\n",
            "Epoch 33/100\n",
            "\u001b[1m1/1\u001b[0m \u001b[32m━━━━━━━━━━━━━━━━━━━━\u001b[0m\u001b[37m\u001b[0m \u001b[1m0s\u001b[0m 57ms/step - loss: 6.7839 - mae: 6.7839\n",
            "Epoch 34/100\n",
            "\u001b[1m1/1\u001b[0m \u001b[32m━━━━━━━━━━━━━━━━━━━━\u001b[0m\u001b[37m\u001b[0m \u001b[1m0s\u001b[0m 57ms/step - loss: 6.7618 - mae: 6.7618\n",
            "Epoch 35/100\n",
            "\u001b[1m1/1\u001b[0m \u001b[32m━━━━━━━━━━━━━━━━━━━━\u001b[0m\u001b[37m\u001b[0m \u001b[1m0s\u001b[0m 62ms/step - loss: 6.7397 - mae: 6.7397\n",
            "Epoch 36/100\n",
            "\u001b[1m1/1\u001b[0m \u001b[32m━━━━━━━━━━━━━━━━━━━━\u001b[0m\u001b[37m\u001b[0m \u001b[1m0s\u001b[0m 61ms/step - loss: 6.7174 - mae: 6.7174\n",
            "Epoch 37/100\n",
            "\u001b[1m1/1\u001b[0m \u001b[32m━━━━━━━━━━━━━━━━━━━━\u001b[0m\u001b[37m\u001b[0m \u001b[1m0s\u001b[0m 133ms/step - loss: 6.6950 - mae: 6.6950\n",
            "Epoch 38/100\n",
            "\u001b[1m1/1\u001b[0m \u001b[32m━━━━━━━━━━━━━━━━━━━━\u001b[0m\u001b[37m\u001b[0m \u001b[1m0s\u001b[0m 61ms/step - loss: 6.6725 - mae: 6.6725\n",
            "Epoch 39/100\n",
            "\u001b[1m1/1\u001b[0m \u001b[32m━━━━━━━━━━━━━━━━━━━━\u001b[0m\u001b[37m\u001b[0m \u001b[1m0s\u001b[0m 72ms/step - loss: 6.6499 - mae: 6.6499\n",
            "Epoch 40/100\n",
            "\u001b[1m1/1\u001b[0m \u001b[32m━━━━━━━━━━━━━━━━━━━━\u001b[0m\u001b[37m\u001b[0m \u001b[1m0s\u001b[0m 58ms/step - loss: 6.6271 - mae: 6.6271\n",
            "Epoch 41/100\n",
            "\u001b[1m1/1\u001b[0m \u001b[32m━━━━━━━━━━━━━━━━━━━━\u001b[0m\u001b[37m\u001b[0m \u001b[1m0s\u001b[0m 53ms/step - loss: 6.6042 - mae: 6.6042\n",
            "Epoch 42/100\n",
            "\u001b[1m1/1\u001b[0m \u001b[32m━━━━━━━━━━━━━━━━━━━━\u001b[0m\u001b[37m\u001b[0m \u001b[1m0s\u001b[0m 55ms/step - loss: 6.5811 - mae: 6.5811\n",
            "Epoch 43/100\n",
            "\u001b[1m1/1\u001b[0m \u001b[32m━━━━━━━━━━━━━━━━━━━━\u001b[0m\u001b[37m\u001b[0m \u001b[1m0s\u001b[0m 88ms/step - loss: 6.5579 - mae: 6.5579\n",
            "Epoch 44/100\n",
            "\u001b[1m1/1\u001b[0m \u001b[32m━━━━━━━━━━━━━━━━━━━━\u001b[0m\u001b[37m\u001b[0m \u001b[1m0s\u001b[0m 111ms/step - loss: 6.5345 - mae: 6.5345\n",
            "Epoch 45/100\n",
            "\u001b[1m1/1\u001b[0m \u001b[32m━━━━━━━━━━━━━━━━━━━━\u001b[0m\u001b[37m\u001b[0m \u001b[1m0s\u001b[0m 59ms/step - loss: 6.5109 - mae: 6.5109\n",
            "Epoch 46/100\n",
            "\u001b[1m1/1\u001b[0m \u001b[32m━━━━━━━━━━━━━━━━━━━━\u001b[0m\u001b[37m\u001b[0m \u001b[1m0s\u001b[0m 61ms/step - loss: 6.4873 - mae: 6.4873\n",
            "Epoch 47/100\n",
            "\u001b[1m1/1\u001b[0m \u001b[32m━━━━━━━━━━━━━━━━━━━━\u001b[0m\u001b[37m\u001b[0m \u001b[1m0s\u001b[0m 64ms/step - loss: 6.4634 - mae: 6.4634\n",
            "Epoch 48/100\n",
            "\u001b[1m1/1\u001b[0m \u001b[32m━━━━━━━━━━━━━━━━━━━━\u001b[0m\u001b[37m\u001b[0m \u001b[1m0s\u001b[0m 54ms/step - loss: 6.4394 - mae: 6.4394\n",
            "Epoch 49/100\n",
            "\u001b[1m1/1\u001b[0m \u001b[32m━━━━━━━━━━━━━━━━━━━━\u001b[0m\u001b[37m\u001b[0m \u001b[1m0s\u001b[0m 48ms/step - loss: 6.4152 - mae: 6.4152\n",
            "Epoch 50/100\n",
            "\u001b[1m1/1\u001b[0m \u001b[32m━━━━━━━━━━━━━━━━━━━━\u001b[0m\u001b[37m\u001b[0m \u001b[1m0s\u001b[0m 51ms/step - loss: 6.3908 - mae: 6.3908\n",
            "Epoch 51/100\n",
            "\u001b[1m1/1\u001b[0m \u001b[32m━━━━━━━━━━━━━━━━━━━━\u001b[0m\u001b[37m\u001b[0m \u001b[1m0s\u001b[0m 55ms/step - loss: 6.3662 - mae: 6.3662\n",
            "Epoch 52/100\n",
            "\u001b[1m1/1\u001b[0m \u001b[32m━━━━━━━━━━━━━━━━━━━━\u001b[0m\u001b[37m\u001b[0m \u001b[1m0s\u001b[0m 54ms/step - loss: 6.3415 - mae: 6.3415\n",
            "Epoch 53/100\n",
            "\u001b[1m1/1\u001b[0m \u001b[32m━━━━━━━━━━━━━━━━━━━━\u001b[0m\u001b[37m\u001b[0m \u001b[1m0s\u001b[0m 52ms/step - loss: 6.3239 - mae: 6.3239\n",
            "Epoch 54/100\n",
            "\u001b[1m1/1\u001b[0m \u001b[32m━━━━━━━━━━━━━━━━━━━━\u001b[0m\u001b[37m\u001b[0m \u001b[1m0s\u001b[0m 61ms/step - loss: 6.3137 - mae: 6.3137\n",
            "Epoch 55/100\n",
            "\u001b[1m1/1\u001b[0m \u001b[32m━━━━━━━━━━━━━━━━━━━━\u001b[0m\u001b[37m\u001b[0m \u001b[1m0s\u001b[0m 53ms/step - loss: 6.2889 - mae: 6.2889\n",
            "Epoch 56/100\n",
            "\u001b[1m1/1\u001b[0m \u001b[32m━━━━━━━━━━━━━━━━━━━━\u001b[0m\u001b[37m\u001b[0m \u001b[1m0s\u001b[0m 50ms/step - loss: 6.2640 - mae: 6.2640\n",
            "Epoch 57/100\n",
            "\u001b[1m1/1\u001b[0m \u001b[32m━━━━━━━━━━━━━━━━━━━━\u001b[0m\u001b[37m\u001b[0m \u001b[1m0s\u001b[0m 50ms/step - loss: 6.2389 - mae: 6.2389\n",
            "Epoch 58/100\n",
            "\u001b[1m1/1\u001b[0m \u001b[32m━━━━━━━━━━━━━━━━━━━━\u001b[0m\u001b[37m\u001b[0m \u001b[1m0s\u001b[0m 59ms/step - loss: 6.2136 - mae: 6.2136\n",
            "Epoch 59/100\n",
            "\u001b[1m1/1\u001b[0m \u001b[32m━━━━━━━━━━━━━━━━━━━━\u001b[0m\u001b[37m\u001b[0m \u001b[1m0s\u001b[0m 76ms/step - loss: 6.1880 - mae: 6.1880\n",
            "Epoch 60/100\n",
            "\u001b[1m1/1\u001b[0m \u001b[32m━━━━━━━━━━━━━━━━━━━━\u001b[0m\u001b[37m\u001b[0m \u001b[1m0s\u001b[0m 67ms/step - loss: 6.1623 - mae: 6.1623\n",
            "Epoch 61/100\n",
            "\u001b[1m1/1\u001b[0m \u001b[32m━━━━━━━━━━━━━━━━━━━━\u001b[0m\u001b[37m\u001b[0m \u001b[1m0s\u001b[0m 56ms/step - loss: 6.1363 - mae: 6.1363\n",
            "Epoch 62/100\n",
            "\u001b[1m1/1\u001b[0m \u001b[32m━━━━━━━━━━━━━━━━━━━━\u001b[0m\u001b[37m\u001b[0m \u001b[1m0s\u001b[0m 57ms/step - loss: 6.1101 - mae: 6.1101\n",
            "Epoch 63/100\n",
            "\u001b[1m1/1\u001b[0m \u001b[32m━━━━━━━━━━━━━━━━━━━━\u001b[0m\u001b[37m\u001b[0m \u001b[1m0s\u001b[0m 56ms/step - loss: 6.0837 - mae: 6.0837\n",
            "Epoch 64/100\n",
            "\u001b[1m1/1\u001b[0m \u001b[32m━━━━━━━━━━━━━━━━━━━━\u001b[0m\u001b[37m\u001b[0m \u001b[1m0s\u001b[0m 133ms/step - loss: 6.0570 - mae: 6.0570\n",
            "Epoch 65/100\n",
            "\u001b[1m1/1\u001b[0m \u001b[32m━━━━━━━━━━━━━━━━━━━━\u001b[0m\u001b[37m\u001b[0m \u001b[1m0s\u001b[0m 50ms/step - loss: 6.0301 - mae: 6.0301\n",
            "Epoch 66/100\n",
            "\u001b[1m1/1\u001b[0m \u001b[32m━━━━━━━━━━━━━━━━━━━━\u001b[0m\u001b[37m\u001b[0m \u001b[1m0s\u001b[0m 59ms/step - loss: 6.0030 - mae: 6.0030\n",
            "Epoch 67/100\n",
            "\u001b[1m1/1\u001b[0m \u001b[32m━━━━━━━━━━━━━━━━━━━━\u001b[0m\u001b[37m\u001b[0m \u001b[1m0s\u001b[0m 63ms/step - loss: 5.9756 - mae: 5.9756\n",
            "Epoch 68/100\n",
            "\u001b[1m1/1\u001b[0m \u001b[32m━━━━━━━━━━━━━━━━━━━━\u001b[0m\u001b[37m\u001b[0m \u001b[1m0s\u001b[0m 57ms/step - loss: 5.9479 - mae: 5.9479\n",
            "Epoch 69/100\n",
            "\u001b[1m1/1\u001b[0m \u001b[32m━━━━━━━━━━━━━━━━━━━━\u001b[0m\u001b[37m\u001b[0m \u001b[1m0s\u001b[0m 60ms/step - loss: 5.9200 - mae: 5.9200\n",
            "Epoch 70/100\n",
            "\u001b[1m1/1\u001b[0m \u001b[32m━━━━━━━━━━━━━━━━━━━━\u001b[0m\u001b[37m\u001b[0m \u001b[1m0s\u001b[0m 55ms/step - loss: 5.8918 - mae: 5.8918\n",
            "Epoch 71/100\n",
            "\u001b[1m1/1\u001b[0m \u001b[32m━━━━━━━━━━━━━━━━━━━━\u001b[0m\u001b[37m\u001b[0m \u001b[1m0s\u001b[0m 50ms/step - loss: 5.8801 - mae: 5.8801\n",
            "Epoch 72/100\n",
            "\u001b[1m1/1\u001b[0m \u001b[32m━━━━━━━━━━━━━━━━━━━━\u001b[0m\u001b[37m\u001b[0m \u001b[1m0s\u001b[0m 60ms/step - loss: 5.8620 - mae: 5.8620\n",
            "Epoch 73/100\n",
            "\u001b[1m1/1\u001b[0m \u001b[32m━━━━━━━━━━━━━━━━━━━━\u001b[0m\u001b[37m\u001b[0m \u001b[1m0s\u001b[0m 54ms/step - loss: 5.8336 - mae: 5.8336\n",
            "Epoch 74/100\n",
            "\u001b[1m1/1\u001b[0m \u001b[32m━━━━━━━━━━━━━━━━━━━━\u001b[0m\u001b[37m\u001b[0m \u001b[1m0s\u001b[0m 129ms/step - loss: 5.8050 - mae: 5.8050\n",
            "Epoch 75/100\n",
            "\u001b[1m1/1\u001b[0m \u001b[32m━━━━━━━━━━━━━━━━━━━━\u001b[0m\u001b[37m\u001b[0m \u001b[1m0s\u001b[0m 56ms/step - loss: 5.7760 - mae: 5.7760\n",
            "Epoch 76/100\n",
            "\u001b[1m1/1\u001b[0m \u001b[32m━━━━━━━━━━━━━━━━━━━━\u001b[0m\u001b[37m\u001b[0m \u001b[1m0s\u001b[0m 62ms/step - loss: 5.7468 - mae: 5.7468\n",
            "Epoch 77/100\n",
            "\u001b[1m1/1\u001b[0m \u001b[32m━━━━━━━━━━━━━━━━━━━━\u001b[0m\u001b[37m\u001b[0m \u001b[1m0s\u001b[0m 52ms/step - loss: 5.7173 - mae: 5.7173\n",
            "Epoch 78/100\n",
            "\u001b[1m1/1\u001b[0m \u001b[32m━━━━━━━━━━━━━━━━━━━━\u001b[0m\u001b[37m\u001b[0m \u001b[1m0s\u001b[0m 57ms/step - loss: 5.6875 - mae: 5.6875\n",
            "Epoch 79/100\n",
            "\u001b[1m1/1\u001b[0m \u001b[32m━━━━━━━━━━━━━━━━━━━━\u001b[0m\u001b[37m\u001b[0m \u001b[1m0s\u001b[0m 56ms/step - loss: 5.6574 - mae: 5.6574\n",
            "Epoch 80/100\n",
            "\u001b[1m1/1\u001b[0m \u001b[32m━━━━━━━━━━━━━━━━━━━━\u001b[0m\u001b[37m\u001b[0m \u001b[1m0s\u001b[0m 61ms/step - loss: 5.6270 - mae: 5.6270\n",
            "Epoch 81/100\n",
            "\u001b[1m1/1\u001b[0m \u001b[32m━━━━━━━━━━━━━━━━━━━━\u001b[0m\u001b[37m\u001b[0m \u001b[1m0s\u001b[0m 51ms/step - loss: 5.5962 - mae: 5.5962\n",
            "Epoch 82/100\n",
            "\u001b[1m1/1\u001b[0m \u001b[32m━━━━━━━━━━━━━━━━━━━━\u001b[0m\u001b[37m\u001b[0m \u001b[1m0s\u001b[0m 59ms/step - loss: 5.5651 - mae: 5.5651\n",
            "Epoch 83/100\n",
            "\u001b[1m1/1\u001b[0m \u001b[32m━━━━━━━━━━━━━━━━━━━━\u001b[0m\u001b[37m\u001b[0m \u001b[1m0s\u001b[0m 155ms/step - loss: 5.5338 - mae: 5.5338\n",
            "Epoch 84/100\n",
            "\u001b[1m1/1\u001b[0m \u001b[32m━━━━━━━━━━━━━━━━━━━━\u001b[0m\u001b[37m\u001b[0m \u001b[1m0s\u001b[0m 77ms/step - loss: 5.5020 - mae: 5.5020\n",
            "Epoch 85/100\n",
            "\u001b[1m1/1\u001b[0m \u001b[32m━━━━━━━━━━━━━━━━━━━━\u001b[0m\u001b[37m\u001b[0m \u001b[1m0s\u001b[0m 78ms/step - loss: 5.4700 - mae: 5.4700\n",
            "Epoch 86/100\n",
            "\u001b[1m1/1\u001b[0m \u001b[32m━━━━━━━━━━━━━━━━━━━━\u001b[0m\u001b[37m\u001b[0m \u001b[1m0s\u001b[0m 76ms/step - loss: 5.4426 - mae: 5.4426\n",
            "Epoch 87/100\n",
            "\u001b[1m1/1\u001b[0m \u001b[32m━━━━━━━━━━━━━━━━━━━━\u001b[0m\u001b[37m\u001b[0m \u001b[1m0s\u001b[0m 136ms/step - loss: 5.4773 - mae: 5.4773\n",
            "Epoch 88/100\n",
            "\u001b[1m1/1\u001b[0m \u001b[32m━━━━━━━━━━━━━━━━━━━━\u001b[0m\u001b[37m\u001b[0m \u001b[1m0s\u001b[0m 140ms/step - loss: 5.5506 - mae: 5.5506\n",
            "Epoch 89/100\n",
            "\u001b[1m1/1\u001b[0m \u001b[32m━━━━━━━━━━━━━━━━━━━━\u001b[0m\u001b[37m\u001b[0m \u001b[1m0s\u001b[0m 133ms/step - loss: 5.3669 - mae: 5.3669\n",
            "Epoch 90/100\n",
            "\u001b[1m1/1\u001b[0m \u001b[32m━━━━━━━━━━━━━━━━━━━━\u001b[0m\u001b[37m\u001b[0m \u001b[1m0s\u001b[0m 83ms/step - loss: 5.3336 - mae: 5.3336\n",
            "Epoch 91/100\n",
            "\u001b[1m1/1\u001b[0m \u001b[32m━━━━━━━━━━━━━━━━━━━━\u001b[0m\u001b[37m\u001b[0m \u001b[1m0s\u001b[0m 140ms/step - loss: 5.2999 - mae: 5.2999\n",
            "Epoch 92/100\n",
            "\u001b[1m1/1\u001b[0m \u001b[32m━━━━━━━━━━━━━━━━━━━━\u001b[0m\u001b[37m\u001b[0m \u001b[1m0s\u001b[0m 84ms/step - loss: 5.2659 - mae: 5.2659\n",
            "Epoch 93/100\n",
            "\u001b[1m1/1\u001b[0m \u001b[32m━━━━━━━━━━━━━━━━━━━━\u001b[0m\u001b[37m\u001b[0m \u001b[1m0s\u001b[0m 76ms/step - loss: 5.2314 - mae: 5.2314\n",
            "Epoch 94/100\n",
            "\u001b[1m1/1\u001b[0m \u001b[32m━━━━━━━━━━━━━━━━━━━━\u001b[0m\u001b[37m\u001b[0m \u001b[1m0s\u001b[0m 137ms/step - loss: 5.1966 - mae: 5.1966\n",
            "Epoch 95/100\n",
            "\u001b[1m1/1\u001b[0m \u001b[32m━━━━━━━━━━━━━━━━━━━━\u001b[0m\u001b[37m\u001b[0m \u001b[1m0s\u001b[0m 84ms/step - loss: 5.1614 - mae: 5.1614\n",
            "Epoch 96/100\n",
            "\u001b[1m1/1\u001b[0m \u001b[32m━━━━━━━━━━━━━━━━━━━━\u001b[0m\u001b[37m\u001b[0m \u001b[1m0s\u001b[0m 135ms/step - loss: 5.1258 - mae: 5.1258\n",
            "Epoch 97/100\n",
            "\u001b[1m1/1\u001b[0m \u001b[32m━━━━━━━━━━━━━━━━━━━━\u001b[0m\u001b[37m\u001b[0m \u001b[1m0s\u001b[0m 140ms/step - loss: 5.0990 - mae: 5.0990\n",
            "Epoch 98/100\n",
            "\u001b[1m1/1\u001b[0m \u001b[32m━━━━━━━━━━━━━━━━━━━━\u001b[0m\u001b[37m\u001b[0m \u001b[1m0s\u001b[0m 143ms/step - loss: 5.1746 - mae: 5.1746\n",
            "Epoch 99/100\n",
            "\u001b[1m1/1\u001b[0m \u001b[32m━━━━━━━━━━━━━━━━━━━━\u001b[0m\u001b[37m\u001b[0m \u001b[1m0s\u001b[0m 138ms/step - loss: 5.2104 - mae: 5.2104\n",
            "Epoch 100/100\n",
            "\u001b[1m1/1\u001b[0m \u001b[32m━━━━━━━━━━━━━━━━━━━━\u001b[0m\u001b[37m\u001b[0m \u001b[1m0s\u001b[0m 135ms/step - loss: 5.0107 - mae: 5.0107\n"
          ]
        },
        {
          "output_type": "execute_result",
          "data": {
            "text/plain": [
              "<keras.src.callbacks.history.History at 0x7baf3ffbe310>"
            ]
          },
          "metadata": {},
          "execution_count": 23
        }
      ]
    },
    {
      "cell_type": "code",
      "source": [
        "model.predict(tf.expand_dims([17.0], axis=-1))"
      ],
      "metadata": {
        "colab": {
          "base_uri": "https://localhost:8080/"
        },
        "id": "odBeOUj9_pXm",
        "outputId": "d3c5ed39-3cbb-4cb5-aa82-b2019324acd1"
      },
      "execution_count": 24,
      "outputs": [
        {
          "output_type": "stream",
          "name": "stderr",
          "text": [
            "WARNING:tensorflow:5 out of the last 5 calls to <function TensorFlowTrainer.make_predict_function.<locals>.one_step_on_data_distributed at 0x7baf3f9968e0> triggered tf.function retracing. Tracing is expensive and the excessive number of tracings could be due to (1) creating @tf.function repeatedly in a loop, (2) passing tensors with different shapes, (3) passing Python objects instead of tensors. For (1), please define your @tf.function outside of the loop. For (2), @tf.function has reduce_retracing=True option that can avoid unnecessary retracing. For (3), please refer to https://www.tensorflow.org/guide/function#controlling_retracing and https://www.tensorflow.org/api_docs/python/tf/function for  more details.\n"
          ]
        },
        {
          "output_type": "stream",
          "name": "stdout",
          "text": [
            "\u001b[1m1/1\u001b[0m \u001b[32m━━━━━━━━━━━━━━━━━━━━\u001b[0m\u001b[37m\u001b[0m \u001b[1m0s\u001b[0m 158ms/step\n"
          ]
        },
        {
          "output_type": "execute_result",
          "data": {
            "text/plain": [
              "array([[29.274914]], dtype=float32)"
            ]
          },
          "metadata": {},
          "execution_count": 24
        }
      ]
    },
    {
      "cell_type": "code",
      "source": [
        "# Change the optimization function\n",
        "\n",
        "# 1. Create the model\n",
        "model = tf.keras.Sequential([\n",
        "    tf.keras.layers.Dense(50, activation=None),\n",
        "    tf.keras.layers.Dense(1)\n",
        "])\n",
        "\n",
        "# 2. Compile the model\n",
        "model.compile(loss=\"mae\",\n",
        "              optimizer=tf.keras.optimizers.Adam(),\n",
        "              metrics=[\"mae\"])\n",
        "\n",
        "# 3. Fit the model\n",
        "model.fit(tf.expand_dims(X, axis=-1), y, epochs=100)"
      ],
      "metadata": {
        "colab": {
          "base_uri": "https://localhost:8080/"
        },
        "id": "SEw-ZGVg_13v",
        "outputId": "99d178aa-27c7-4052-e7e5-b3a6edd1533e"
      },
      "execution_count": 25,
      "outputs": [
        {
          "output_type": "stream",
          "name": "stdout",
          "text": [
            "Epoch 1/100\n",
            "\u001b[1m1/1\u001b[0m \u001b[32m━━━━━━━━━━━━━━━━━━━━\u001b[0m\u001b[37m\u001b[0m \u001b[1m2s\u001b[0m 2s/step - loss: 14.1331 - mae: 14.1331\n",
            "Epoch 2/100\n",
            "\u001b[1m1/1\u001b[0m \u001b[32m━━━━━━━━━━━━━━━━━━━━\u001b[0m\u001b[37m\u001b[0m \u001b[1m0s\u001b[0m 135ms/step - loss: 14.0597 - mae: 14.0597\n",
            "Epoch 3/100\n",
            "\u001b[1m1/1\u001b[0m \u001b[32m━━━━━━━━━━━━━━━━━━━━\u001b[0m\u001b[37m\u001b[0m \u001b[1m0s\u001b[0m 145ms/step - loss: 13.9863 - mae: 13.9863\n",
            "Epoch 4/100\n",
            "\u001b[1m1/1\u001b[0m \u001b[32m━━━━━━━━━━━━━━━━━━━━\u001b[0m\u001b[37m\u001b[0m \u001b[1m0s\u001b[0m 120ms/step - loss: 13.9129 - mae: 13.9129\n",
            "Epoch 5/100\n",
            "\u001b[1m1/1\u001b[0m \u001b[32m━━━━━━━━━━━━━━━━━━━━\u001b[0m\u001b[37m\u001b[0m \u001b[1m0s\u001b[0m 58ms/step - loss: 13.8396 - mae: 13.8396\n",
            "Epoch 6/100\n",
            "\u001b[1m1/1\u001b[0m \u001b[32m━━━━━━━━━━━━━━━━━━━━\u001b[0m\u001b[37m\u001b[0m \u001b[1m0s\u001b[0m 54ms/step - loss: 13.7663 - mae: 13.7663\n",
            "Epoch 7/100\n",
            "\u001b[1m1/1\u001b[0m \u001b[32m━━━━━━━━━━━━━━━━━━━━\u001b[0m\u001b[37m\u001b[0m \u001b[1m0s\u001b[0m 47ms/step - loss: 13.6930 - mae: 13.6930\n",
            "Epoch 8/100\n",
            "\u001b[1m1/1\u001b[0m \u001b[32m━━━━━━━━━━━━━━━━━━━━\u001b[0m\u001b[37m\u001b[0m \u001b[1m0s\u001b[0m 48ms/step - loss: 13.6197 - mae: 13.6197\n",
            "Epoch 9/100\n",
            "\u001b[1m1/1\u001b[0m \u001b[32m━━━━━━━━━━━━━━━━━━━━\u001b[0m\u001b[37m\u001b[0m \u001b[1m0s\u001b[0m 49ms/step - loss: 13.5464 - mae: 13.5464\n",
            "Epoch 10/100\n",
            "\u001b[1m1/1\u001b[0m \u001b[32m━━━━━━━━━━━━━━━━━━━━\u001b[0m\u001b[37m\u001b[0m \u001b[1m0s\u001b[0m 57ms/step - loss: 13.4732 - mae: 13.4732\n",
            "Epoch 11/100\n",
            "\u001b[1m1/1\u001b[0m \u001b[32m━━━━━━━━━━━━━━━━━━━━\u001b[0m\u001b[37m\u001b[0m \u001b[1m0s\u001b[0m 47ms/step - loss: 13.3999 - mae: 13.3999\n",
            "Epoch 12/100\n",
            "\u001b[1m1/1\u001b[0m \u001b[32m━━━━━━━━━━━━━━━━━━━━\u001b[0m\u001b[37m\u001b[0m \u001b[1m0s\u001b[0m 61ms/step - loss: 13.3267 - mae: 13.3267\n",
            "Epoch 13/100\n",
            "\u001b[1m1/1\u001b[0m \u001b[32m━━━━━━━━━━━━━━━━━━━━\u001b[0m\u001b[37m\u001b[0m \u001b[1m0s\u001b[0m 49ms/step - loss: 13.2535 - mae: 13.2535\n",
            "Epoch 14/100\n",
            "\u001b[1m1/1\u001b[0m \u001b[32m━━━━━━━━━━━━━━━━━━━━\u001b[0m\u001b[37m\u001b[0m \u001b[1m0s\u001b[0m 57ms/step - loss: 13.1803 - mae: 13.1803\n",
            "Epoch 15/100\n",
            "\u001b[1m1/1\u001b[0m \u001b[32m━━━━━━━━━━━━━━━━━━━━\u001b[0m\u001b[37m\u001b[0m \u001b[1m0s\u001b[0m 47ms/step - loss: 13.1071 - mae: 13.1071\n",
            "Epoch 16/100\n",
            "\u001b[1m1/1\u001b[0m \u001b[32m━━━━━━━━━━━━━━━━━━━━\u001b[0m\u001b[37m\u001b[0m \u001b[1m0s\u001b[0m 66ms/step - loss: 13.0339 - mae: 13.0339\n",
            "Epoch 17/100\n",
            "\u001b[1m1/1\u001b[0m \u001b[32m━━━━━━━━━━━━━━━━━━━━\u001b[0m\u001b[37m\u001b[0m \u001b[1m0s\u001b[0m 136ms/step - loss: 12.9607 - mae: 12.9607\n",
            "Epoch 18/100\n",
            "\u001b[1m1/1\u001b[0m \u001b[32m━━━━━━━━━━━━━━━━━━━━\u001b[0m\u001b[37m\u001b[0m \u001b[1m0s\u001b[0m 57ms/step - loss: 12.8875 - mae: 12.8875\n",
            "Epoch 19/100\n",
            "\u001b[1m1/1\u001b[0m \u001b[32m━━━━━━━━━━━━━━━━━━━━\u001b[0m\u001b[37m\u001b[0m \u001b[1m0s\u001b[0m 51ms/step - loss: 12.8144 - mae: 12.8144\n",
            "Epoch 20/100\n",
            "\u001b[1m1/1\u001b[0m \u001b[32m━━━━━━━━━━━━━━━━━━━━\u001b[0m\u001b[37m\u001b[0m \u001b[1m0s\u001b[0m 58ms/step - loss: 12.7412 - mae: 12.7412\n",
            "Epoch 21/100\n",
            "\u001b[1m1/1\u001b[0m \u001b[32m━━━━━━━━━━━━━━━━━━━━\u001b[0m\u001b[37m\u001b[0m \u001b[1m0s\u001b[0m 60ms/step - loss: 12.6680 - mae: 12.6680\n",
            "Epoch 22/100\n",
            "\u001b[1m1/1\u001b[0m \u001b[32m━━━━━━━━━━━━━━━━━━━━\u001b[0m\u001b[37m\u001b[0m \u001b[1m0s\u001b[0m 131ms/step - loss: 12.5947 - mae: 12.5947\n",
            "Epoch 23/100\n",
            "\u001b[1m1/1\u001b[0m \u001b[32m━━━━━━━━━━━━━━━━━━━━\u001b[0m\u001b[37m\u001b[0m \u001b[1m0s\u001b[0m 48ms/step - loss: 12.5215 - mae: 12.5215\n",
            "Epoch 24/100\n",
            "\u001b[1m1/1\u001b[0m \u001b[32m━━━━━━━━━━━━━━━━━━━━\u001b[0m\u001b[37m\u001b[0m \u001b[1m0s\u001b[0m 50ms/step - loss: 12.4483 - mae: 12.4483\n",
            "Epoch 25/100\n",
            "\u001b[1m1/1\u001b[0m \u001b[32m━━━━━━━━━━━━━━━━━━━━\u001b[0m\u001b[37m\u001b[0m \u001b[1m0s\u001b[0m 57ms/step - loss: 12.3750 - mae: 12.3750\n",
            "Epoch 26/100\n",
            "\u001b[1m1/1\u001b[0m \u001b[32m━━━━━━━━━━━━━━━━━━━━\u001b[0m\u001b[37m\u001b[0m \u001b[1m0s\u001b[0m 58ms/step - loss: 12.3017 - mae: 12.3017\n",
            "Epoch 27/100\n",
            "\u001b[1m1/1\u001b[0m \u001b[32m━━━━━━━━━━━━━━━━━━━━\u001b[0m\u001b[37m\u001b[0m \u001b[1m0s\u001b[0m 60ms/step - loss: 12.2283 - mae: 12.2283\n",
            "Epoch 28/100\n",
            "\u001b[1m1/1\u001b[0m \u001b[32m━━━━━━━━━━━━━━━━━━━━\u001b[0m\u001b[37m\u001b[0m \u001b[1m0s\u001b[0m 58ms/step - loss: 12.1550 - mae: 12.1550\n",
            "Epoch 29/100\n",
            "\u001b[1m1/1\u001b[0m \u001b[32m━━━━━━━━━━━━━━━━━━━━\u001b[0m\u001b[37m\u001b[0m \u001b[1m0s\u001b[0m 47ms/step - loss: 12.0815 - mae: 12.0815\n",
            "Epoch 30/100\n",
            "\u001b[1m1/1\u001b[0m \u001b[32m━━━━━━━━━━━━━━━━━━━━\u001b[0m\u001b[37m\u001b[0m \u001b[1m0s\u001b[0m 51ms/step - loss: 12.0081 - mae: 12.0081\n",
            "Epoch 31/100\n",
            "\u001b[1m1/1\u001b[0m \u001b[32m━━━━━━━━━━━━━━━━━━━━\u001b[0m\u001b[37m\u001b[0m \u001b[1m0s\u001b[0m 62ms/step - loss: 11.9345 - mae: 11.9345\n",
            "Epoch 32/100\n",
            "\u001b[1m1/1\u001b[0m \u001b[32m━━━━━━━━━━━━━━━━━━━━\u001b[0m\u001b[37m\u001b[0m \u001b[1m0s\u001b[0m 61ms/step - loss: 11.8610 - mae: 11.8610\n",
            "Epoch 33/100\n",
            "\u001b[1m1/1\u001b[0m \u001b[32m━━━━━━━━━━━━━━━━━━━━\u001b[0m\u001b[37m\u001b[0m \u001b[1m0s\u001b[0m 51ms/step - loss: 11.7873 - mae: 11.7873\n",
            "Epoch 34/100\n",
            "\u001b[1m1/1\u001b[0m \u001b[32m━━━━━━━━━━━━━━━━━━━━\u001b[0m\u001b[37m\u001b[0m \u001b[1m0s\u001b[0m 50ms/step - loss: 11.7136 - mae: 11.7136\n",
            "Epoch 35/100\n",
            "\u001b[1m1/1\u001b[0m \u001b[32m━━━━━━━━━━━━━━━━━━━━\u001b[0m\u001b[37m\u001b[0m \u001b[1m0s\u001b[0m 60ms/step - loss: 11.6398 - mae: 11.6398\n",
            "Epoch 36/100\n",
            "\u001b[1m1/1\u001b[0m \u001b[32m━━━━━━━━━━━━━━━━━━━━\u001b[0m\u001b[37m\u001b[0m \u001b[1m0s\u001b[0m 53ms/step - loss: 11.5659 - mae: 11.5659\n",
            "Epoch 37/100\n",
            "\u001b[1m1/1\u001b[0m \u001b[32m━━━━━━━━━━━━━━━━━━━━\u001b[0m\u001b[37m\u001b[0m \u001b[1m0s\u001b[0m 65ms/step - loss: 11.4919 - mae: 11.4919\n",
            "Epoch 38/100\n",
            "\u001b[1m1/1\u001b[0m \u001b[32m━━━━━━━━━━━━━━━━━━━━\u001b[0m\u001b[37m\u001b[0m \u001b[1m0s\u001b[0m 131ms/step - loss: 11.4178 - mae: 11.4178\n",
            "Epoch 39/100\n",
            "\u001b[1m1/1\u001b[0m \u001b[32m━━━━━━━━━━━━━━━━━━━━\u001b[0m\u001b[37m\u001b[0m \u001b[1m0s\u001b[0m 48ms/step - loss: 11.3437 - mae: 11.3437\n",
            "Epoch 40/100\n",
            "\u001b[1m1/1\u001b[0m \u001b[32m━━━━━━━━━━━━━━━━━━━━\u001b[0m\u001b[37m\u001b[0m \u001b[1m0s\u001b[0m 57ms/step - loss: 11.2694 - mae: 11.2694\n",
            "Epoch 41/100\n",
            "\u001b[1m1/1\u001b[0m \u001b[32m━━━━━━━━━━━━━━━━━━━━\u001b[0m\u001b[37m\u001b[0m \u001b[1m0s\u001b[0m 48ms/step - loss: 11.1950 - mae: 11.1950\n",
            "Epoch 42/100\n",
            "\u001b[1m1/1\u001b[0m \u001b[32m━━━━━━━━━━━━━━━━━━━━\u001b[0m\u001b[37m\u001b[0m \u001b[1m0s\u001b[0m 57ms/step - loss: 11.1205 - mae: 11.1205\n",
            "Epoch 43/100\n",
            "\u001b[1m1/1\u001b[0m \u001b[32m━━━━━━━━━━━━━━━━━━━━\u001b[0m\u001b[37m\u001b[0m \u001b[1m0s\u001b[0m 56ms/step - loss: 11.0458 - mae: 11.0458\n",
            "Epoch 44/100\n",
            "\u001b[1m1/1\u001b[0m \u001b[32m━━━━━━━━━━━━━━━━━━━━\u001b[0m\u001b[37m\u001b[0m \u001b[1m0s\u001b[0m 48ms/step - loss: 10.9710 - mae: 10.9710\n",
            "Epoch 45/100\n",
            "\u001b[1m1/1\u001b[0m \u001b[32m━━━━━━━━━━━━━━━━━━━━\u001b[0m\u001b[37m\u001b[0m \u001b[1m0s\u001b[0m 50ms/step - loss: 10.8961 - mae: 10.8961\n",
            "Epoch 46/100\n",
            "\u001b[1m1/1\u001b[0m \u001b[32m━━━━━━━━━━━━━━━━━━━━\u001b[0m\u001b[37m\u001b[0m \u001b[1m0s\u001b[0m 66ms/step - loss: 10.8210 - mae: 10.8210\n",
            "Epoch 47/100\n",
            "\u001b[1m1/1\u001b[0m \u001b[32m━━━━━━━━━━━━━━━━━━━━\u001b[0m\u001b[37m\u001b[0m \u001b[1m0s\u001b[0m 60ms/step - loss: 10.7458 - mae: 10.7458\n",
            "Epoch 48/100\n",
            "\u001b[1m1/1\u001b[0m \u001b[32m━━━━━━━━━━━━━━━━━━━━\u001b[0m\u001b[37m\u001b[0m \u001b[1m0s\u001b[0m 134ms/step - loss: 10.6704 - mae: 10.6704\n",
            "Epoch 49/100\n",
            "\u001b[1m1/1\u001b[0m \u001b[32m━━━━━━━━━━━━━━━━━━━━\u001b[0m\u001b[37m\u001b[0m \u001b[1m0s\u001b[0m 50ms/step - loss: 10.5949 - mae: 10.5949\n",
            "Epoch 50/100\n",
            "\u001b[1m1/1\u001b[0m \u001b[32m━━━━━━━━━━━━━━━━━━━━\u001b[0m\u001b[37m\u001b[0m \u001b[1m0s\u001b[0m 63ms/step - loss: 10.5192 - mae: 10.5192\n",
            "Epoch 51/100\n",
            "\u001b[1m1/1\u001b[0m \u001b[32m━━━━━━━━━━━━━━━━━━━━\u001b[0m\u001b[37m\u001b[0m \u001b[1m0s\u001b[0m 51ms/step - loss: 10.4433 - mae: 10.4433\n",
            "Epoch 52/100\n",
            "\u001b[1m1/1\u001b[0m \u001b[32m━━━━━━━━━━━━━━━━━━━━\u001b[0m\u001b[37m\u001b[0m \u001b[1m0s\u001b[0m 67ms/step - loss: 10.3672 - mae: 10.3672\n",
            "Epoch 53/100\n",
            "\u001b[1m1/1\u001b[0m \u001b[32m━━━━━━━━━━━━━━━━━━━━\u001b[0m\u001b[37m\u001b[0m \u001b[1m0s\u001b[0m 128ms/step - loss: 10.2909 - mae: 10.2909\n",
            "Epoch 54/100\n",
            "\u001b[1m1/1\u001b[0m \u001b[32m━━━━━━━━━━━━━━━━━━━━\u001b[0m\u001b[37m\u001b[0m \u001b[1m0s\u001b[0m 58ms/step - loss: 10.2145 - mae: 10.2145\n",
            "Epoch 55/100\n",
            "\u001b[1m1/1\u001b[0m \u001b[32m━━━━━━━━━━━━━━━━━━━━\u001b[0m\u001b[37m\u001b[0m \u001b[1m0s\u001b[0m 59ms/step - loss: 10.1378 - mae: 10.1378\n",
            "Epoch 56/100\n",
            "\u001b[1m1/1\u001b[0m \u001b[32m━━━━━━━━━━━━━━━━━━━━\u001b[0m\u001b[37m\u001b[0m \u001b[1m0s\u001b[0m 53ms/step - loss: 10.0609 - mae: 10.0609\n",
            "Epoch 57/100\n",
            "\u001b[1m1/1\u001b[0m \u001b[32m━━━━━━━━━━━━━━━━━━━━\u001b[0m\u001b[37m\u001b[0m \u001b[1m0s\u001b[0m 49ms/step - loss: 9.9838 - mae: 9.9838\n",
            "Epoch 58/100\n",
            "\u001b[1m1/1\u001b[0m \u001b[32m━━━━━━━━━━━━━━━━━━━━\u001b[0m\u001b[37m\u001b[0m \u001b[1m0s\u001b[0m 46ms/step - loss: 9.9065 - mae: 9.9065\n",
            "Epoch 59/100\n",
            "\u001b[1m1/1\u001b[0m \u001b[32m━━━━━━━━━━━━━━━━━━━━\u001b[0m\u001b[37m\u001b[0m \u001b[1m0s\u001b[0m 62ms/step - loss: 9.8290 - mae: 9.8290\n",
            "Epoch 60/100\n",
            "\u001b[1m1/1\u001b[0m \u001b[32m━━━━━━━━━━━━━━━━━━━━\u001b[0m\u001b[37m\u001b[0m \u001b[1m0s\u001b[0m 62ms/step - loss: 9.7512 - mae: 9.7512\n",
            "Epoch 61/100\n",
            "\u001b[1m1/1\u001b[0m \u001b[32m━━━━━━━━━━━━━━━━━━━━\u001b[0m\u001b[37m\u001b[0m \u001b[1m0s\u001b[0m 63ms/step - loss: 9.6731 - mae: 9.6731\n",
            "Epoch 62/100\n",
            "\u001b[1m1/1\u001b[0m \u001b[32m━━━━━━━━━━━━━━━━━━━━\u001b[0m\u001b[37m\u001b[0m \u001b[1m0s\u001b[0m 50ms/step - loss: 9.5949 - mae: 9.5949\n",
            "Epoch 63/100\n",
            "\u001b[1m1/1\u001b[0m \u001b[32m━━━━━━━━━━━━━━━━━━━━\u001b[0m\u001b[37m\u001b[0m \u001b[1m0s\u001b[0m 56ms/step - loss: 9.5163 - mae: 9.5163\n",
            "Epoch 64/100\n",
            "\u001b[1m1/1\u001b[0m \u001b[32m━━━━━━━━━━━━━━━━━━━━\u001b[0m\u001b[37m\u001b[0m \u001b[1m0s\u001b[0m 63ms/step - loss: 9.4376 - mae: 9.4376\n",
            "Epoch 65/100\n",
            "\u001b[1m1/1\u001b[0m \u001b[32m━━━━━━━━━━━━━━━━━━━━\u001b[0m\u001b[37m\u001b[0m \u001b[1m0s\u001b[0m 50ms/step - loss: 9.3585 - mae: 9.3585\n",
            "Epoch 66/100\n",
            "\u001b[1m1/1\u001b[0m \u001b[32m━━━━━━━━━━━━━━━━━━━━\u001b[0m\u001b[37m\u001b[0m \u001b[1m0s\u001b[0m 50ms/step - loss: 9.2792 - mae: 9.2792\n",
            "Epoch 67/100\n",
            "\u001b[1m1/1\u001b[0m \u001b[32m━━━━━━━━━━━━━━━━━━━━\u001b[0m\u001b[37m\u001b[0m \u001b[1m0s\u001b[0m 58ms/step - loss: 9.1995 - mae: 9.1995\n",
            "Epoch 68/100\n",
            "\u001b[1m1/1\u001b[0m \u001b[32m━━━━━━━━━━━━━━━━━━━━\u001b[0m\u001b[37m\u001b[0m \u001b[1m0s\u001b[0m 71ms/step - loss: 9.1197 - mae: 9.1197\n",
            "Epoch 69/100\n",
            "\u001b[1m1/1\u001b[0m \u001b[32m━━━━━━━━━━━━━━━━━━━━\u001b[0m\u001b[37m\u001b[0m \u001b[1m0s\u001b[0m 48ms/step - loss: 9.0395 - mae: 9.0395\n",
            "Epoch 70/100\n",
            "\u001b[1m1/1\u001b[0m \u001b[32m━━━━━━━━━━━━━━━━━━━━\u001b[0m\u001b[37m\u001b[0m \u001b[1m0s\u001b[0m 58ms/step - loss: 8.9590 - mae: 8.9590\n",
            "Epoch 71/100\n",
            "\u001b[1m1/1\u001b[0m \u001b[32m━━━━━━━━━━━━━━━━━━━━\u001b[0m\u001b[37m\u001b[0m \u001b[1m0s\u001b[0m 51ms/step - loss: 8.8782 - mae: 8.8782\n",
            "Epoch 72/100\n",
            "\u001b[1m1/1\u001b[0m \u001b[32m━━━━━━━━━━━━━━━━━━━━\u001b[0m\u001b[37m\u001b[0m \u001b[1m0s\u001b[0m 57ms/step - loss: 8.7971 - mae: 8.7971\n",
            "Epoch 73/100\n",
            "\u001b[1m1/1\u001b[0m \u001b[32m━━━━━━━━━━━━━━━━━━━━\u001b[0m\u001b[37m\u001b[0m \u001b[1m0s\u001b[0m 59ms/step - loss: 8.7156 - mae: 8.7156\n",
            "Epoch 74/100\n",
            "\u001b[1m1/1\u001b[0m \u001b[32m━━━━━━━━━━━━━━━━━━━━\u001b[0m\u001b[37m\u001b[0m \u001b[1m0s\u001b[0m 48ms/step - loss: 8.6339 - mae: 8.6339\n",
            "Epoch 75/100\n",
            "\u001b[1m1/1\u001b[0m \u001b[32m━━━━━━━━━━━━━━━━━━━━\u001b[0m\u001b[37m\u001b[0m \u001b[1m0s\u001b[0m 58ms/step - loss: 8.5518 - mae: 8.5518\n",
            "Epoch 76/100\n",
            "\u001b[1m1/1\u001b[0m \u001b[32m━━━━━━━━━━━━━━━━━━━━\u001b[0m\u001b[37m\u001b[0m \u001b[1m0s\u001b[0m 55ms/step - loss: 8.4694 - mae: 8.4694\n",
            "Epoch 77/100\n",
            "\u001b[1m1/1\u001b[0m \u001b[32m━━━━━━━━━━━━━━━━━━━━\u001b[0m\u001b[37m\u001b[0m \u001b[1m0s\u001b[0m 62ms/step - loss: 8.3867 - mae: 8.3867\n",
            "Epoch 78/100\n",
            "\u001b[1m1/1\u001b[0m \u001b[32m━━━━━━━━━━━━━━━━━━━━\u001b[0m\u001b[37m\u001b[0m \u001b[1m0s\u001b[0m 62ms/step - loss: 8.3036 - mae: 8.3036\n",
            "Epoch 79/100\n",
            "\u001b[1m1/1\u001b[0m \u001b[32m━━━━━━━━━━━━━━━━━━━━\u001b[0m\u001b[37m\u001b[0m \u001b[1m0s\u001b[0m 53ms/step - loss: 8.2201 - mae: 8.2201\n",
            "Epoch 80/100\n",
            "\u001b[1m1/1\u001b[0m \u001b[32m━━━━━━━━━━━━━━━━━━━━\u001b[0m\u001b[37m\u001b[0m \u001b[1m0s\u001b[0m 57ms/step - loss: 8.1363 - mae: 8.1363\n",
            "Epoch 81/100\n",
            "\u001b[1m1/1\u001b[0m \u001b[32m━━━━━━━━━━━━━━━━━━━━\u001b[0m\u001b[37m\u001b[0m \u001b[1m0s\u001b[0m 53ms/step - loss: 8.0521 - mae: 8.0521\n",
            "Epoch 82/100\n",
            "\u001b[1m1/1\u001b[0m \u001b[32m━━━━━━━━━━━━━━━━━━━━\u001b[0m\u001b[37m\u001b[0m \u001b[1m0s\u001b[0m 62ms/step - loss: 7.9675 - mae: 7.9675\n",
            "Epoch 83/100\n",
            "\u001b[1m1/1\u001b[0m \u001b[32m━━━━━━━━━━━━━━━━━━━━\u001b[0m\u001b[37m\u001b[0m \u001b[1m0s\u001b[0m 62ms/step - loss: 7.8826 - mae: 7.8826\n",
            "Epoch 84/100\n",
            "\u001b[1m1/1\u001b[0m \u001b[32m━━━━━━━━━━━━━━━━━━━━\u001b[0m\u001b[37m\u001b[0m \u001b[1m0s\u001b[0m 55ms/step - loss: 7.7973 - mae: 7.7973\n",
            "Epoch 85/100\n",
            "\u001b[1m1/1\u001b[0m \u001b[32m━━━━━━━━━━━━━━━━━━━━\u001b[0m\u001b[37m\u001b[0m \u001b[1m0s\u001b[0m 136ms/step - loss: 7.7116 - mae: 7.7116\n",
            "Epoch 86/100\n",
            "\u001b[1m1/1\u001b[0m \u001b[32m━━━━━━━━━━━━━━━━━━━━\u001b[0m\u001b[37m\u001b[0m \u001b[1m0s\u001b[0m 53ms/step - loss: 7.6255 - mae: 7.6255\n",
            "Epoch 87/100\n",
            "\u001b[1m1/1\u001b[0m \u001b[32m━━━━━━━━━━━━━━━━━━━━\u001b[0m\u001b[37m\u001b[0m \u001b[1m0s\u001b[0m 49ms/step - loss: 7.5389 - mae: 7.5389\n",
            "Epoch 88/100\n",
            "\u001b[1m1/1\u001b[0m \u001b[32m━━━━━━━━━━━━━━━━━━━━\u001b[0m\u001b[37m\u001b[0m \u001b[1m0s\u001b[0m 51ms/step - loss: 7.4520 - mae: 7.4520\n",
            "Epoch 89/100\n",
            "\u001b[1m1/1\u001b[0m \u001b[32m━━━━━━━━━━━━━━━━━━━━\u001b[0m\u001b[37m\u001b[0m \u001b[1m0s\u001b[0m 59ms/step - loss: 7.3647 - mae: 7.3647\n",
            "Epoch 90/100\n",
            "\u001b[1m1/1\u001b[0m \u001b[32m━━━━━━━━━━━━━━━━━━━━\u001b[0m\u001b[37m\u001b[0m \u001b[1m0s\u001b[0m 50ms/step - loss: 7.2769 - mae: 7.2769\n",
            "Epoch 91/100\n",
            "\u001b[1m1/1\u001b[0m \u001b[32m━━━━━━━━━━━━━━━━━━━━\u001b[0m\u001b[37m\u001b[0m \u001b[1m0s\u001b[0m 53ms/step - loss: 7.1887 - mae: 7.1887\n",
            "Epoch 92/100\n",
            "\u001b[1m1/1\u001b[0m \u001b[32m━━━━━━━━━━━━━━━━━━━━\u001b[0m\u001b[37m\u001b[0m \u001b[1m0s\u001b[0m 62ms/step - loss: 7.1001 - mae: 7.1001\n",
            "Epoch 93/100\n",
            "\u001b[1m1/1\u001b[0m \u001b[32m━━━━━━━━━━━━━━━━━━━━\u001b[0m\u001b[37m\u001b[0m \u001b[1m0s\u001b[0m 130ms/step - loss: 7.0111 - mae: 7.0111\n",
            "Epoch 94/100\n",
            "\u001b[1m1/1\u001b[0m \u001b[32m━━━━━━━━━━━━━━━━━━━━\u001b[0m\u001b[37m\u001b[0m \u001b[1m0s\u001b[0m 48ms/step - loss: 6.9216 - mae: 6.9216\n",
            "Epoch 95/100\n",
            "\u001b[1m1/1\u001b[0m \u001b[32m━━━━━━━━━━━━━━━━━━━━\u001b[0m\u001b[37m\u001b[0m \u001b[1m0s\u001b[0m 62ms/step - loss: 6.8316 - mae: 6.8316\n",
            "Epoch 96/100\n",
            "\u001b[1m1/1\u001b[0m \u001b[32m━━━━━━━━━━━━━━━━━━━━\u001b[0m\u001b[37m\u001b[0m \u001b[1m0s\u001b[0m 60ms/step - loss: 6.7412 - mae: 6.7412\n",
            "Epoch 97/100\n",
            "\u001b[1m1/1\u001b[0m \u001b[32m━━━━━━━━━━━━━━━━━━━━\u001b[0m\u001b[37m\u001b[0m \u001b[1m0s\u001b[0m 52ms/step - loss: 6.6504 - mae: 6.6504\n",
            "Epoch 98/100\n",
            "\u001b[1m1/1\u001b[0m \u001b[32m━━━━━━━━━━━━━━━━━━━━\u001b[0m\u001b[37m\u001b[0m \u001b[1m0s\u001b[0m 59ms/step - loss: 6.6156 - mae: 6.6156\n",
            "Epoch 99/100\n",
            "\u001b[1m1/1\u001b[0m \u001b[32m━━━━━━━━━━━━━━━━━━━━\u001b[0m\u001b[37m\u001b[0m \u001b[1m0s\u001b[0m 51ms/step - loss: 6.6041 - mae: 6.6041\n",
            "Epoch 100/100\n",
            "\u001b[1m1/1\u001b[0m \u001b[32m━━━━━━━━━━━━━━━━━━━━\u001b[0m\u001b[37m\u001b[0m \u001b[1m0s\u001b[0m 134ms/step - loss: 6.5928 - mae: 6.5928\n"
          ]
        },
        {
          "output_type": "execute_result",
          "data": {
            "text/plain": [
              "<keras.src.callbacks.history.History at 0x7baf3f9c5b50>"
            ]
          },
          "metadata": {},
          "execution_count": 25
        }
      ]
    },
    {
      "cell_type": "code",
      "source": [
        "model.predict(tf.expand_dims([17.0], axis=-1))"
      ],
      "metadata": {
        "colab": {
          "base_uri": "https://localhost:8080/"
        },
        "id": "GU5PFSKhAG1o",
        "outputId": "29504212-c218-4593-917b-a38c5bff5e4c"
      },
      "execution_count": 26,
      "outputs": [
        {
          "output_type": "stream",
          "name": "stderr",
          "text": [
            "WARNING:tensorflow:6 out of the last 6 calls to <function TensorFlowTrainer.make_predict_function.<locals>.one_step_on_data_distributed at 0x7baf3f726480> triggered tf.function retracing. Tracing is expensive and the excessive number of tracings could be due to (1) creating @tf.function repeatedly in a loop, (2) passing tensors with different shapes, (3) passing Python objects instead of tensors. For (1), please define your @tf.function outside of the loop. For (2), @tf.function has reduce_retracing=True option that can avoid unnecessary retracing. For (3), please refer to https://www.tensorflow.org/guide/function#controlling_retracing and https://www.tensorflow.org/api_docs/python/tf/function for  more details.\n"
          ]
        },
        {
          "output_type": "stream",
          "name": "stdout",
          "text": [
            "\u001b[1m1/1\u001b[0m \u001b[32m━━━━━━━━━━━━━━━━━━━━\u001b[0m\u001b[37m\u001b[0m \u001b[1m0s\u001b[0m 69ms/step\n"
          ]
        },
        {
          "output_type": "execute_result",
          "data": {
            "text/plain": [
              "array([[30.125092]], dtype=float32)"
            ]
          },
          "metadata": {},
          "execution_count": 26
        }
      ]
    },
    {
      "cell_type": "code",
      "source": [
        "# Change the learning rate\n",
        "\n",
        "# 1. Create the model\n",
        "model = tf.keras.Sequential([\n",
        "    tf.keras.layers.Dense(50, activation=None),\n",
        "    tf.keras.layers.Dense(1)\n",
        "])\n",
        "\n",
        "# 2. Compile the model\n",
        "model.compile(loss=\"mae\",\n",
        "              optimizer=tf.keras.optimizers.Adam(learning_rate=0.01),\n",
        "              metrics=[\"mae\"])\n",
        "\n",
        "# 3. Fit the model\n",
        "model.fit(tf.expand_dims(X, axis=-1), y, epochs=100)\n"
      ],
      "metadata": {
        "colab": {
          "base_uri": "https://localhost:8080/"
        },
        "id": "QFTvQ8-wAJXG",
        "outputId": "aa0fc938-f240-4a23-f1b6-b7e28ce2529f"
      },
      "execution_count": 27,
      "outputs": [
        {
          "output_type": "stream",
          "name": "stdout",
          "text": [
            "Epoch 1/100\n",
            "\u001b[1m1/1\u001b[0m \u001b[32m━━━━━━━━━━━━━━━━━━━━\u001b[0m\u001b[37m\u001b[0m \u001b[1m1s\u001b[0m 1s/step - loss: 14.2944 - mae: 14.2944\n",
            "Epoch 2/100\n",
            "\u001b[1m1/1\u001b[0m \u001b[32m━━━━━━━━━━━━━━━━━━━━\u001b[0m\u001b[37m\u001b[0m \u001b[1m0s\u001b[0m 48ms/step - loss: 13.5808 - mae: 13.5808\n",
            "Epoch 3/100\n",
            "\u001b[1m1/1\u001b[0m \u001b[32m━━━━━━━━━━━━━━━━━━━━\u001b[0m\u001b[37m\u001b[0m \u001b[1m0s\u001b[0m 59ms/step - loss: 12.8697 - mae: 12.8697\n",
            "Epoch 4/100\n",
            "\u001b[1m1/1\u001b[0m \u001b[32m━━━━━━━━━━━━━━━━━━━━\u001b[0m\u001b[37m\u001b[0m \u001b[1m0s\u001b[0m 60ms/step - loss: 12.1591 - mae: 12.1591\n",
            "Epoch 5/100\n",
            "\u001b[1m1/1\u001b[0m \u001b[32m━━━━━━━━━━━━━━━━━━━━\u001b[0m\u001b[37m\u001b[0m \u001b[1m0s\u001b[0m 48ms/step - loss: 11.4474 - mae: 11.4474\n",
            "Epoch 6/100\n",
            "\u001b[1m1/1\u001b[0m \u001b[32m━━━━━━━━━━━━━━━━━━━━\u001b[0m\u001b[37m\u001b[0m \u001b[1m0s\u001b[0m 59ms/step - loss: 10.7333 - mae: 10.7333\n",
            "Epoch 7/100\n",
            "\u001b[1m1/1\u001b[0m \u001b[32m━━━━━━━━━━━━━━━━━━━━\u001b[0m\u001b[37m\u001b[0m \u001b[1m0s\u001b[0m 60ms/step - loss: 10.0148 - mae: 10.0148\n",
            "Epoch 8/100\n",
            "\u001b[1m1/1\u001b[0m \u001b[32m━━━━━━━━━━━━━━━━━━━━\u001b[0m\u001b[37m\u001b[0m \u001b[1m0s\u001b[0m 49ms/step - loss: 9.2894 - mae: 9.2894\n",
            "Epoch 9/100\n",
            "\u001b[1m1/1\u001b[0m \u001b[32m━━━━━━━━━━━━━━━━━━━━\u001b[0m\u001b[37m\u001b[0m \u001b[1m0s\u001b[0m 69ms/step - loss: 8.5543 - mae: 8.5543\n",
            "Epoch 10/100\n",
            "\u001b[1m1/1\u001b[0m \u001b[32m━━━━━━━━━━━━━━━━━━━━\u001b[0m\u001b[37m\u001b[0m \u001b[1m0s\u001b[0m 87ms/step - loss: 7.8066 - mae: 7.8066\n",
            "Epoch 11/100\n",
            "\u001b[1m1/1\u001b[0m \u001b[32m━━━━━━━━━━━━━━━━━━━━\u001b[0m\u001b[37m\u001b[0m \u001b[1m0s\u001b[0m 129ms/step - loss: 7.0434 - mae: 7.0434\n",
            "Epoch 12/100\n",
            "\u001b[1m1/1\u001b[0m \u001b[32m━━━━━━━━━━━━━━━━━━━━\u001b[0m\u001b[37m\u001b[0m \u001b[1m0s\u001b[0m 135ms/step - loss: 6.6836 - mae: 6.6836\n",
            "Epoch 13/100\n",
            "\u001b[1m1/1\u001b[0m \u001b[32m━━━━━━━━━━━━━━━━━━━━\u001b[0m\u001b[37m\u001b[0m \u001b[1m0s\u001b[0m 81ms/step - loss: 6.9622 - mae: 6.9622\n",
            "Epoch 14/100\n",
            "\u001b[1m1/1\u001b[0m \u001b[32m━━━━━━━━━━━━━━━━━━━━\u001b[0m\u001b[37m\u001b[0m \u001b[1m0s\u001b[0m 77ms/step - loss: 7.2623 - mae: 7.2623\n",
            "Epoch 15/100\n",
            "\u001b[1m1/1\u001b[0m \u001b[32m━━━━━━━━━━━━━━━━━━━━\u001b[0m\u001b[37m\u001b[0m \u001b[1m0s\u001b[0m 77ms/step - loss: 7.6094 - mae: 7.6094\n",
            "Epoch 16/100\n",
            "\u001b[1m1/1\u001b[0m \u001b[32m━━━━━━━━━━━━━━━━━━━━\u001b[0m\u001b[37m\u001b[0m \u001b[1m0s\u001b[0m 142ms/step - loss: 7.7416 - mae: 7.7416\n",
            "Epoch 17/100\n",
            "\u001b[1m1/1\u001b[0m \u001b[32m━━━━━━━━━━━━━━━━━━━━\u001b[0m\u001b[37m\u001b[0m \u001b[1m0s\u001b[0m 74ms/step - loss: 7.6760 - mae: 7.6760\n",
            "Epoch 18/100\n",
            "\u001b[1m1/1\u001b[0m \u001b[32m━━━━━━━━━━━━━━━━━━━━\u001b[0m\u001b[37m\u001b[0m \u001b[1m0s\u001b[0m 77ms/step - loss: 7.4595 - mae: 7.4595\n",
            "Epoch 19/100\n",
            "\u001b[1m1/1\u001b[0m \u001b[32m━━━━━━━━━━━━━━━━━━━━\u001b[0m\u001b[37m\u001b[0m \u001b[1m0s\u001b[0m 148ms/step - loss: 7.1274 - mae: 7.1274\n",
            "Epoch 20/100\n",
            "\u001b[1m1/1\u001b[0m \u001b[32m━━━━━━━━━━━━━━━━━━━━\u001b[0m\u001b[37m\u001b[0m \u001b[1m0s\u001b[0m 126ms/step - loss: 6.8002 - mae: 6.8002\n",
            "Epoch 21/100\n",
            "\u001b[1m1/1\u001b[0m \u001b[32m━━━━━━━━━━━━━━━━━━━━\u001b[0m\u001b[37m\u001b[0m \u001b[1m0s\u001b[0m 141ms/step - loss: 6.5243 - mae: 6.5243\n",
            "Epoch 22/100\n",
            "\u001b[1m1/1\u001b[0m \u001b[32m━━━━━━━━━━━━━━━━━━━━\u001b[0m\u001b[37m\u001b[0m \u001b[1m0s\u001b[0m 140ms/step - loss: 6.2382 - mae: 6.2382\n",
            "Epoch 23/100\n",
            "\u001b[1m1/1\u001b[0m \u001b[32m━━━━━━━━━━━━━━━━━━━━\u001b[0m\u001b[37m\u001b[0m \u001b[1m0s\u001b[0m 69ms/step - loss: 6.0438 - mae: 6.0438\n",
            "Epoch 24/100\n",
            "\u001b[1m1/1\u001b[0m \u001b[32m━━━━━━━━━━━━━━━━━━━━\u001b[0m\u001b[37m\u001b[0m \u001b[1m0s\u001b[0m 73ms/step - loss: 6.0025 - mae: 6.0025\n",
            "Epoch 25/100\n",
            "\u001b[1m1/1\u001b[0m \u001b[32m━━━━━━━━━━━━━━━━━━━━\u001b[0m\u001b[37m\u001b[0m \u001b[1m0s\u001b[0m 72ms/step - loss: 6.0704 - mae: 6.0704\n",
            "Epoch 26/100\n",
            "\u001b[1m1/1\u001b[0m \u001b[32m━━━━━━━━━━━━━━━━━━━━\u001b[0m\u001b[37m\u001b[0m \u001b[1m0s\u001b[0m 152ms/step - loss: 6.1607 - mae: 6.1607\n",
            "Epoch 27/100\n",
            "\u001b[1m1/1\u001b[0m \u001b[32m━━━━━━━━━━━━━━━━━━━━\u001b[0m\u001b[37m\u001b[0m \u001b[1m0s\u001b[0m 127ms/step - loss: 6.1531 - mae: 6.1531\n",
            "Epoch 28/100\n",
            "\u001b[1m1/1\u001b[0m \u001b[32m━━━━━━━━━━━━━━━━━━━━\u001b[0m\u001b[37m\u001b[0m \u001b[1m0s\u001b[0m 145ms/step - loss: 6.0594 - mae: 6.0594\n",
            "Epoch 29/100\n",
            "\u001b[1m1/1\u001b[0m \u001b[32m━━━━━━━━━━━━━━━━━━━━\u001b[0m\u001b[37m\u001b[0m \u001b[1m0s\u001b[0m 115ms/step - loss: 5.8884 - mae: 5.8884\n",
            "Epoch 30/100\n",
            "\u001b[1m1/1\u001b[0m \u001b[32m━━━━━━━━━━━━━━━━━━━━\u001b[0m\u001b[37m\u001b[0m \u001b[1m0s\u001b[0m 60ms/step - loss: 5.6465 - mae: 5.6465\n",
            "Epoch 31/100\n",
            "\u001b[1m1/1\u001b[0m \u001b[32m━━━━━━━━━━━━━━━━━━━━\u001b[0m\u001b[37m\u001b[0m \u001b[1m0s\u001b[0m 65ms/step - loss: 5.4737 - mae: 5.4737\n",
            "Epoch 32/100\n",
            "\u001b[1m1/1\u001b[0m \u001b[32m━━━━━━━━━━━━━━━━━━━━\u001b[0m\u001b[37m\u001b[0m \u001b[1m0s\u001b[0m 55ms/step - loss: 5.3675 - mae: 5.3675\n",
            "Epoch 33/100\n",
            "\u001b[1m1/1\u001b[0m \u001b[32m━━━━━━━━━━━━━━━━━━━━\u001b[0m\u001b[37m\u001b[0m \u001b[1m0s\u001b[0m 53ms/step - loss: 5.2920 - mae: 5.2920\n",
            "Epoch 34/100\n",
            "\u001b[1m1/1\u001b[0m \u001b[32m━━━━━━━━━━━━━━━━━━━━\u001b[0m\u001b[37m\u001b[0m \u001b[1m0s\u001b[0m 57ms/step - loss: 5.2937 - mae: 5.2937\n",
            "Epoch 35/100\n",
            "\u001b[1m1/1\u001b[0m \u001b[32m━━━━━━━━━━━━━━━━━━━━\u001b[0m\u001b[37m\u001b[0m \u001b[1m0s\u001b[0m 57ms/step - loss: 5.2528 - mae: 5.2528\n",
            "Epoch 36/100\n",
            "\u001b[1m1/1\u001b[0m \u001b[32m━━━━━━━━━━━━━━━━━━━━\u001b[0m\u001b[37m\u001b[0m \u001b[1m0s\u001b[0m 50ms/step - loss: 5.1724 - mae: 5.1724\n",
            "Epoch 37/100\n",
            "\u001b[1m1/1\u001b[0m \u001b[32m━━━━━━━━━━━━━━━━━━━━\u001b[0m\u001b[37m\u001b[0m \u001b[1m0s\u001b[0m 60ms/step - loss: 5.0556 - mae: 5.0556\n",
            "Epoch 38/100\n",
            "\u001b[1m1/1\u001b[0m \u001b[32m━━━━━━━━━━━━━━━━━━━━\u001b[0m\u001b[37m\u001b[0m \u001b[1m0s\u001b[0m 57ms/step - loss: 4.9052 - mae: 4.9052\n",
            "Epoch 39/100\n",
            "\u001b[1m1/1\u001b[0m \u001b[32m━━━━━━━━━━━━━━━━━━━━\u001b[0m\u001b[37m\u001b[0m \u001b[1m0s\u001b[0m 58ms/step - loss: 4.7240 - mae: 4.7240\n",
            "Epoch 40/100\n",
            "\u001b[1m1/1\u001b[0m \u001b[32m━━━━━━━━━━━━━━━━━━━━\u001b[0m\u001b[37m\u001b[0m \u001b[1m0s\u001b[0m 48ms/step - loss: 4.5922 - mae: 4.5922\n",
            "Epoch 41/100\n",
            "\u001b[1m1/1\u001b[0m \u001b[32m━━━━━━━━━━━━━━━━━━━━\u001b[0m\u001b[37m\u001b[0m \u001b[1m0s\u001b[0m 58ms/step - loss: 4.4976 - mae: 4.4976\n",
            "Epoch 42/100\n",
            "\u001b[1m1/1\u001b[0m \u001b[32m━━━━━━━━━━━━━━━━━━━━\u001b[0m\u001b[37m\u001b[0m \u001b[1m0s\u001b[0m 48ms/step - loss: 4.3955 - mae: 4.3955\n",
            "Epoch 43/100\n",
            "\u001b[1m1/1\u001b[0m \u001b[32m━━━━━━━━━━━━━━━━━━━━\u001b[0m\u001b[37m\u001b[0m \u001b[1m0s\u001b[0m 59ms/step - loss: 4.3280 - mae: 4.3280\n",
            "Epoch 44/100\n",
            "\u001b[1m1/1\u001b[0m \u001b[32m━━━━━━━━━━━━━━━━━━━━\u001b[0m\u001b[37m\u001b[0m \u001b[1m0s\u001b[0m 61ms/step - loss: 4.2031 - mae: 4.2031\n",
            "Epoch 45/100\n",
            "\u001b[1m1/1\u001b[0m \u001b[32m━━━━━━━━━━━━━━━━━━━━\u001b[0m\u001b[37m\u001b[0m \u001b[1m0s\u001b[0m 59ms/step - loss: 4.0162 - mae: 4.0162\n",
            "Epoch 46/100\n",
            "\u001b[1m1/1\u001b[0m \u001b[32m━━━━━━━━━━━━━━━━━━━━\u001b[0m\u001b[37m\u001b[0m \u001b[1m0s\u001b[0m 59ms/step - loss: 3.8666 - mae: 3.8666\n",
            "Epoch 47/100\n",
            "\u001b[1m1/1\u001b[0m \u001b[32m━━━━━━━━━━━━━━━━━━━━\u001b[0m\u001b[37m\u001b[0m \u001b[1m0s\u001b[0m 51ms/step - loss: 3.7101 - mae: 3.7101\n",
            "Epoch 48/100\n",
            "\u001b[1m1/1\u001b[0m \u001b[32m━━━━━━━━━━━━━━━━━━━━\u001b[0m\u001b[37m\u001b[0m \u001b[1m0s\u001b[0m 67ms/step - loss: 3.5550 - mae: 3.5550\n",
            "Epoch 49/100\n",
            "\u001b[1m1/1\u001b[0m \u001b[32m━━━━━━━━━━━━━━━━━━━━\u001b[0m\u001b[37m\u001b[0m \u001b[1m0s\u001b[0m 66ms/step - loss: 3.4297 - mae: 3.4297\n",
            "Epoch 50/100\n",
            "\u001b[1m1/1\u001b[0m \u001b[32m━━━━━━━━━━━━━━━━━━━━\u001b[0m\u001b[37m\u001b[0m \u001b[1m0s\u001b[0m 127ms/step - loss: 3.2546 - mae: 3.2546\n",
            "Epoch 51/100\n",
            "\u001b[1m1/1\u001b[0m \u001b[32m━━━━━━━━━━━━━━━━━━━━\u001b[0m\u001b[37m\u001b[0m \u001b[1m0s\u001b[0m 53ms/step - loss: 3.0700 - mae: 3.0700\n",
            "Epoch 52/100\n",
            "\u001b[1m1/1\u001b[0m \u001b[32m━━━━━━━━━━━━━━━━━━━━\u001b[0m\u001b[37m\u001b[0m \u001b[1m0s\u001b[0m 56ms/step - loss: 2.9028 - mae: 2.9028\n",
            "Epoch 53/100\n",
            "\u001b[1m1/1\u001b[0m \u001b[32m━━━━━━━━━━━━━━━━━━━━\u001b[0m\u001b[37m\u001b[0m \u001b[1m0s\u001b[0m 56ms/step - loss: 2.7251 - mae: 2.7251\n",
            "Epoch 54/100\n",
            "\u001b[1m1/1\u001b[0m \u001b[32m━━━━━━━━━━━━━━━━━━━━\u001b[0m\u001b[37m\u001b[0m \u001b[1m0s\u001b[0m 59ms/step - loss: 2.5370 - mae: 2.5370\n",
            "Epoch 55/100\n",
            "\u001b[1m1/1\u001b[0m \u001b[32m━━━━━━━━━━━━━━━━━━━━\u001b[0m\u001b[37m\u001b[0m \u001b[1m0s\u001b[0m 133ms/step - loss: 2.3380 - mae: 2.3380\n",
            "Epoch 56/100\n",
            "\u001b[1m1/1\u001b[0m \u001b[32m━━━━━━━━━━━━━━━━━━━━\u001b[0m\u001b[37m\u001b[0m \u001b[1m0s\u001b[0m 49ms/step - loss: 2.1409 - mae: 2.1409\n",
            "Epoch 57/100\n",
            "\u001b[1m1/1\u001b[0m \u001b[32m━━━━━━━━━━━━━━━━━━━━\u001b[0m\u001b[37m\u001b[0m \u001b[1m0s\u001b[0m 63ms/step - loss: 1.8962 - mae: 1.8962\n",
            "Epoch 58/100\n",
            "\u001b[1m1/1\u001b[0m \u001b[32m━━━━━━━━━━━━━━━━━━━━\u001b[0m\u001b[37m\u001b[0m \u001b[1m0s\u001b[0m 136ms/step - loss: 1.7068 - mae: 1.7068\n",
            "Epoch 59/100\n",
            "\u001b[1m1/1\u001b[0m \u001b[32m━━━━━━━━━━━━━━━━━━━━\u001b[0m\u001b[37m\u001b[0m \u001b[1m0s\u001b[0m 51ms/step - loss: 1.5007 - mae: 1.5007\n",
            "Epoch 60/100\n",
            "\u001b[1m1/1\u001b[0m \u001b[32m━━━━━━━━━━━━━━━━━━━━\u001b[0m\u001b[37m\u001b[0m \u001b[1m0s\u001b[0m 60ms/step - loss: 1.2244 - mae: 1.2244\n",
            "Epoch 61/100\n",
            "\u001b[1m1/1\u001b[0m \u001b[32m━━━━━━━━━━━━━━━━━━━━\u001b[0m\u001b[37m\u001b[0m \u001b[1m0s\u001b[0m 130ms/step - loss: 0.9338 - mae: 0.9338\n",
            "Epoch 62/100\n",
            "\u001b[1m1/1\u001b[0m \u001b[32m━━━━━━━━━━━━━━━━━━━━\u001b[0m\u001b[37m\u001b[0m \u001b[1m0s\u001b[0m 57ms/step - loss: 0.7936 - mae: 0.7936\n",
            "Epoch 63/100\n",
            "\u001b[1m1/1\u001b[0m \u001b[32m━━━━━━━━━━━━━━━━━━━━\u001b[0m\u001b[37m\u001b[0m \u001b[1m0s\u001b[0m 50ms/step - loss: 0.4798 - mae: 0.4798\n",
            "Epoch 64/100\n",
            "\u001b[1m1/1\u001b[0m \u001b[32m━━━━━━━━━━━━━━━━━━━━\u001b[0m\u001b[37m\u001b[0m \u001b[1m0s\u001b[0m 51ms/step - loss: 0.2344 - mae: 0.2344\n",
            "Epoch 65/100\n",
            "\u001b[1m1/1\u001b[0m \u001b[32m━━━━━━━━━━━━━━━━━━━━\u001b[0m\u001b[37m\u001b[0m \u001b[1m0s\u001b[0m 57ms/step - loss: 0.2286 - mae: 0.2286\n",
            "Epoch 66/100\n",
            "\u001b[1m1/1\u001b[0m \u001b[32m━━━━━━━━━━━━━━━━━━━━\u001b[0m\u001b[37m\u001b[0m \u001b[1m0s\u001b[0m 60ms/step - loss: 0.5084 - mae: 0.5084\n",
            "Epoch 67/100\n",
            "\u001b[1m1/1\u001b[0m \u001b[32m━━━━━━━━━━━━━━━━━━━━\u001b[0m\u001b[37m\u001b[0m \u001b[1m0s\u001b[0m 57ms/step - loss: 0.6501 - mae: 0.6501\n",
            "Epoch 68/100\n",
            "\u001b[1m1/1\u001b[0m \u001b[32m━━━━━━━━━━━━━━━━━━━━\u001b[0m\u001b[37m\u001b[0m \u001b[1m0s\u001b[0m 49ms/step - loss: 0.6732 - mae: 0.6732\n",
            "Epoch 69/100\n",
            "\u001b[1m1/1\u001b[0m \u001b[32m━━━━━━━━━━━━━━━━━━━━\u001b[0m\u001b[37m\u001b[0m \u001b[1m0s\u001b[0m 59ms/step - loss: 0.8744 - mae: 0.8744\n",
            "Epoch 70/100\n",
            "\u001b[1m1/1\u001b[0m \u001b[32m━━━━━━━━━━━━━━━━━━━━\u001b[0m\u001b[37m\u001b[0m \u001b[1m0s\u001b[0m 57ms/step - loss: 0.8549 - mae: 0.8549\n",
            "Epoch 71/100\n",
            "\u001b[1m1/1\u001b[0m \u001b[32m━━━━━━━━━━━━━━━━━━━━\u001b[0m\u001b[37m\u001b[0m \u001b[1m0s\u001b[0m 49ms/step - loss: 0.7408 - mae: 0.7408\n",
            "Epoch 72/100\n",
            "\u001b[1m1/1\u001b[0m \u001b[32m━━━━━━━━━━━━━━━━━━━━\u001b[0m\u001b[37m\u001b[0m \u001b[1m0s\u001b[0m 60ms/step - loss: 0.7347 - mae: 0.7347\n",
            "Epoch 73/100\n",
            "\u001b[1m1/1\u001b[0m \u001b[32m━━━━━━━━━━━━━━━━━━━━\u001b[0m\u001b[37m\u001b[0m \u001b[1m0s\u001b[0m 60ms/step - loss: 0.6386 - mae: 0.6386\n",
            "Epoch 74/100\n",
            "\u001b[1m1/1\u001b[0m \u001b[32m━━━━━━━━━━━━━━━━━━━━\u001b[0m\u001b[37m\u001b[0m \u001b[1m0s\u001b[0m 62ms/step - loss: 0.4768 - mae: 0.4768\n",
            "Epoch 75/100\n",
            "\u001b[1m1/1\u001b[0m \u001b[32m━━━━━━━━━━━━━━━━━━━━\u001b[0m\u001b[37m\u001b[0m \u001b[1m0s\u001b[0m 60ms/step - loss: 0.4015 - mae: 0.4015\n",
            "Epoch 76/100\n",
            "\u001b[1m1/1\u001b[0m \u001b[32m━━━━━━━━━━━━━━━━━━━━\u001b[0m\u001b[37m\u001b[0m \u001b[1m0s\u001b[0m 62ms/step - loss: 0.1885 - mae: 0.1885\n",
            "Epoch 77/100\n",
            "\u001b[1m1/1\u001b[0m \u001b[32m━━━━━━━━━━━━━━━━━━━━\u001b[0m\u001b[37m\u001b[0m \u001b[1m0s\u001b[0m 58ms/step - loss: 0.1708 - mae: 0.1708\n",
            "Epoch 78/100\n",
            "\u001b[1m1/1\u001b[0m \u001b[32m━━━━━━━━━━━━━━━━━━━━\u001b[0m\u001b[37m\u001b[0m \u001b[1m0s\u001b[0m 51ms/step - loss: 0.1682 - mae: 0.1682\n",
            "Epoch 79/100\n",
            "\u001b[1m1/1\u001b[0m \u001b[32m━━━━━━━━━━━━━━━━━━━━\u001b[0m\u001b[37m\u001b[0m \u001b[1m0s\u001b[0m 49ms/step - loss: 0.2585 - mae: 0.2585\n",
            "Epoch 80/100\n",
            "\u001b[1m1/1\u001b[0m \u001b[32m━━━━━━━━━━━━━━━━━━━━\u001b[0m\u001b[37m\u001b[0m \u001b[1m0s\u001b[0m 50ms/step - loss: 0.4002 - mae: 0.4002\n",
            "Epoch 81/100\n",
            "\u001b[1m1/1\u001b[0m \u001b[32m━━━━━━━━━━━━━━━━━━━━\u001b[0m\u001b[37m\u001b[0m \u001b[1m0s\u001b[0m 61ms/step - loss: 0.3883 - mae: 0.3883\n",
            "Epoch 82/100\n",
            "\u001b[1m1/1\u001b[0m \u001b[32m━━━━━━━━━━━━━━━━━━━━\u001b[0m\u001b[37m\u001b[0m \u001b[1m0s\u001b[0m 49ms/step - loss: 0.4656 - mae: 0.4656\n",
            "Epoch 83/100\n",
            "\u001b[1m1/1\u001b[0m \u001b[32m━━━━━━━━━━━━━━━━━━━━\u001b[0m\u001b[37m\u001b[0m \u001b[1m0s\u001b[0m 59ms/step - loss: 0.4598 - mae: 0.4598\n",
            "Epoch 84/100\n",
            "\u001b[1m1/1\u001b[0m \u001b[32m━━━━━━━━━━━━━━━━━━━━\u001b[0m\u001b[37m\u001b[0m \u001b[1m0s\u001b[0m 55ms/step - loss: 0.3023 - mae: 0.3023\n",
            "Epoch 85/100\n",
            "\u001b[1m1/1\u001b[0m \u001b[32m━━━━━━━━━━━━━━━━━━━━\u001b[0m\u001b[37m\u001b[0m \u001b[1m0s\u001b[0m 51ms/step - loss: 0.3997 - mae: 0.3997\n",
            "Epoch 86/100\n",
            "\u001b[1m1/1\u001b[0m \u001b[32m━━━━━━━━━━━━━━━━━━━━\u001b[0m\u001b[37m\u001b[0m \u001b[1m0s\u001b[0m 49ms/step - loss: 0.3628 - mae: 0.3628\n",
            "Epoch 87/100\n",
            "\u001b[1m1/1\u001b[0m \u001b[32m━━━━━━━━━━━━━━━━━━━━\u001b[0m\u001b[37m\u001b[0m \u001b[1m0s\u001b[0m 59ms/step - loss: 0.1208 - mae: 0.1208\n",
            "Epoch 88/100\n",
            "\u001b[1m1/1\u001b[0m \u001b[32m━━━━━━━━━━━━━━━━━━━━\u001b[0m\u001b[37m\u001b[0m \u001b[1m0s\u001b[0m 48ms/step - loss: 0.3753 - mae: 0.3753\n",
            "Epoch 89/100\n",
            "\u001b[1m1/1\u001b[0m \u001b[32m━━━━━━━━━━━━━━━━━━━━\u001b[0m\u001b[37m\u001b[0m \u001b[1m0s\u001b[0m 60ms/step - loss: 0.4940 - mae: 0.4940\n",
            "Epoch 90/100\n",
            "\u001b[1m1/1\u001b[0m \u001b[32m━━━━━━━━━━━━━━━━━━━━\u001b[0m\u001b[37m\u001b[0m \u001b[1m0s\u001b[0m 138ms/step - loss: 0.4034 - mae: 0.4034\n",
            "Epoch 91/100\n",
            "\u001b[1m1/1\u001b[0m \u001b[32m━━━━━━━━━━━━━━━━━━━━\u001b[0m\u001b[37m\u001b[0m \u001b[1m0s\u001b[0m 64ms/step - loss: 0.2624 - mae: 0.2624\n",
            "Epoch 92/100\n",
            "\u001b[1m1/1\u001b[0m \u001b[32m━━━━━━━━━━━━━━━━━━━━\u001b[0m\u001b[37m\u001b[0m \u001b[1m0s\u001b[0m 64ms/step - loss: 0.4182 - mae: 0.4182\n",
            "Epoch 93/100\n",
            "\u001b[1m1/1\u001b[0m \u001b[32m━━━━━━━━━━━━━━━━━━━━\u001b[0m\u001b[37m\u001b[0m \u001b[1m0s\u001b[0m 130ms/step - loss: 0.3190 - mae: 0.3190\n",
            "Epoch 94/100\n",
            "\u001b[1m1/1\u001b[0m \u001b[32m━━━━━━━━━━━━━━━━━━━━\u001b[0m\u001b[37m\u001b[0m \u001b[1m0s\u001b[0m 60ms/step - loss: 0.2695 - mae: 0.2695\n",
            "Epoch 95/100\n",
            "\u001b[1m1/1\u001b[0m \u001b[32m━━━━━━━━━━━━━━━━━━━━\u001b[0m\u001b[37m\u001b[0m \u001b[1m0s\u001b[0m 54ms/step - loss: 0.2950 - mae: 0.2950\n",
            "Epoch 96/100\n",
            "\u001b[1m1/1\u001b[0m \u001b[32m━━━━━━━━━━━━━━━━━━━━\u001b[0m\u001b[37m\u001b[0m \u001b[1m0s\u001b[0m 57ms/step - loss: 0.1271 - mae: 0.1271\n",
            "Epoch 97/100\n",
            "\u001b[1m1/1\u001b[0m \u001b[32m━━━━━━━━━━━━━━━━━━━━\u001b[0m\u001b[37m\u001b[0m \u001b[1m0s\u001b[0m 62ms/step - loss: 0.3052 - mae: 0.3052\n",
            "Epoch 98/100\n",
            "\u001b[1m1/1\u001b[0m \u001b[32m━━━━━━━━━━━━━━━━━━━━\u001b[0m\u001b[37m\u001b[0m \u001b[1m0s\u001b[0m 53ms/step - loss: 0.4000 - mae: 0.4000\n",
            "Epoch 99/100\n",
            "\u001b[1m1/1\u001b[0m \u001b[32m━━━━━━━━━━━━━━━━━━━━\u001b[0m\u001b[37m\u001b[0m \u001b[1m0s\u001b[0m 58ms/step - loss: 0.2856 - mae: 0.2856\n",
            "Epoch 100/100\n",
            "\u001b[1m1/1\u001b[0m \u001b[32m━━━━━━━━━━━━━━━━━━━━\u001b[0m\u001b[37m\u001b[0m \u001b[1m0s\u001b[0m 51ms/step - loss: 0.2548 - mae: 0.2548\n"
          ]
        },
        {
          "output_type": "execute_result",
          "data": {
            "text/plain": [
              "<keras.src.callbacks.history.History at 0x7baf3fffc350>"
            ]
          },
          "metadata": {},
          "execution_count": 27
        }
      ]
    },
    {
      "cell_type": "code",
      "source": [
        "model.predict(tf.expand_dims([17.0], axis=-1))"
      ],
      "metadata": {
        "colab": {
          "base_uri": "https://localhost:8080/"
        },
        "id": "Ftybb5TUAiHu",
        "outputId": "5f16ac63-1bb9-469b-a42d-2a5bda9cc2dd"
      },
      "execution_count": 28,
      "outputs": [
        {
          "output_type": "stream",
          "name": "stdout",
          "text": [
            "\u001b[1m1/1\u001b[0m \u001b[32m━━━━━━━━━━━━━━━━━━━━\u001b[0m\u001b[37m\u001b[0m \u001b[1m0s\u001b[0m 60ms/step\n"
          ]
        },
        {
          "output_type": "execute_result",
          "data": {
            "text/plain": [
              "array([[27.829226]], dtype=float32)"
            ]
          },
          "metadata": {},
          "execution_count": 28
        }
      ]
    },
    {
      "cell_type": "markdown",
      "source": [
        "## Evaluating a model\n",
        "\n",
        "In practice, a typical workflow you'll go through when building neural networks is:\n",
        "\n",
        "```\n",
        "Build a model -> fit it -> evaulate it -> tweak a model -> fit it -> evaluate it -> tweak a model -> fit it -> evaluate it ...\n",
        "\n",
        "```"
      ],
      "metadata": {
        "id": "dT5HCPLiAx1C"
      }
    },
    {
      "cell_type": "markdown",
      "source": [
        "When it comes to evaluation... there are 3 words you should memorize:\n",
        "\n",
        "> \"Visualize, visualize, visualize\"\n",
        "\n",
        "It's a good idea to visualize:\n",
        "* The data - What data are we working with? What does it look like?\n",
        "* The model itself - What does our model look like?\n",
        "* The training of a model - How does a model perform while it learns?\n",
        "* The predictions of the model - How do the predictions of a model line up  against the ground truth (the original labels)?"
      ],
      "metadata": {
        "id": "bbxF36uYZNmP"
      }
    },
    {
      "cell_type": "code",
      "source": [
        "# Make a bigger dataset\n",
        "X = tf.range(-100, 100, 4)\n",
        "X"
      ],
      "metadata": {
        "colab": {
          "base_uri": "https://localhost:8080/"
        },
        "id": "6kLwsHOXaNr_",
        "outputId": "5fac40a3-8612-4bd3-cd63-ad4eda84de89"
      },
      "execution_count": 29,
      "outputs": [
        {
          "output_type": "execute_result",
          "data": {
            "text/plain": [
              "<tf.Tensor: shape=(50,), dtype=int32, numpy=\n",
              "array([-100,  -96,  -92,  -88,  -84,  -80,  -76,  -72,  -68,  -64,  -60,\n",
              "        -56,  -52,  -48,  -44,  -40,  -36,  -32,  -28,  -24,  -20,  -16,\n",
              "        -12,   -8,   -4,    0,    4,    8,   12,   16,   20,   24,   28,\n",
              "         32,   36,   40,   44,   48,   52,   56,   60,   64,   68,   72,\n",
              "         76,   80,   84,   88,   92,   96], dtype=int32)>"
            ]
          },
          "metadata": {},
          "execution_count": 29
        }
      ]
    },
    {
      "cell_type": "code",
      "source": [
        "# Make labels for the dataset\n",
        "y = X + 10\n",
        "y"
      ],
      "metadata": {
        "colab": {
          "base_uri": "https://localhost:8080/"
        },
        "id": "Kq89brigaYjF",
        "outputId": "0e36bc46-548c-4dcc-a36b-01c990fae9ed"
      },
      "execution_count": 30,
      "outputs": [
        {
          "output_type": "execute_result",
          "data": {
            "text/plain": [
              "<tf.Tensor: shape=(50,), dtype=int32, numpy=\n",
              "array([-90, -86, -82, -78, -74, -70, -66, -62, -58, -54, -50, -46, -42,\n",
              "       -38, -34, -30, -26, -22, -18, -14, -10,  -6,  -2,   2,   6,  10,\n",
              "        14,  18,  22,  26,  30,  34,  38,  42,  46,  50,  54,  58,  62,\n",
              "        66,  70,  74,  78,  82,  86,  90,  94,  98, 102, 106], dtype=int32)>"
            ]
          },
          "metadata": {},
          "execution_count": 30
        }
      ]
    },
    {
      "cell_type": "code",
      "source": [
        "# Visualize the data\n",
        "import matplotlib.pyplot as plt\n",
        "# plt.plot(X, y)\n",
        "plt.scatter(X, y)"
      ],
      "metadata": {
        "colab": {
          "base_uri": "https://localhost:8080/",
          "height": 447
        },
        "id": "Uf1W9jnxao-b",
        "outputId": "2e64892c-4c8c-46f5-8cd4-44cd820be2b6"
      },
      "execution_count": 31,
      "outputs": [
        {
          "output_type": "execute_result",
          "data": {
            "text/plain": [
              "<matplotlib.collections.PathCollection at 0x7baf464803d0>"
            ]
          },
          "metadata": {},
          "execution_count": 31
        },
        {
          "output_type": "display_data",
          "data": {
            "text/plain": [
              "<Figure size 640x480 with 1 Axes>"
            ],
            "image/png": "[encoded data removed]"
          },
          "metadata": {}
        }
      ]
    },
    {
      "cell_type": "markdown",
      "source": [
        "### The 3 sets\n",
        "\n",
        "* **Training set** - the model learns from this data, which is typically 70-80% of the total data you have available.\n",
        "* **Validation set** - the model gets tuned on this data, which is typicaly 10-15% of the data available.\n",
        "* **Test set** - the model gets evaluated on this data to test what is learned, this set is typically 10-15% of the total data available."
      ],
      "metadata": {
        "id": "ia5jub8Fa9L0"
      }
    },
    {
      "cell_type": "markdown",
      "source": [
        "**Generalization:** The ability for a machine learning model to perform well on data it hasn't seen before."
      ],
      "metadata": {
        "id": "ruMrFE7VcFAz"
      }
    },
    {
      "cell_type": "code",
      "source": [
        "# Check the length of how many samples we have\n",
        "len(X)"
      ],
      "metadata": {
        "colab": {
          "base_uri": "https://localhost:8080/"
        },
        "id": "W8sBzPJHccnU",
        "outputId": "f4fb9f47-79cf-4b6a-f394-e4653b2eb821"
      },
      "execution_count": 32,
      "outputs": [
        {
          "output_type": "execute_result",
          "data": {
            "text/plain": [
              "50"
            ]
          },
          "metadata": {},
          "execution_count": 32
        }
      ]
    },
    {
      "cell_type": "code",
      "source": [
        "# Split the data into train and test sets\n",
        "X_train = X[:40] # first 40 are taining samples (80% of the data)\n",
        "y_train = y[:40]\n",
        "\n",
        "X_test = X[40:] # last 10 are testing samples (20% of the data)\n",
        "y_test = y[40:]\n",
        "\n",
        "len(X_train), len(X_test), len(y_train), len(y_test)"
      ],
      "metadata": {
        "colab": {
          "base_uri": "https://localhost:8080/"
        },
        "id": "izDOpBL8c6pA",
        "outputId": "a20663d7-1a60-436d-b636-9f32a34bd69e"
      },
      "execution_count": 33,
      "outputs": [
        {
          "output_type": "execute_result",
          "data": {
            "text/plain": [
              "(40, 10, 40, 10)"
            ]
          },
          "metadata": {},
          "execution_count": 33
        }
      ]
    },
    {
      "cell_type": "markdown",
      "source": [
        "### Visualizing the data\n",
        "Now we've got our data in training and test sets... let's visualize it again!"
      ],
      "metadata": {
        "id": "zM1tbOHAdhGe"
      }
    },
    {
      "cell_type": "code",
      "source": [
        "plt.figure(figsize=(10, 7))\n",
        "# Plot training data in blue\n",
        "plt.scatter(X_train, y_train, c=\"b\", label=\"Training data\")\n",
        "# Plot test data in greem\n",
        "plt.scatter(X_test, y_test, c=\"g\", label=\"Testing data\")\n",
        "# Show a legend\n",
        "plt.legend()"
      ],
      "metadata": {
        "colab": {
          "base_uri": "https://localhost:8080/",
          "height": 616
        },
        "id": "sUN0_Mdrdu39",
        "outputId": "ddf97b75-d731-4c4b-9887-8e387fbd84e3"
      },
      "execution_count": 34,
      "outputs": [
        {
          "output_type": "execute_result",
          "data": {
            "text/plain": [
              "<matplotlib.legend.Legend at 0x7baf3f78fb90>"
            ]
          },
          "metadata": {},
          "execution_count": 34
        },
        {
          "output_type": "display_data",
          "data": {
            "text/plain": [
              "<Figure size 1000x700 with 1 Axes>"
            ],
            "image/png": "[encoded data removed]"
          },
          "metadata": {}
        }
      ]
    },
    {
      "cell_type": "code",
      "source": [
        "# Let's have a look a at how to build a neural network for our data\n",
        "\n",
        "# 1. Create a model\n",
        "model = tf.keras.Sequential([\n",
        "    tf.keras.layers.Dense(1)\n",
        "])\n",
        "\n",
        "# 2. Compile the model\n",
        "model.compile(loss=tf.keras.losses.mae,\n",
        "              optimizer=tf.keras.optimizers.SGD(),\n",
        "              metrics=[\"mae\"])\n",
        "\n",
        "# 3. Fit the model\n",
        "# model.fit(tf.expand_dims(X_train, axis=-1), y_train, epochs=100)"
      ],
      "metadata": {
        "id": "enGg-bDRhDwi"
      },
      "execution_count": 35,
      "outputs": []
    },
    {
      "cell_type": "markdown",
      "source": [
        "### Visualizing the model"
      ],
      "metadata": {
        "id": "_2fonTHMh6U5"
      }
    },
    {
      "cell_type": "code",
      "source": [
        "model.summary()"
      ],
      "metadata": {
        "colab": {
          "base_uri": "https://localhost:8080/",
          "height": 170
        },
        "id": "BCkG-_h2iCkg",
        "outputId": "fee37922-1634-4e86-fc30-3acd64b8bca5"
      },
      "execution_count": 36,
      "outputs": [
        {
          "output_type": "display_data",
          "data": {
            "text/plain": [
              "\u001b[1mModel: \"sequential_7\"\u001b[0m\n"
            ],
            "text/html": [
              "<pre style=\"white-space:pre;overflow-x:auto;line-height:normal;font-family:Menlo,'DejaVu Sans Mono',consolas,'Courier New',monospace\"><span style=\"font-weight: bold\">Model: \"sequential_7\"</span>\n",
              "</pre>\n"
            ]
          },
          "metadata": {}
        },
        {
          "output_type": "display_data",
          "data": {
            "text/plain": [
              "┏━━━━━━━━━━━━━━━━━━━━━━━━━━━━━━━━━━━━━━┳━━━━━━━━━━━━━━━━━━━━━━━━━━━━━┳━━━━━━━━━━━━━━━━━┓\n",
              "┃\u001b[1m \u001b[0m\u001b[1mLayer (type)                        \u001b[0m\u001b[1m \u001b[0m┃\u001b[1m \u001b[0m\u001b[1mOutput Shape               \u001b[0m\u001b[1m \u001b[0m┃\u001b[1m \u001b[0m\u001b[1m        Param #\u001b[0m\u001b[1m \u001b[0m┃\n",
              "┡━━━━━━━━━━━━━━━━━━━━━━━━━━━━━━━━━━━━━━╇━━━━━━━━━━━━━━━━━━━━━━━━━━━━━╇━━━━━━━━━━━━━━━━━┩\n",
              "│ dense_12 (\u001b[38;5;33mDense\u001b[0m)                     │ ?                           │     \u001b[38;5;34m0\u001b[0m (unbuilt) │\n",
              "└──────────────────────────────────────┴─────────────────────────────┴─────────────────┘\n"
            ],
            "text/html": [
              "<pre style=\"white-space:pre;overflow-x:auto;line-height:normal;font-family:Menlo,'DejaVu Sans Mono',consolas,'Courier New',monospace\">┏━━━━━━━━━━━━━━━━━━━━━━━━━━━━━━━━━━━━━━┳━━━━━━━━━━━━━━━━━━━━━━━━━━━━━┳━━━━━━━━━━━━━━━━━┓\n",
              "┃<span style=\"font-weight: bold\"> Layer (type)                         </span>┃<span style=\"font-weight: bold\"> Output Shape                </span>┃<span style=\"font-weight: bold\">         Param # </span>┃\n",
              "┡━━━━━━━━━━━━━━━━━━━━━━━━━━━━━━━━━━━━━━╇━━━━━━━━━━━━━━━━━━━━━━━━━━━━━╇━━━━━━━━━━━━━━━━━┩\n",
              "│ dense_12 (<span style=\"color: #0087ff; text-decoration-color: #0087ff\">Dense</span>)                     │ ?                           │     <span style=\"color: #00af00; text-decoration-color: #00af00\">0</span> (unbuilt) │\n",
              "└──────────────────────────────────────┴─────────────────────────────┴─────────────────┘\n",
              "</pre>\n"
            ]
          },
          "metadata": {}
        },
        {
          "output_type": "display_data",
          "data": {
            "text/plain": [
              "\u001b[1m Total params: \u001b[0m\u001b[38;5;34m0\u001b[0m (0.00 B)\n"
            ],
            "text/html": [
              "<pre style=\"white-space:pre;overflow-x:auto;line-height:normal;font-family:Menlo,'DejaVu Sans Mono',consolas,'Courier New',monospace\"><span style=\"font-weight: bold\"> Total params: </span><span style=\"color: #00af00; text-decoration-color: #00af00\">0</span> (0.00 B)\n",
              "</pre>\n"
            ]
          },
          "metadata": {}
        },
        {
          "output_type": "display_data",
          "data": {
            "text/plain": [
              "\u001b[1m Trainable params: \u001b[0m\u001b[38;5;34m0\u001b[0m (0.00 B)\n"
            ],
            "text/html": [
              "<pre style=\"white-space:pre;overflow-x:auto;line-height:normal;font-family:Menlo,'DejaVu Sans Mono',consolas,'Courier New',monospace\"><span style=\"font-weight: bold\"> Trainable params: </span><span style=\"color: #00af00; text-decoration-color: #00af00\">0</span> (0.00 B)\n",
              "</pre>\n"
            ]
          },
          "metadata": {}
        },
        {
          "output_type": "display_data",
          "data": {
            "text/plain": [
              "\u001b[1m Non-trainable params: \u001b[0m\u001b[38;5;34m0\u001b[0m (0.00 B)\n"
            ],
            "text/html": [
              "<pre style=\"white-space:pre;overflow-x:auto;line-height:normal;font-family:Menlo,'DejaVu Sans Mono',consolas,'Courier New',monospace\"><span style=\"font-weight: bold\"> Non-trainable params: </span><span style=\"color: #00af00; text-decoration-color: #00af00\">0</span> (0.00 B)\n",
              "</pre>\n"
            ]
          },
          "metadata": {}
        }
      ]
    },
    {
      "cell_type": "code",
      "source": [
        "# Let's create a model which build automatically by definin gthe input_shape argument\n",
        "tf.random.set_seed(42)\n",
        "\n",
        "# 1. Create a model (same as above)\n",
        "model = tf.keras.Sequential ([\n",
        "    tf.keras.layers.Dense(1, name=\"output_layer\")\n",
        "], name=\"model_1\")\n",
        "\n",
        "# 2. Compile the model (same as above)\n",
        "model.compile(loss=tf.keras.losses.mae,\n",
        "              optimizer=tf.keras.optimizers.SGD(),\n",
        "              metrics=[\"mae\"])"
      ],
      "metadata": {
        "id": "Uf7RN0Y_jJPP"
      },
      "execution_count": 62,
      "outputs": []
    },
    {
      "cell_type": "code",
      "source": [
        "model.summary()"
      ],
      "metadata": {
        "colab": {
          "base_uri": "https://localhost:8080/",
          "height": 204
        },
        "id": "tJqUeshFj6QX",
        "outputId": "6073b84b-f065-416b-ec2d-171f31e15de4"
      },
      "execution_count": 38,
      "outputs": [
        {
          "output_type": "display_data",
          "data": {
            "text/plain": [
              "\u001b[1mModel: \"model_1\"\u001b[0m\n"
            ],
            "text/html": [
              "<pre style=\"white-space:pre;overflow-x:auto;line-height:normal;font-family:Menlo,'DejaVu Sans Mono',consolas,'Courier New',monospace\"><span style=\"font-weight: bold\">Model: \"model_1\"</span>\n",
              "</pre>\n"
            ]
          },
          "metadata": {}
        },
        {
          "output_type": "display_data",
          "data": {
            "text/plain": [
              "┏━━━━━━━━━━━━━━━━━━━━━━━━━━━━━━━━━━━━━━┳━━━━━━━━━━━━━━━━━━━━━━━━━━━━━┳━━━━━━━━━━━━━━━━━┓\n",
              "┃\u001b[1m \u001b[0m\u001b[1mLayer (type)                        \u001b[0m\u001b[1m \u001b[0m┃\u001b[1m \u001b[0m\u001b[1mOutput Shape               \u001b[0m\u001b[1m \u001b[0m┃\u001b[1m \u001b[0m\u001b[1m        Param #\u001b[0m\u001b[1m \u001b[0m┃\n",
              "┡━━━━━━━━━━━━━━━━━━━━━━━━━━━━━━━━━━━━━━╇━━━━━━━━━━━━━━━━━━━━━━━━━━━━━╇━━━━━━━━━━━━━━━━━┩\n",
              "│ input_layer (\u001b[38;5;33mDense\u001b[0m)                  │ (\u001b[38;5;45mNone\u001b[0m, \u001b[38;5;34m10\u001b[0m)                  │              \u001b[38;5;34m20\u001b[0m │\n",
              "├──────────────────────────────────────┼─────────────────────────────┼─────────────────┤\n",
              "│ output_layer (\u001b[38;5;33mDense\u001b[0m)                 │ (\u001b[38;5;45mNone\u001b[0m, \u001b[38;5;34m1\u001b[0m)                   │              \u001b[38;5;34m11\u001b[0m │\n",
              "└──────────────────────────────────────┴─────────────────────────────┴─────────────────┘\n"
            ],
            "text/html": [
              "<pre style=\"white-space:pre;overflow-x:auto;line-height:normal;font-family:Menlo,'DejaVu Sans Mono',consolas,'Courier New',monospace\">┏━━━━━━━━━━━━━━━━━━━━━━━━━━━━━━━━━━━━━━┳━━━━━━━━━━━━━━━━━━━━━━━━━━━━━┳━━━━━━━━━━━━━━━━━┓\n",
              "┃<span style=\"font-weight: bold\"> Layer (type)                         </span>┃<span style=\"font-weight: bold\"> Output Shape                </span>┃<span style=\"font-weight: bold\">         Param # </span>┃\n",
              "┡━━━━━━━━━━━━━━━━━━━━━━━━━━━━━━━━━━━━━━╇━━━━━━━━━━━━━━━━━━━━━━━━━━━━━╇━━━━━━━━━━━━━━━━━┩\n",
              "│ input_layer (<span style=\"color: #0087ff; text-decoration-color: #0087ff\">Dense</span>)                  │ (<span style=\"color: #00d7ff; text-decoration-color: #00d7ff\">None</span>, <span style=\"color: #00af00; text-decoration-color: #00af00\">10</span>)                  │              <span style=\"color: #00af00; text-decoration-color: #00af00\">20</span> │\n",
              "├──────────────────────────────────────┼─────────────────────────────┼─────────────────┤\n",
              "│ output_layer (<span style=\"color: #0087ff; text-decoration-color: #0087ff\">Dense</span>)                 │ (<span style=\"color: #00d7ff; text-decoration-color: #00d7ff\">None</span>, <span style=\"color: #00af00; text-decoration-color: #00af00\">1</span>)                   │              <span style=\"color: #00af00; text-decoration-color: #00af00\">11</span> │\n",
              "└──────────────────────────────────────┴─────────────────────────────┴─────────────────┘\n",
              "</pre>\n"
            ]
          },
          "metadata": {}
        },
        {
          "output_type": "display_data",
          "data": {
            "text/plain": [
              "\u001b[1m Total params: \u001b[0m\u001b[38;5;34m31\u001b[0m (124.00 B)\n"
            ],
            "text/html": [
              "<pre style=\"white-space:pre;overflow-x:auto;line-height:normal;font-family:Menlo,'DejaVu Sans Mono',consolas,'Courier New',monospace\"><span style=\"font-weight: bold\"> Total params: </span><span style=\"color: #00af00; text-decoration-color: #00af00\">31</span> (124.00 B)\n",
              "</pre>\n"
            ]
          },
          "metadata": {}
        },
        {
          "output_type": "display_data",
          "data": {
            "text/plain": [
              "\u001b[1m Trainable params: \u001b[0m\u001b[38;5;34m31\u001b[0m (124.00 B)\n"
            ],
            "text/html": [
              "<pre style=\"white-space:pre;overflow-x:auto;line-height:normal;font-family:Menlo,'DejaVu Sans Mono',consolas,'Courier New',monospace\"><span style=\"font-weight: bold\"> Trainable params: </span><span style=\"color: #00af00; text-decoration-color: #00af00\">31</span> (124.00 B)\n",
              "</pre>\n"
            ]
          },
          "metadata": {}
        },
        {
          "output_type": "display_data",
          "data": {
            "text/plain": [
              "\u001b[1m Non-trainable params: \u001b[0m\u001b[38;5;34m0\u001b[0m (0.00 B)\n"
            ],
            "text/html": [
              "<pre style=\"white-space:pre;overflow-x:auto;line-height:normal;font-family:Menlo,'DejaVu Sans Mono',consolas,'Courier New',monospace\"><span style=\"font-weight: bold\"> Non-trainable params: </span><span style=\"color: #00af00; text-decoration-color: #00af00\">0</span> (0.00 B)\n",
              "</pre>\n"
            ]
          },
          "metadata": {}
        }
      ]
    },
    {
      "cell_type": "markdown",
      "source": [
        "* Total params - total number of parameters in the model\n",
        "* Trainable params - these are the parameters (patterns) the model can update as it trains.\n",
        "* Non-trainable params - these parameters aren't updated during training (this is typical when you bring in already learn patterns or parameters from other models during **transfer learning**)."
      ],
      "metadata": {
        "id": "bOqrzxVKkRLj"
      }
    },
    {
      "cell_type": "code",
      "source": [
        "# Let's fit our model to the training data\n",
        "model.fit(tf.expand_dims(X_train, axis=-1), y_train, epochs=100, verbose=1)"
      ],
      "metadata": {
        "colab": {
          "base_uri": "https://localhost:8080/"
        },
        "id": "AzhFVHq6mvtH",
        "outputId": "7fe577c6-da32-4c2a-a2b2-8d7ec03e4df1"
      },
      "execution_count": 63,
      "outputs": [
        {
          "output_type": "stream",
          "name": "stdout",
          "text": [
            "Epoch 1/100\n",
            "\u001b[1m2/2\u001b[0m \u001b[32m━━━━━━━━━━━━━━━━━━━━\u001b[0m\u001b[37m\u001b[0m \u001b[1m1s\u001b[0m 29ms/step - loss: 56.0414 - mae: 56.0414 \n",
            "Epoch 2/100\n",
            "\u001b[1m2/2\u001b[0m \u001b[32m━━━━━━━━━━━━━━━━━━━━\u001b[0m\u001b[37m\u001b[0m \u001b[1m0s\u001b[0m 26ms/step - loss: 21.7494 - mae: 21.7494\n",
            "Epoch 3/100\n",
            "\u001b[1m2/2\u001b[0m \u001b[32m━━━━━━━━━━━━━━━━━━━━\u001b[0m\u001b[37m\u001b[0m \u001b[1m0s\u001b[0m 25ms/step - loss: 10.3400 - mae: 10.3400\n",
            "Epoch 4/100\n",
            "\u001b[1m2/2\u001b[0m \u001b[32m━━━━━━━━━━━━━━━━━━━━\u001b[0m\u001b[37m\u001b[0m \u001b[1m0s\u001b[0m 25ms/step - loss: 12.1385 - mae: 12.1385\n",
            "Epoch 5/100\n",
            "\u001b[1m2/2\u001b[0m \u001b[32m━━━━━━━━━━━━━━━━━━━━\u001b[0m\u001b[37m\u001b[0m \u001b[1m0s\u001b[0m 26ms/step - loss: 12.5909 - mae: 12.5909\n",
            "Epoch 6/100\n",
            "\u001b[1m2/2\u001b[0m \u001b[32m━━━━━━━━━━━━━━━━━━━━\u001b[0m\u001b[37m\u001b[0m \u001b[1m0s\u001b[0m 26ms/step - loss: 8.0430 - mae: 8.0430\n",
            "Epoch 7/100\n",
            "\u001b[1m2/2\u001b[0m \u001b[32m━━━━━━━━━━━━━━━━━━━━\u001b[0m\u001b[37m\u001b[0m \u001b[1m0s\u001b[0m 31ms/step - loss: 9.7560 - mae: 9.7560\n",
            "Epoch 8/100\n",
            "\u001b[1m2/2\u001b[0m \u001b[32m━━━━━━━━━━━━━━━━━━━━\u001b[0m\u001b[37m\u001b[0m \u001b[1m0s\u001b[0m 25ms/step - loss: 8.0252 - mae: 8.0252 \n",
            "Epoch 9/100\n",
            "\u001b[1m2/2\u001b[0m \u001b[32m━━━━━━━━━━━━━━━━━━━━\u001b[0m\u001b[37m\u001b[0m \u001b[1m0s\u001b[0m 31ms/step - loss: 9.7443 - mae: 9.7443\n",
            "Epoch 10/100\n",
            "\u001b[1m2/2\u001b[0m \u001b[32m━━━━━━━━━━━━━━━━━━━━\u001b[0m\u001b[37m\u001b[0m \u001b[1m0s\u001b[0m 26ms/step - loss: 8.0073 - mae: 8.0073\n",
            "Epoch 11/100\n",
            "\u001b[1m2/2\u001b[0m \u001b[32m━━━━━━━━━━━━━━━━━━━━\u001b[0m\u001b[37m\u001b[0m \u001b[1m0s\u001b[0m 27ms/step - loss: 9.7327 - mae: 9.7327\n",
            "Epoch 12/100\n",
            "\u001b[1m2/2\u001b[0m \u001b[32m━━━━━━━━━━━━━━━━━━━━\u001b[0m\u001b[37m\u001b[0m \u001b[1m0s\u001b[0m 37ms/step - loss: 8.1147 - mae: 8.1147\n",
            "Epoch 13/100\n",
            "\u001b[1m2/2\u001b[0m \u001b[32m━━━━━━━━━━━━━━━━━━━━\u001b[0m\u001b[37m\u001b[0m \u001b[1m0s\u001b[0m 26ms/step - loss: 8.6581 - mae: 8.6581\n",
            "Epoch 14/100\n",
            "\u001b[1m2/2\u001b[0m \u001b[32m━━━━━━━━━━━━━━━━━━━━\u001b[0m\u001b[37m\u001b[0m \u001b[1m0s\u001b[0m 28ms/step - loss: 8.5248 - mae: 8.5248\n",
            "Epoch 15/100\n",
            "\u001b[1m2/2\u001b[0m \u001b[32m━━━━━━━━━━━━━━━━━━━━\u001b[0m\u001b[37m\u001b[0m \u001b[1m0s\u001b[0m 26ms/step - loss: 8.2929 - mae: 8.2929\n",
            "Epoch 16/100\n",
            "\u001b[1m2/2\u001b[0m \u001b[32m━━━━━━━━━━━━━━━━━━━━\u001b[0m\u001b[37m\u001b[0m \u001b[1m0s\u001b[0m 25ms/step - loss: 9.0359 - mae: 9.0359\n",
            "Epoch 17/100\n",
            "\u001b[1m2/2\u001b[0m \u001b[32m━━━━━━━━━━━━━━━━━━━━\u001b[0m\u001b[37m\u001b[0m \u001b[1m0s\u001b[0m 26ms/step - loss: 8.1074 - mae: 8.1074\n",
            "Epoch 18/100\n",
            "\u001b[1m2/2\u001b[0m \u001b[32m━━━━━━━━━━━━━━━━━━━━\u001b[0m\u001b[37m\u001b[0m \u001b[1m0s\u001b[0m 27ms/step - loss: 8.7750 - mae: 8.7750\n",
            "Epoch 19/100\n",
            "\u001b[1m2/2\u001b[0m \u001b[32m━━━━━━━━━━━━━━━━━━━━\u001b[0m\u001b[37m\u001b[0m \u001b[1m0s\u001b[0m 33ms/step - loss: 7.6976 - mae: 7.6976\n",
            "Epoch 20/100\n",
            "\u001b[1m2/2\u001b[0m \u001b[32m━━━━━━━━━━━━━━━━━━━━\u001b[0m\u001b[37m\u001b[0m \u001b[1m0s\u001b[0m 26ms/step - loss: 10.7123 - mae: 10.7123\n",
            "Epoch 21/100\n",
            "\u001b[1m2/2\u001b[0m \u001b[32m━━━━━━━━━━━━━━━━━━━━\u001b[0m\u001b[37m\u001b[0m \u001b[1m0s\u001b[0m 27ms/step - loss: 7.4963 - mae: 7.4963\n",
            "Epoch 22/100\n",
            "\u001b[1m2/2\u001b[0m \u001b[32m━━━━━━━━━━━━━━━━━━━━\u001b[0m\u001b[37m\u001b[0m \u001b[1m0s\u001b[0m 26ms/step - loss: 11.8928 - mae: 11.8928\n",
            "Epoch 23/100\n",
            "\u001b[1m2/2\u001b[0m \u001b[32m━━━━━━━━━━━━━━━━━━━━\u001b[0m\u001b[37m\u001b[0m \u001b[1m0s\u001b[0m 32ms/step - loss: 8.0254 - mae: 8.0254\n",
            "Epoch 24/100\n",
            "\u001b[1m2/2\u001b[0m \u001b[32m━━━━━━━━━━━━━━━━━━━━\u001b[0m\u001b[37m\u001b[0m \u001b[1m0s\u001b[0m 34ms/step - loss: 8.6865 - mae: 8.6865\n",
            "Epoch 25/100\n",
            "\u001b[1m2/2\u001b[0m \u001b[32m━━━━━━━━━━━━━━━━━━━━\u001b[0m\u001b[37m\u001b[0m \u001b[1m0s\u001b[0m 26ms/step - loss: 7.6254 - mae: 7.6254\n",
            "Epoch 26/100\n",
            "\u001b[1m2/2\u001b[0m \u001b[32m━━━━━━━━━━━━━━━━━━━━\u001b[0m\u001b[37m\u001b[0m \u001b[1m0s\u001b[0m 26ms/step - loss: 10.6197 - mae: 10.6197\n",
            "Epoch 27/100\n",
            "\u001b[1m2/2\u001b[0m \u001b[32m━━━━━━━━━━━━━━━━━━━━\u001b[0m\u001b[37m\u001b[0m \u001b[1m0s\u001b[0m 27ms/step - loss: 7.4297 - mae: 7.4297\n",
            "Epoch 28/100\n",
            "\u001b[1m2/2\u001b[0m \u001b[32m━━━━━━━━━━━━━━━━━━━━\u001b[0m\u001b[37m\u001b[0m \u001b[1m0s\u001b[0m 28ms/step - loss: 11.7999 - mae: 11.7999\n",
            "Epoch 29/100\n",
            "\u001b[1m2/2\u001b[0m \u001b[32m━━━━━━━━━━━━━━━━━━━━\u001b[0m\u001b[37m\u001b[0m \u001b[1m0s\u001b[0m 37ms/step - loss: 7.9434 - mae: 7.9434\n",
            "Epoch 30/100\n",
            "\u001b[1m2/2\u001b[0m \u001b[32m━━━━━━━━━━━━━━━━━━━━\u001b[0m\u001b[37m\u001b[0m \u001b[1m0s\u001b[0m 25ms/step - loss: 8.5980 - mae: 8.5980\n",
            "Epoch 31/100\n",
            "\u001b[1m2/2\u001b[0m \u001b[32m━━━━━━━━━━━━━━━━━━━━\u001b[0m\u001b[37m\u001b[0m \u001b[1m0s\u001b[0m 25ms/step - loss: 7.5531 - mae: 7.5531\n",
            "Epoch 32/100\n",
            "\u001b[1m2/2\u001b[0m \u001b[32m━━━━━━━━━━━━━━━━━━━━\u001b[0m\u001b[37m\u001b[0m \u001b[1m0s\u001b[0m 25ms/step - loss: 10.5272 - mae: 10.5272\n",
            "Epoch 33/100\n",
            "\u001b[1m2/2\u001b[0m \u001b[32m━━━━━━━━━━━━━━━━━━━━\u001b[0m\u001b[37m\u001b[0m \u001b[1m0s\u001b[0m 25ms/step - loss: 7.3631 - mae: 7.3631\n",
            "Epoch 34/100\n",
            "\u001b[1m2/2\u001b[0m \u001b[32m━━━━━━━━━━━━━━━━━━━━\u001b[0m\u001b[37m\u001b[0m \u001b[1m0s\u001b[0m 27ms/step - loss: 11.7071 - mae: 11.7071\n",
            "Epoch 35/100\n",
            "\u001b[1m2/2\u001b[0m \u001b[32m━━━━━━━━━━━━━━━━━━━━\u001b[0m\u001b[37m\u001b[0m \u001b[1m0s\u001b[0m 25ms/step - loss: 7.7369 - mae: 7.7369\n",
            "Epoch 36/100\n",
            "\u001b[1m2/2\u001b[0m \u001b[32m━━━━━━━━━━━━━━━━━━━━\u001b[0m\u001b[37m\u001b[0m \u001b[1m0s\u001b[0m 26ms/step - loss: 9.4767 - mae: 9.4767\n",
            "Epoch 37/100\n",
            "\u001b[1m2/2\u001b[0m \u001b[32m━━━━━━━━━━━━━━━━━━━━\u001b[0m\u001b[37m\u001b[0m \u001b[1m0s\u001b[0m 26ms/step - loss: 7.8451 - mae: 7.8451\n",
            "Epoch 38/100\n",
            "\u001b[1m2/2\u001b[0m \u001b[32m━━━━━━━━━━━━━━━━━━━━\u001b[0m\u001b[37m\u001b[0m \u001b[1m0s\u001b[0m 26ms/step - loss: 8.4963 - mae: 8.4963\n",
            "Epoch 39/100\n",
            "\u001b[1m2/2\u001b[0m \u001b[32m━━━━━━━━━━━━━━━━━━━━\u001b[0m\u001b[37m\u001b[0m \u001b[1m0s\u001b[0m 28ms/step - loss: 7.4615 - mae: 7.4615\n",
            "Epoch 40/100\n",
            "\u001b[1m2/2\u001b[0m \u001b[32m━━━━━━━━━━━━━━━━━━━━\u001b[0m\u001b[37m\u001b[0m \u001b[1m0s\u001b[0m 33ms/step - loss: 10.4261 - mae: 10.4261\n",
            "Epoch 41/100\n",
            "\u001b[1m2/2\u001b[0m \u001b[32m━━━━━━━━━━━━━━━━━━━━\u001b[0m\u001b[37m\u001b[0m \u001b[1m0s\u001b[0m 31ms/step - loss: 7.2756 - mae: 7.2756\n",
            "Epoch 42/100\n",
            "\u001b[1m2/2\u001b[0m \u001b[32m━━━━━━━━━━━━━━━━━━━━\u001b[0m\u001b[37m\u001b[0m \u001b[1m0s\u001b[0m 26ms/step - loss: 11.6073 - mae: 11.6073 \n",
            "Epoch 43/100\n",
            "\u001b[1m2/2\u001b[0m \u001b[32m━━━━━━━━━━━━━━━━━━━━\u001b[0m\u001b[37m\u001b[0m \u001b[1m0s\u001b[0m 29ms/step - loss: 7.6417 - mae: 7.6417\n",
            "Epoch 44/100\n",
            "\u001b[1m2/2\u001b[0m \u001b[32m━━━━━━━━━━━━━━━━━━━━\u001b[0m\u001b[37m\u001b[0m \u001b[1m0s\u001b[0m 26ms/step - loss: 9.3746 - mae: 9.3746\n",
            "Epoch 45/100\n",
            "\u001b[1m2/2\u001b[0m \u001b[32m━━━━━━━━━━━━━━━━━━━━\u001b[0m\u001b[37m\u001b[0m \u001b[1m0s\u001b[0m 41ms/step - loss: 7.6238 - mae: 7.6238\n",
            "Epoch 46/100\n",
            "\u001b[1m2/2\u001b[0m \u001b[32m━━━━━━━━━━━━━━━━━━━━\u001b[0m\u001b[37m\u001b[0m \u001b[1m0s\u001b[0m 26ms/step - loss: 9.3630 - mae: 9.3630\n",
            "Epoch 47/100\n",
            "\u001b[1m2/2\u001b[0m \u001b[32m━━━━━━━━━━━━━━━━━━━━\u001b[0m\u001b[37m\u001b[0m \u001b[1m0s\u001b[0m 26ms/step - loss: 7.6060 - mae: 7.6060\n",
            "Epoch 48/100\n",
            "\u001b[1m2/2\u001b[0m \u001b[32m━━━━━━━━━━━━━━━━━━━━\u001b[0m\u001b[37m\u001b[0m \u001b[1m0s\u001b[0m 26ms/step - loss: 9.3514 - mae: 9.3514\n",
            "Epoch 49/100\n",
            "\u001b[1m2/2\u001b[0m \u001b[32m━━━━━━━━━━━━━━━━━━━━\u001b[0m\u001b[37m\u001b[0m \u001b[1m0s\u001b[0m 26ms/step - loss: 7.7143 - mae: 7.7143\n",
            "Epoch 50/100\n",
            "\u001b[1m2/2\u001b[0m \u001b[32m━━━━━━━━━━━━━━━━━━━━\u001b[0m\u001b[37m\u001b[0m \u001b[1m0s\u001b[0m 27ms/step - loss: 8.3683 - mae: 8.3683\n",
            "Epoch 51/100\n",
            "\u001b[1m2/2\u001b[0m \u001b[32m━━━━━━━━━━━━━━━━━━━━\u001b[0m\u001b[37m\u001b[0m \u001b[1m0s\u001b[0m 28ms/step - loss: 7.3310 - mae: 7.3310\n",
            "Epoch 52/100\n",
            "\u001b[1m2/2\u001b[0m \u001b[32m━━━━━━━━━━━━━━━━━━━━\u001b[0m\u001b[37m\u001b[0m \u001b[1m0s\u001b[0m 26ms/step - loss: 10.3080 - mae: 10.3080\n",
            "Epoch 53/100\n",
            "\u001b[1m2/2\u001b[0m \u001b[32m━━━━━━━━━━━━━━━━━━━━\u001b[0m\u001b[37m\u001b[0m \u001b[1m0s\u001b[0m 36ms/step - loss: 7.1461 - mae: 7.1461\n",
            "Epoch 54/100\n",
            "\u001b[1m2/2\u001b[0m \u001b[32m━━━━━━━━━━━━━━━━━━━━\u001b[0m\u001b[37m\u001b[0m \u001b[1m0s\u001b[0m 34ms/step - loss: 11.4936 - mae: 11.4936\n",
            "Epoch 55/100\n",
            "\u001b[1m2/2\u001b[0m \u001b[32m━━━━━━━━━━━━━━━━━━━━\u001b[0m\u001b[37m\u001b[0m \u001b[1m0s\u001b[0m 28ms/step - loss: 7.5107 - mae: 7.5107 \n",
            "Epoch 56/100\n",
            "\u001b[1m2/2\u001b[0m \u001b[32m━━━━━━━━━━━━━━━━━━━━\u001b[0m\u001b[37m\u001b[0m \u001b[1m0s\u001b[0m 28ms/step - loss: 9.2494 - mae: 9.2494\n",
            "Epoch 57/100\n",
            "\u001b[1m2/2\u001b[0m \u001b[32m━━━━━━━━━━━━━━━━━━━━\u001b[0m\u001b[37m\u001b[0m \u001b[1m0s\u001b[0m 28ms/step - loss: 7.4929 - mae: 7.4929\n",
            "Epoch 58/100\n",
            "\u001b[1m2/2\u001b[0m \u001b[32m━━━━━━━━━━━━━━━━━━━━\u001b[0m\u001b[37m\u001b[0m \u001b[1m0s\u001b[0m 30ms/step - loss: 9.2378 - mae: 9.2378\n",
            "Epoch 59/100\n",
            "\u001b[1m2/2\u001b[0m \u001b[32m━━━━━━━━━━━━━━━━━━━━\u001b[0m\u001b[37m\u001b[0m \u001b[1m0s\u001b[0m 36ms/step - loss: 7.4750 - mae: 7.4750\n",
            "Epoch 60/100\n",
            "\u001b[1m2/2\u001b[0m \u001b[32m━━━━━━━━━━━━━━━━━━━━\u001b[0m\u001b[37m\u001b[0m \u001b[1m0s\u001b[0m 29ms/step - loss: 9.2261 - mae: 9.2261\n",
            "Epoch 61/100\n",
            "\u001b[1m2/2\u001b[0m \u001b[32m━━━━━━━━━━━━━━━━━━━━\u001b[0m\u001b[37m\u001b[0m \u001b[1m0s\u001b[0m 27ms/step - loss: 7.5834 - mae: 7.5834 \n",
            "Epoch 62/100\n",
            "\u001b[1m2/2\u001b[0m \u001b[32m━━━━━━━━━━━━━━━━━━━━\u001b[0m\u001b[37m\u001b[0m \u001b[1m0s\u001b[0m 29ms/step - loss: 8.2402 - mae: 8.2402\n",
            "Epoch 63/100\n",
            "\u001b[1m2/2\u001b[0m \u001b[32m━━━━━━━━━━━━━━━━━━━━\u001b[0m\u001b[37m\u001b[0m \u001b[1m0s\u001b[0m 33ms/step - loss: 7.2005 - mae: 7.2005\n",
            "Epoch 64/100\n",
            "\u001b[1m2/2\u001b[0m \u001b[32m━━━━━━━━━━━━━━━━━━━━\u001b[0m\u001b[37m\u001b[0m \u001b[1m0s\u001b[0m 27ms/step - loss: 10.1900 - mae: 10.1900\n",
            "Epoch 65/100\n",
            "\u001b[1m2/2\u001b[0m \u001b[32m━━━━━━━━━━━━━━━━━━━━\u001b[0m\u001b[37m\u001b[0m \u001b[1m0s\u001b[0m 27ms/step - loss: 7.0167 - mae: 7.0167\n",
            "Epoch 66/100\n",
            "\u001b[1m2/2\u001b[0m \u001b[32m━━━━━━━━━━━━━━━━━━━━\u001b[0m\u001b[37m\u001b[0m \u001b[1m0s\u001b[0m 31ms/step - loss: 11.3800 - mae: 11.3800\n",
            "Epoch 67/100\n",
            "\u001b[1m2/2\u001b[0m \u001b[32m━━━━━━━━━━━━━━━━━━━━\u001b[0m\u001b[37m\u001b[0m \u001b[1m0s\u001b[0m 38ms/step - loss: 7.3798 - mae: 7.3798\n",
            "Epoch 68/100\n",
            "\u001b[1m2/2\u001b[0m \u001b[32m━━━━━━━━━━━━━━━━━━━━\u001b[0m\u001b[37m\u001b[0m \u001b[1m0s\u001b[0m 26ms/step - loss: 9.1241 - mae: 9.1241\n",
            "Epoch 69/100\n",
            "\u001b[1m2/2\u001b[0m \u001b[32m━━━━━━━━━━━━━━━━━━━━\u001b[0m\u001b[37m\u001b[0m \u001b[1m0s\u001b[0m 27ms/step - loss: 7.3619 - mae: 7.3619\n",
            "Epoch 70/100\n",
            "\u001b[1m2/2\u001b[0m \u001b[32m━━━━━━━━━━━━━━━━━━━━\u001b[0m\u001b[37m\u001b[0m \u001b[1m0s\u001b[0m 29ms/step - loss: 9.1125 - mae: 9.1125\n",
            "Epoch 71/100\n",
            "\u001b[1m2/2\u001b[0m \u001b[32m━━━━━━━━━━━━━━━━━━━━\u001b[0m\u001b[37m\u001b[0m \u001b[1m0s\u001b[0m 33ms/step - loss: 7.3441 - mae: 7.3441\n",
            "Epoch 72/100\n",
            "\u001b[1m2/2\u001b[0m \u001b[32m━━━━━━━━━━━━━━━━━━━━\u001b[0m\u001b[37m\u001b[0m \u001b[1m0s\u001b[0m 27ms/step - loss: 9.1827 - mae: 9.1827\n",
            "Epoch 73/100\n",
            "\u001b[1m2/2\u001b[0m \u001b[32m━━━━━━━━━━━━━━━━━━━━\u001b[0m\u001b[37m\u001b[0m \u001b[1m0s\u001b[0m 27ms/step - loss: 6.8902 - mae: 6.8902\n",
            "Epoch 74/100\n",
            "\u001b[1m2/2\u001b[0m \u001b[32m━━━━━━━━━━━━━━━━━━━━\u001b[0m\u001b[37m\u001b[0m \u001b[1m0s\u001b[0m 39ms/step - loss: 9.5773 - mae: 9.5773\n",
            "Epoch 75/100\n",
            "\u001b[1m2/2\u001b[0m \u001b[32m━━━━━━━━━━━━━━━━━━━━\u001b[0m\u001b[37m\u001b[0m \u001b[1m0s\u001b[0m 27ms/step - loss: 11.3466 - mae: 11.3466\n",
            "Epoch 76/100\n",
            "\u001b[1m2/2\u001b[0m \u001b[32m━━━━━━━━━━━━━━━━━━━━\u001b[0m\u001b[37m\u001b[0m \u001b[1m0s\u001b[0m 28ms/step - loss: 12.0947 - mae: 12.0947\n",
            "Epoch 77/100\n",
            "\u001b[1m2/2\u001b[0m \u001b[32m━━━━━━━━━━━━━━━━━━━━\u001b[0m\u001b[37m\u001b[0m \u001b[1m0s\u001b[0m 28ms/step - loss: 7.4548 - mae: 7.4548\n",
            "Epoch 78/100\n",
            "\u001b[1m2/2\u001b[0m \u001b[32m━━━━━━━━━━━━━━━━━━━━\u001b[0m\u001b[37m\u001b[0m \u001b[1m0s\u001b[0m 34ms/step - loss: 8.1363 - mae: 8.1363\n",
            "Epoch 79/100\n",
            "\u001b[1m2/2\u001b[0m \u001b[32m━━━━━━━━━━━━━━━━━━━━\u001b[0m\u001b[37m\u001b[0m \u001b[1m0s\u001b[0m 27ms/step - loss: 7.0474 - mae: 7.0474 \n",
            "Epoch 80/100\n",
            "\u001b[1m2/2\u001b[0m \u001b[32m━━━━━━━━━━━━━━━━━━━━\u001b[0m\u001b[37m\u001b[0m \u001b[1m0s\u001b[0m 28ms/step - loss: 10.1228 - mae: 10.1228\n",
            "Epoch 81/100\n",
            "\u001b[1m2/2\u001b[0m \u001b[32m━━━━━━━━━━━━━━━━━━━━\u001b[0m\u001b[37m\u001b[0m \u001b[1m0s\u001b[0m 34ms/step - loss: 6.8513 - mae: 6.8513\n",
            "Epoch 82/100\n",
            "\u001b[1m2/2\u001b[0m \u001b[32m━━━━━━━━━━━━━━━━━━━━\u001b[0m\u001b[37m\u001b[0m \u001b[1m0s\u001b[0m 27ms/step - loss: 11.3892 - mae: 11.3892 \n",
            "Epoch 83/100\n",
            "\u001b[1m2/2\u001b[0m \u001b[32m━━━━━━━━━━━━━━━━━━━━\u001b[0m\u001b[37m\u001b[0m \u001b[1m0s\u001b[0m 29ms/step - loss: 6.8266 - mae: 6.8266\n",
            "Epoch 84/100\n",
            "\u001b[1m2/2\u001b[0m \u001b[32m━━━━━━━━━━━━━━━━━━━━\u001b[0m\u001b[37m\u001b[0m \u001b[1m0s\u001b[0m 30ms/step - loss: 11.3075 - mae: 11.3075\n",
            "Epoch 85/100\n",
            "\u001b[1m2/2\u001b[0m \u001b[32m━━━━━━━━━━━━━━━━━━━━\u001b[0m\u001b[37m\u001b[0m \u001b[1m0s\u001b[0m 27ms/step - loss: 6.7126 - mae: 6.7126\n",
            "Epoch 86/100\n",
            "\u001b[1m2/2\u001b[0m \u001b[32m━━━━━━━━━━━━━━━━━━━━\u001b[0m\u001b[37m\u001b[0m \u001b[1m0s\u001b[0m 27ms/step - loss: 7.7593 - mae: 7.7593\n",
            "Epoch 87/100\n",
            "\u001b[1m2/2\u001b[0m \u001b[32m━━━━━━━━━━━━━━━━━━━━\u001b[0m\u001b[37m\u001b[0m \u001b[1m0s\u001b[0m 26ms/step - loss: 9.2280 - mae: 9.2280\n",
            "Epoch 88/100\n",
            "\u001b[1m2/2\u001b[0m \u001b[32m━━━━━━━━━━━━━━━━━━━━\u001b[0m\u001b[37m\u001b[0m \u001b[1m0s\u001b[0m 36ms/step - loss: 10.9139 - mae: 10.9139\n",
            "Epoch 89/100\n",
            "\u001b[1m2/2\u001b[0m \u001b[32m━━━━━━━━━━━━━━━━━━━━\u001b[0m\u001b[37m\u001b[0m \u001b[1m0s\u001b[0m 26ms/step - loss: 7.8690 - mae: 7.8690\n",
            "Epoch 90/100\n",
            "\u001b[1m2/2\u001b[0m \u001b[32m━━━━━━━━━━━━━━━━━━━━\u001b[0m\u001b[37m\u001b[0m \u001b[1m0s\u001b[0m 28ms/step - loss: 9.3378 - mae: 9.3378\n",
            "Epoch 91/100\n",
            "\u001b[1m2/2\u001b[0m \u001b[32m━━━━━━━━━━━━━━━━━━━━\u001b[0m\u001b[37m\u001b[0m \u001b[1m0s\u001b[0m 27ms/step - loss: 11.0666 - mae: 11.0666\n",
            "Epoch 92/100\n",
            "\u001b[1m2/2\u001b[0m \u001b[32m━━━━━━━━━━━━━━━━━━━━\u001b[0m\u001b[37m\u001b[0m \u001b[1m0s\u001b[0m 26ms/step - loss: 12.1291 - mae: 12.1291\n",
            "Epoch 93/100\n",
            "\u001b[1m2/2\u001b[0m \u001b[32m━━━━━━━━━━━━━━━━━━━━\u001b[0m\u001b[37m\u001b[0m \u001b[1m0s\u001b[0m 26ms/step - loss: 7.3612 - mae: 7.3612\n",
            "Epoch 94/100\n",
            "\u001b[1m2/2\u001b[0m \u001b[32m━━━━━━━━━━━━━━━━━━━━\u001b[0m\u001b[37m\u001b[0m \u001b[1m0s\u001b[0m 26ms/step - loss: 8.0827 - mae: 8.0827\n",
            "Epoch 95/100\n",
            "\u001b[1m2/2\u001b[0m \u001b[32m━━━━━━━━━━━━━━━━━━━━\u001b[0m\u001b[37m\u001b[0m \u001b[1m0s\u001b[0m 28ms/step - loss: 7.0603 - mae: 7.0603\n",
            "Epoch 96/100\n",
            "\u001b[1m2/2\u001b[0m \u001b[32m━━━━━━━━━━━━━━━━━━━━\u001b[0m\u001b[37m\u001b[0m \u001b[1m0s\u001b[0m 35ms/step - loss: 8.8783 - mae: 8.8783\n",
            "Epoch 97/100\n",
            "\u001b[1m2/2\u001b[0m \u001b[32m━━━━━━━━━━━━━━━━━━━━\u001b[0m\u001b[37m\u001b[0m \u001b[1m0s\u001b[0m 28ms/step - loss: 6.8426 - mae: 6.8426 \n",
            "Epoch 98/100\n",
            "\u001b[1m2/2\u001b[0m \u001b[32m━━━━━━━━━━━━━━━━━━━━\u001b[0m\u001b[37m\u001b[0m \u001b[1m0s\u001b[0m 26ms/step - loss: 10.6840 - mae: 10.6840\n",
            "Epoch 99/100\n",
            "\u001b[1m2/2\u001b[0m \u001b[32m━━━━━━━━━━━━━━━━━━━━\u001b[0m\u001b[37m\u001b[0m \u001b[1m0s\u001b[0m 30ms/step - loss: 7.6679 - mae: 7.6679\n",
            "Epoch 100/100\n",
            "\u001b[1m2/2\u001b[0m \u001b[32m━━━━━━━━━━━━━━━━━━━━\u001b[0m\u001b[37m\u001b[0m \u001b[1m0s\u001b[0m 31ms/step - loss: 9.1366 - mae: 9.1366\n"
          ]
        },
        {
          "output_type": "execute_result",
          "data": {
            "text/plain": [
              "<keras.src.callbacks.history.History at 0x7baf3dd06cd0>"
            ]
          },
          "metadata": {},
          "execution_count": 63
        }
      ]
    },
    {
      "cell_type": "code",
      "source": [
        "# Get a summary of our model\n",
        "model.summary()"
      ],
      "metadata": {
        "colab": {
          "base_uri": "https://localhost:8080/",
          "height": 187
        },
        "id": "uJ9oxw-nn4kg",
        "outputId": "0e84adaf-ec79-4bdb-9daf-f9be0119f9e0"
      },
      "execution_count": 64,
      "outputs": [
        {
          "output_type": "display_data",
          "data": {
            "text/plain": [
              "\u001b[1mModel: \"model_1\"\u001b[0m\n"
            ],
            "text/html": [
              "<pre style=\"white-space:pre;overflow-x:auto;line-height:normal;font-family:Menlo,'DejaVu Sans Mono',consolas,'Courier New',monospace\"><span style=\"font-weight: bold\">Model: \"model_1\"</span>\n",
              "</pre>\n"
            ]
          },
          "metadata": {}
        },
        {
          "output_type": "display_data",
          "data": {
            "text/plain": [
              "┏━━━━━━━━━━━━━━━━━━━━━━━━━━━━━━━━━━━━━━┳━━━━━━━━━━━━━━━━━━━━━━━━━━━━━┳━━━━━━━━━━━━━━━━━┓\n",
              "┃\u001b[1m \u001b[0m\u001b[1mLayer (type)                        \u001b[0m\u001b[1m \u001b[0m┃\u001b[1m \u001b[0m\u001b[1mOutput Shape               \u001b[0m\u001b[1m \u001b[0m┃\u001b[1m \u001b[0m\u001b[1m        Param #\u001b[0m\u001b[1m \u001b[0m┃\n",
              "┡━━━━━━━━━━━━━━━━━━━━━━━━━━━━━━━━━━━━━━╇━━━━━━━━━━━━━━━━━━━━━━━━━━━━━╇━━━━━━━━━━━━━━━━━┩\n",
              "│ output_layer (\u001b[38;5;33mDense\u001b[0m)                 │ (\u001b[38;5;45mNone\u001b[0m, \u001b[38;5;34m1\u001b[0m)                   │               \u001b[38;5;34m2\u001b[0m │\n",
              "└──────────────────────────────────────┴─────────────────────────────┴─────────────────┘\n"
            ],
            "text/html": [
              "<pre style=\"white-space:pre;overflow-x:auto;line-height:normal;font-family:Menlo,'DejaVu Sans Mono',consolas,'Courier New',monospace\">┏━━━━━━━━━━━━━━━━━━━━━━━━━━━━━━━━━━━━━━┳━━━━━━━━━━━━━━━━━━━━━━━━━━━━━┳━━━━━━━━━━━━━━━━━┓\n",
              "┃<span style=\"font-weight: bold\"> Layer (type)                         </span>┃<span style=\"font-weight: bold\"> Output Shape                </span>┃<span style=\"font-weight: bold\">         Param # </span>┃\n",
              "┡━━━━━━━━━━━━━━━━━━━━━━━━━━━━━━━━━━━━━━╇━━━━━━━━━━━━━━━━━━━━━━━━━━━━━╇━━━━━━━━━━━━━━━━━┩\n",
              "│ output_layer (<span style=\"color: #0087ff; text-decoration-color: #0087ff\">Dense</span>)                 │ (<span style=\"color: #00d7ff; text-decoration-color: #00d7ff\">None</span>, <span style=\"color: #00af00; text-decoration-color: #00af00\">1</span>)                   │               <span style=\"color: #00af00; text-decoration-color: #00af00\">2</span> │\n",
              "└──────────────────────────────────────┴─────────────────────────────┴─────────────────┘\n",
              "</pre>\n"
            ]
          },
          "metadata": {}
        },
        {
          "output_type": "display_data",
          "data": {
            "text/plain": [
              "\u001b[1m Total params: \u001b[0m\u001b[38;5;34m4\u001b[0m (20.00 B)\n"
            ],
            "text/html": [
              "<pre style=\"white-space:pre;overflow-x:auto;line-height:normal;font-family:Menlo,'DejaVu Sans Mono',consolas,'Courier New',monospace\"><span style=\"font-weight: bold\"> Total params: </span><span style=\"color: #00af00; text-decoration-color: #00af00\">4</span> (20.00 B)\n",
              "</pre>\n"
            ]
          },
          "metadata": {}
        },
        {
          "output_type": "display_data",
          "data": {
            "text/plain": [
              "\u001b[1m Trainable params: \u001b[0m\u001b[38;5;34m2\u001b[0m (8.00 B)\n"
            ],
            "text/html": [
              "<pre style=\"white-space:pre;overflow-x:auto;line-height:normal;font-family:Menlo,'DejaVu Sans Mono',consolas,'Courier New',monospace\"><span style=\"font-weight: bold\"> Trainable params: </span><span style=\"color: #00af00; text-decoration-color: #00af00\">2</span> (8.00 B)\n",
              "</pre>\n"
            ]
          },
          "metadata": {}
        },
        {
          "output_type": "display_data",
          "data": {
            "text/plain": [
              "\u001b[1m Non-trainable params: \u001b[0m\u001b[38;5;34m0\u001b[0m (0.00 B)\n"
            ],
            "text/html": [
              "<pre style=\"white-space:pre;overflow-x:auto;line-height:normal;font-family:Menlo,'DejaVu Sans Mono',consolas,'Courier New',monospace\"><span style=\"font-weight: bold\"> Non-trainable params: </span><span style=\"color: #00af00; text-decoration-color: #00af00\">0</span> (0.00 B)\n",
              "</pre>\n"
            ]
          },
          "metadata": {}
        },
        {
          "output_type": "display_data",
          "data": {
            "text/plain": [
              "\u001b[1m Optimizer params: \u001b[0m\u001b[38;5;34m2\u001b[0m (12.00 B)\n"
            ],
            "text/html": [
              "<pre style=\"white-space:pre;overflow-x:auto;line-height:normal;font-family:Menlo,'DejaVu Sans Mono',consolas,'Courier New',monospace\"><span style=\"font-weight: bold\"> Optimizer params: </span><span style=\"color: #00af00; text-decoration-color: #00af00\">2</span> (12.00 B)\n",
              "</pre>\n"
            ]
          },
          "metadata": {}
        }
      ]
    },
    {
      "cell_type": "code",
      "source": [
        "from tensorflow.keras.utils import plot_model\n",
        "plot_model(model=model, show_shapes=True)"
      ],
      "metadata": {
        "colab": {
          "base_uri": "https://localhost:8080/",
          "height": 273
        },
        "id": "JoUOR083rXc5",
        "outputId": "f4fd1bba-3558-42a1-b272-9ae04d9742ea"
      },
      "execution_count": 65,
      "outputs": [
        {
          "output_type": "execute_result",
          "data": {
            "image/png": "[encoded data removed]",
            "text/plain": [
              "<IPython.core.display.Image object>"
            ]
          },
          "metadata": {},
          "execution_count": 65
        }
      ]
    },
    {
      "cell_type": "markdown",
      "source": [
        "### Visualizing our model's predictions\n",
        "\n",
        "To visualize predictions, it's a good idea to plot them against the ground truth lables.\n",
        "\n",
        "Often you'll see this in the form of 'y_test' or `y_true` versus `y_pred` (ground truth versus your model's predictions)."
      ],
      "metadata": {
        "id": "QC5WigG_rwf0"
      }
    },
    {
      "cell_type": "code",
      "source": [
        "# Make some predicitons\n",
        "y_pred = model.predict(X_test)\n",
        "y_pred"
      ],
      "metadata": {
        "colab": {
          "base_uri": "https://localhost:8080/"
        },
        "id": "91sSo1T2I6wz",
        "outputId": "bf080223-11e6-4060-abd2-2785bcecd0d8"
      },
      "execution_count": 66,
      "outputs": [
        {
          "output_type": "stream",
          "name": "stdout",
          "text": [
            "\u001b[1m1/1\u001b[0m \u001b[32m━━━━━━━━━━━━━━━━━━━━\u001b[0m\u001b[37m\u001b[0m \u001b[1m0s\u001b[0m 81ms/step\n"
          ]
        },
        {
          "output_type": "execute_result",
          "data": {
            "text/plain": [
              "array([[ 69.17749 ],\n",
              "       [ 73.69649 ],\n",
              "       [ 78.215485],\n",
              "       [ 82.73448 ],\n",
              "       [ 87.25349 ],\n",
              "       [ 91.772484],\n",
              "       [ 96.29148 ],\n",
              "       [100.810486],\n",
              "       [105.32948 ],\n",
              "       [109.84848 ]], dtype=float32)"
            ]
          },
          "metadata": {},
          "execution_count": 66
        }
      ]
    },
    {
      "cell_type": "code",
      "source": [
        "y_test"
      ],
      "metadata": {
        "colab": {
          "base_uri": "https://localhost:8080/"
        },
        "id": "En87Ie5-JLvC",
        "outputId": "20e26ddb-3e0f-4c4c-bbbb-d50624814759"
      },
      "execution_count": 67,
      "outputs": [
        {
          "output_type": "execute_result",
          "data": {
            "text/plain": [
              "<tf.Tensor: shape=(10,), dtype=int32, numpy=array([ 70,  74,  78,  82,  86,  90,  94,  98, 102, 106], dtype=int32)>"
            ]
          },
          "metadata": {},
          "execution_count": 67
        }
      ]
    },
    {
      "cell_type": "markdown",
      "source": [
        "🔑 **Note** If you feel like you're goind to reuse some kind of functionality in the future, it's a good idea to turn it into a function."
      ],
      "metadata": {
        "id": "On5EOvCnJ7tp"
      }
    },
    {
      "cell_type": "code",
      "source": [
        "# Let's create a plotting function\n",
        "def plot_predictions(train_data=X_train,\n",
        "                     train_labels=y_train,\n",
        "                     test_data=X_test,\n",
        "                     test_labels=y_test,\n",
        "                     predictions=y_pred):\n",
        "  \"\"\"\n",
        "  Plot training data, test data, and compares predictions to ground truth labels.\n",
        "  \"\"\"\n",
        "\n",
        "  plt.figure(figsize=(10,7))\n",
        "  # Plot training data in blue\n",
        "  plt.scatter(train_data, train_labels, c=\"b\", label=\"Training data\")\n",
        "  #Plot testing data in green\n",
        "  plt.scatter(test_data, test_labels, c=\"g\", label=\"Testing data\")\n",
        "  # Plot model's predicitons in red\n",
        "  plt.scatter(test_data, predictions, c=\"r\", label=\"Predicitons\")\n",
        "  # Show the legend\n",
        "  plt.legend();"
      ],
      "metadata": {
        "id": "XAcNjKnMKIzj"
      },
      "execution_count": 73,
      "outputs": []
    },
    {
      "cell_type": "code",
      "source": [
        "# plot_predictions()\n",
        "plot_predictions(train_data=X_train,\n",
        "                 train_labels=y_train,\n",
        "                 test_data=X_test,\n",
        "                 test_labels=y_test,\n",
        "                 predictions=y_pred)"
      ],
      "metadata": {
        "colab": {
          "base_uri": "https://localhost:8080/",
          "height": 599
        },
        "id": "MoI0KlhBYQoC",
        "outputId": "798ed73c-84bd-45a4-edf0-d04aab288e06"
      },
      "execution_count": 75,
      "outputs": [
        {
          "output_type": "display_data",
          "data": {
            "text/plain": [
              "<Figure size 1000x700 with 1 Axes>"
            ],
            "image/png": "[encoded data removed]"
          },
          "metadata": {}
        }
      ]
    },
    {
      "cell_type": "markdown",
      "source": [
        "### Evaluating our model's predicitons with regression evaluation metrics"
      ],
      "metadata": {
        "id": "QmINAE5DaQBV"
      }
    }
  ]
}