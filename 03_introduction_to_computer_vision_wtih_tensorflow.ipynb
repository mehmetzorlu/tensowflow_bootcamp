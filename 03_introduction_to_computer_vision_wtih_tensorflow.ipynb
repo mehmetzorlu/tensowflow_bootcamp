{
  "nbformat": 4,
  "nbformat_minor": 0,
  "metadata": {
    "colab": {
      "provenance": [],
      "authorship_tag": "ABX9TyNSGFt4Xl37GY604CMaJUFg"
    },
    "kernelspec": {
      "name": "python3",
      "display_name": "Python 3"
    },
    "language_info": {
      "name": "python"
    }
  },
  "cells": [
    {
      "cell_type": "markdown",
      "source": [
        "# Introduction to Convolutional Neural Networks and Computer Vision with TensorFlow\n",
        "\n",
        "Computer vision is the practice of writing algorithms which can discover patterns in visual data. Such as the camera of a self-driving car recognizing the car in front."
      ],
      "metadata": {
        "id": "Go9FjHMP4GGr"
      }
    },
    {
      "cell_type": "markdown",
      "source": [
        "## Get the data\n",
        "\n",
        "The images we're working with are from the Food101 dataset (101 different classes of food): https://www.kaggle.com/datasets/dansbecker/food-101\n",
        "\n",
        "However we've modified it to only use two classes (pizza 🍕 % steak 🥩) using the image data modification notebook:\n",
        "\n",
        "> 🔑 **Note:** We start with a smaller dataset so we can experiment quickly and figure what works (or better yet what doesn't work) before scaling up."
      ],
      "metadata": {
        "id": "I-iUCbfe6-JJ"
      }
    },
    {
      "cell_type": "code",
      "source": [
        "import zipfile\n",
        "\n",
        "!wget https://storage.googleapis.com/ztm_tf_course/food_vision/pizza_steak.zip\n",
        "\n",
        "# Unzip\n",
        "zip_ref = zipfile.ZipFile(\"pizza_steak.zip\")\n",
        "zip_ref.extractall()\n",
        "zip_ref.close()"
      ],
      "metadata": {
        "colab": {
          "base_uri": "https://localhost:8080/"
        },
        "id": "8NtvrwyK5tUu",
        "outputId": "6da1053c-2bbf-4ec5-9764-22dd00956cca"
      },
      "execution_count": 1,
      "outputs": [
        {
          "output_type": "stream",
          "name": "stdout",
          "text": [
            "--2025-03-14 23:14:29--  https://storage.googleapis.com/ztm_tf_course/food_vision/pizza_steak.zip\n",
            "Resolving storage.googleapis.com (storage.googleapis.com)... 64.233.181.207, 173.194.193.207, 173.194.194.207, ...\n",
            "Connecting to storage.googleapis.com (storage.googleapis.com)|64.233.181.207|:443... connected.\n",
            "HTTP request sent, awaiting response... 200 OK\n",
            "Length: 109540975 (104M) [application/zip]\n",
            "Saving to: ‘pizza_steak.zip’\n",
            "\n",
            "pizza_steak.zip     100%[===================>] 104.47M  89.1MB/s    in 1.2s    \n",
            "\n",
            "2025-03-14 23:14:31 (89.1 MB/s) - ‘pizza_steak.zip’ saved [109540975/109540975]\n",
            "\n"
          ]
        }
      ]
    },
    {
      "cell_type": "code",
      "source": [],
      "metadata": {
        "id": "mzkRVnZ87wYp"
      },
      "execution_count": null,
      "outputs": []
    }
  ]
}